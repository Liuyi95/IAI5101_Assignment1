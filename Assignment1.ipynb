{
 "cells": [
  {
   "cell_type": "code",
   "execution_count": 1,
   "id": "0b7939ec",
   "metadata": {},
   "outputs": [
    {
     "data": {
      "text/plain": [
       "(110527, 14)"
      ]
     },
     "execution_count": 1,
     "metadata": {},
     "output_type": "execute_result"
    }
   ],
   "source": [
    "import pandas as pd\n",
    "data = pd.read_csv('MedicalCentre.csv')\n",
    "data.shape"
   ]
  },
  {
   "cell_type": "code",
   "execution_count": 2,
   "id": "4ac85cc3",
   "metadata": {},
   "outputs": [],
   "source": [
    "import sklearn.metrics as metrics\n",
    "from sklearn.metrics import confusion_matrix, f1_score\n",
    "from sklearn.metrics import classification_report,confusion_matrix\n",
    "from sklearn import model_selection\n",
    "from sklearn.model_selection import StratifiedKFold\n",
    "from sklearn.model_selection import cross_val_score\n",
    "from sklearn.metrics import confusion_matrix, f1_score\n",
    "from sklearn.metrics import f1_score, precision_score, recall_score, accuracy_score"
   ]
  },
  {
   "cell_type": "markdown",
   "id": "3db156d8",
   "metadata": {},
   "source": [
    "# A. Data Wrangling & Feature Engineering"
   ]
  },
  {
   "cell_type": "code",
   "execution_count": 3,
   "id": "cfa59d42",
   "metadata": {},
   "outputs": [
    {
     "data": {
      "text/html": [
       "<div>\n",
       "<style scoped>\n",
       "    .dataframe tbody tr th:only-of-type {\n",
       "        vertical-align: middle;\n",
       "    }\n",
       "\n",
       "    .dataframe tbody tr th {\n",
       "        vertical-align: top;\n",
       "    }\n",
       "\n",
       "    .dataframe thead th {\n",
       "        text-align: right;\n",
       "    }\n",
       "</style>\n",
       "<table border=\"1\" class=\"dataframe\">\n",
       "  <thead>\n",
       "    <tr style=\"text-align: right;\">\n",
       "      <th></th>\n",
       "      <th>PatientID</th>\n",
       "      <th>AppointmentID</th>\n",
       "      <th>Gender</th>\n",
       "      <th>ScheduledDay</th>\n",
       "      <th>AppointmentDay</th>\n",
       "      <th>Age</th>\n",
       "      <th>Neighbourhood</th>\n",
       "      <th>Scholarship</th>\n",
       "      <th>Hypertension</th>\n",
       "      <th>Diabetes</th>\n",
       "      <th>Alcoholism</th>\n",
       "      <th>Handicap</th>\n",
       "      <th>SMS_received</th>\n",
       "      <th>No-show</th>\n",
       "    </tr>\n",
       "  </thead>\n",
       "  <tbody>\n",
       "    <tr>\n",
       "      <th>0</th>\n",
       "      <td>2.990000e+13</td>\n",
       "      <td>5642903</td>\n",
       "      <td>F</td>\n",
       "      <td>2016-04-29T18:38:08Z</td>\n",
       "      <td>2016-04-29T00:00:00Z</td>\n",
       "      <td>62.0</td>\n",
       "      <td>JARDIM DA PENHA</td>\n",
       "      <td>0</td>\n",
       "      <td>1</td>\n",
       "      <td>0</td>\n",
       "      <td>0</td>\n",
       "      <td>0</td>\n",
       "      <td>0</td>\n",
       "      <td>No</td>\n",
       "    </tr>\n",
       "    <tr>\n",
       "      <th>1</th>\n",
       "      <td>5.590000e+14</td>\n",
       "      <td>5642503</td>\n",
       "      <td>M</td>\n",
       "      <td>2016-04-29T16:08:27Z</td>\n",
       "      <td>2016-04-29T00:00:00Z</td>\n",
       "      <td>56.0</td>\n",
       "      <td>JARDIM DA PENHA</td>\n",
       "      <td>0</td>\n",
       "      <td>0</td>\n",
       "      <td>0</td>\n",
       "      <td>0</td>\n",
       "      <td>0</td>\n",
       "      <td>0</td>\n",
       "      <td>No</td>\n",
       "    </tr>\n",
       "    <tr>\n",
       "      <th>2</th>\n",
       "      <td>4.260000e+12</td>\n",
       "      <td>5642549</td>\n",
       "      <td>F</td>\n",
       "      <td>2016-04-29T16:19:04Z</td>\n",
       "      <td>2016-04-29T00:00:00Z</td>\n",
       "      <td>62.0</td>\n",
       "      <td>MATA DA PRAIA</td>\n",
       "      <td>0</td>\n",
       "      <td>0</td>\n",
       "      <td>0</td>\n",
       "      <td>0</td>\n",
       "      <td>0</td>\n",
       "      <td>0</td>\n",
       "      <td>No</td>\n",
       "    </tr>\n",
       "    <tr>\n",
       "      <th>3</th>\n",
       "      <td>8.680000e+11</td>\n",
       "      <td>5642828</td>\n",
       "      <td>F</td>\n",
       "      <td>2016-04-29T17:29:31Z</td>\n",
       "      <td>2016-04-29T00:00:00Z</td>\n",
       "      <td>8.0</td>\n",
       "      <td>PONTAL DE CAMBURI</td>\n",
       "      <td>0</td>\n",
       "      <td>0</td>\n",
       "      <td>0</td>\n",
       "      <td>0</td>\n",
       "      <td>0</td>\n",
       "      <td>0</td>\n",
       "      <td>No</td>\n",
       "    </tr>\n",
       "    <tr>\n",
       "      <th>4</th>\n",
       "      <td>8.840000e+12</td>\n",
       "      <td>5642494</td>\n",
       "      <td>F</td>\n",
       "      <td>2016-04-29T16:07:23Z</td>\n",
       "      <td>2016-04-29T00:00:00Z</td>\n",
       "      <td>56.0</td>\n",
       "      <td>JARDIM DA PENHA</td>\n",
       "      <td>0</td>\n",
       "      <td>1</td>\n",
       "      <td>1</td>\n",
       "      <td>0</td>\n",
       "      <td>0</td>\n",
       "      <td>0</td>\n",
       "      <td>No</td>\n",
       "    </tr>\n",
       "  </tbody>\n",
       "</table>\n",
       "</div>"
      ],
      "text/plain": [
       "      PatientID  AppointmentID Gender          ScheduledDay  \\\n",
       "0  2.990000e+13        5642903      F  2016-04-29T18:38:08Z   \n",
       "1  5.590000e+14        5642503      M  2016-04-29T16:08:27Z   \n",
       "2  4.260000e+12        5642549      F  2016-04-29T16:19:04Z   \n",
       "3  8.680000e+11        5642828      F  2016-04-29T17:29:31Z   \n",
       "4  8.840000e+12        5642494      F  2016-04-29T16:07:23Z   \n",
       "\n",
       "         AppointmentDay   Age      Neighbourhood  Scholarship  Hypertension  \\\n",
       "0  2016-04-29T00:00:00Z  62.0    JARDIM DA PENHA            0             1   \n",
       "1  2016-04-29T00:00:00Z  56.0    JARDIM DA PENHA            0             0   \n",
       "2  2016-04-29T00:00:00Z  62.0      MATA DA PRAIA            0             0   \n",
       "3  2016-04-29T00:00:00Z   8.0  PONTAL DE CAMBURI            0             0   \n",
       "4  2016-04-29T00:00:00Z  56.0    JARDIM DA PENHA            0             1   \n",
       "\n",
       "   Diabetes  Alcoholism  Handicap  SMS_received No-show  \n",
       "0         0           0         0             0      No  \n",
       "1         0           0         0             0      No  \n",
       "2         0           0         0             0      No  \n",
       "3         0           0         0             0      No  \n",
       "4         1           0         0             0      No  "
      ]
     },
     "execution_count": 3,
     "metadata": {},
     "output_type": "execute_result"
    }
   ],
   "source": [
    "data.head()"
   ]
  },
  {
   "cell_type": "code",
   "execution_count": 4,
   "id": "c401d6a9",
   "metadata": {},
   "outputs": [
    {
     "name": "stdout",
     "output_type": "stream",
     "text": [
      "<class 'pandas.core.frame.DataFrame'>\n",
      "RangeIndex: 110527 entries, 0 to 110526\n",
      "Data columns (total 14 columns):\n",
      " #   Column          Non-Null Count   Dtype  \n",
      "---  ------          --------------   -----  \n",
      " 0   PatientID       110527 non-null  float64\n",
      " 1   AppointmentID   110527 non-null  int64  \n",
      " 2   Gender          110527 non-null  object \n",
      " 3   ScheduledDay    110527 non-null  object \n",
      " 4   AppointmentDay  110527 non-null  object \n",
      " 5   Age             110524 non-null  float64\n",
      " 6   Neighbourhood   110527 non-null  object \n",
      " 7   Scholarship     110527 non-null  int64  \n",
      " 8   Hypertension    110527 non-null  int64  \n",
      " 9   Diabetes        110527 non-null  int64  \n",
      " 10  Alcoholism      110527 non-null  int64  \n",
      " 11  Handicap        110527 non-null  int64  \n",
      " 12  SMS_received    110527 non-null  int64  \n",
      " 13  No-show         110527 non-null  object \n",
      "dtypes: float64(2), int64(7), object(5)\n",
      "memory usage: 11.8+ MB\n"
     ]
    }
   ],
   "source": [
    "data.info()"
   ]
  },
  {
   "cell_type": "markdown",
   "id": "78d2a881",
   "metadata": {},
   "source": [
    "### 1. Prepare the data for downstream processes, e.g., deal with missing values, duplicates \t"
   ]
  },
  {
   "cell_type": "markdown",
   "id": "f2dadd79",
   "metadata": {},
   "source": [
    "### Missing values"
   ]
  },
  {
   "cell_type": "code",
   "execution_count": 5,
   "id": "83bfc8bb",
   "metadata": {},
   "outputs": [
    {
     "data": {
      "text/plain": [
       "PatientID         0\n",
       "AppointmentID     0\n",
       "Gender            0\n",
       "ScheduledDay      0\n",
       "AppointmentDay    0\n",
       "Age               3\n",
       "Neighbourhood     0\n",
       "Scholarship       0\n",
       "Hypertension      0\n",
       "Diabetes          0\n",
       "Alcoholism        0\n",
       "Handicap          0\n",
       "SMS_received      0\n",
       "No-show           0\n",
       "dtype: int64"
      ]
     },
     "execution_count": 5,
     "metadata": {},
     "output_type": "execute_result"
    }
   ],
   "source": [
    "data.isnull().sum()"
   ]
  },
  {
   "cell_type": "code",
   "execution_count": 6,
   "id": "3b779a48",
   "metadata": {},
   "outputs": [
    {
     "data": {
      "text/plain": [
       "(110524, 14)"
      ]
     },
     "execution_count": 6,
     "metadata": {},
     "output_type": "execute_result"
    }
   ],
   "source": [
    "# deal with missing values\n",
    "data=data.dropna()\n",
    "data.shape"
   ]
  },
  {
   "cell_type": "markdown",
   "id": "894f91da",
   "metadata": {},
   "source": [
    "We can see that there is 110524 rows now, we drop 3 null values which is in the age columns."
   ]
  },
  {
   "cell_type": "markdown",
   "id": "d246d2ed",
   "metadata": {},
   "source": [
    "### Duplicates \t"
   ]
  },
  {
   "cell_type": "code",
   "execution_count": 7,
   "id": "a8a68259",
   "metadata": {},
   "outputs": [
    {
     "name": "stdout",
     "output_type": "stream",
     "text": [
      "Duplicates:\n",
      " 0\n"
     ]
    },
    {
     "data": {
      "text/plain": [
       "(110524, 14)"
      ]
     },
     "execution_count": 7,
     "metadata": {},
     "output_type": "execute_result"
    }
   ],
   "source": [
    "# drop duplicates\n",
    "print(\"Duplicates:\\n\", data.duplicated().sum())\n",
    "data = data.drop_duplicates()\n",
    "data.shape"
   ]
  },
  {
   "cell_type": "markdown",
   "id": "488b75a5",
   "metadata": {},
   "source": [
    "No duplicate data in our dataset，and we don't need patientID and AppointmentID in the later analysis, so we drop them from the dataset in advance。"
   ]
  },
  {
   "cell_type": "code",
   "execution_count": 8,
   "id": "4c33b6d6",
   "metadata": {},
   "outputs": [
    {
     "data": {
      "text/plain": [
       "(110524, 12)"
      ]
     },
     "execution_count": 8,
     "metadata": {},
     "output_type": "execute_result"
    }
   ],
   "source": [
    "##drop the patientID and AppointmentID\n",
    "data=data.drop(['PatientID','AppointmentID'],axis=1,inplace=False)\n",
    "data.shape"
   ]
  },
  {
   "cell_type": "markdown",
   "id": "d65374de",
   "metadata": {},
   "source": [
    "### 2.Determine the frequency of distinct values in each feature set"
   ]
  },
  {
   "cell_type": "code",
   "execution_count": 9,
   "id": "8843a93e",
   "metadata": {
    "scrolled": true
   },
   "outputs": [
    {
     "data": {
      "text/html": [
       "<div>\n",
       "<style scoped>\n",
       "    .dataframe tbody tr th:only-of-type {\n",
       "        vertical-align: middle;\n",
       "    }\n",
       "\n",
       "    .dataframe tbody tr th {\n",
       "        vertical-align: top;\n",
       "    }\n",
       "\n",
       "    .dataframe thead th {\n",
       "        text-align: right;\n",
       "    }\n",
       "</style>\n",
       "<table border=\"1\" class=\"dataframe\">\n",
       "  <thead>\n",
       "    <tr style=\"text-align: right;\">\n",
       "      <th></th>\n",
       "      <th>Age</th>\n",
       "      <th>Scholarship</th>\n",
       "      <th>Hypertension</th>\n",
       "      <th>Diabetes</th>\n",
       "      <th>Alcoholism</th>\n",
       "      <th>Handicap</th>\n",
       "      <th>SMS_received</th>\n",
       "    </tr>\n",
       "  </thead>\n",
       "  <tbody>\n",
       "    <tr>\n",
       "      <th>count</th>\n",
       "      <td>110524.000000</td>\n",
       "      <td>110524.000000</td>\n",
       "      <td>110524.000000</td>\n",
       "      <td>110524.000000</td>\n",
       "      <td>110524.000000</td>\n",
       "      <td>110524.000000</td>\n",
       "      <td>110524.000000</td>\n",
       "    </tr>\n",
       "    <tr>\n",
       "      <th>mean</th>\n",
       "      <td>37.088488</td>\n",
       "      <td>0.098268</td>\n",
       "      <td>0.197251</td>\n",
       "      <td>0.071867</td>\n",
       "      <td>0.030401</td>\n",
       "      <td>0.022249</td>\n",
       "      <td>0.321025</td>\n",
       "    </tr>\n",
       "    <tr>\n",
       "      <th>std</th>\n",
       "      <td>23.110271</td>\n",
       "      <td>0.297678</td>\n",
       "      <td>0.397925</td>\n",
       "      <td>0.258268</td>\n",
       "      <td>0.171688</td>\n",
       "      <td>0.161545</td>\n",
       "      <td>0.466873</td>\n",
       "    </tr>\n",
       "    <tr>\n",
       "      <th>min</th>\n",
       "      <td>-1.000000</td>\n",
       "      <td>0.000000</td>\n",
       "      <td>0.000000</td>\n",
       "      <td>0.000000</td>\n",
       "      <td>0.000000</td>\n",
       "      <td>0.000000</td>\n",
       "      <td>0.000000</td>\n",
       "    </tr>\n",
       "    <tr>\n",
       "      <th>25%</th>\n",
       "      <td>18.000000</td>\n",
       "      <td>0.000000</td>\n",
       "      <td>0.000000</td>\n",
       "      <td>0.000000</td>\n",
       "      <td>0.000000</td>\n",
       "      <td>0.000000</td>\n",
       "      <td>0.000000</td>\n",
       "    </tr>\n",
       "    <tr>\n",
       "      <th>50%</th>\n",
       "      <td>37.000000</td>\n",
       "      <td>0.000000</td>\n",
       "      <td>0.000000</td>\n",
       "      <td>0.000000</td>\n",
       "      <td>0.000000</td>\n",
       "      <td>0.000000</td>\n",
       "      <td>0.000000</td>\n",
       "    </tr>\n",
       "    <tr>\n",
       "      <th>75%</th>\n",
       "      <td>55.000000</td>\n",
       "      <td>0.000000</td>\n",
       "      <td>0.000000</td>\n",
       "      <td>0.000000</td>\n",
       "      <td>0.000000</td>\n",
       "      <td>0.000000</td>\n",
       "      <td>1.000000</td>\n",
       "    </tr>\n",
       "    <tr>\n",
       "      <th>max</th>\n",
       "      <td>115.000000</td>\n",
       "      <td>1.000000</td>\n",
       "      <td>1.000000</td>\n",
       "      <td>1.000000</td>\n",
       "      <td>1.000000</td>\n",
       "      <td>4.000000</td>\n",
       "      <td>1.000000</td>\n",
       "    </tr>\n",
       "  </tbody>\n",
       "</table>\n",
       "</div>"
      ],
      "text/plain": [
       "                 Age    Scholarship   Hypertension       Diabetes  \\\n",
       "count  110524.000000  110524.000000  110524.000000  110524.000000   \n",
       "mean       37.088488       0.098268       0.197251       0.071867   \n",
       "std        23.110271       0.297678       0.397925       0.258268   \n",
       "min        -1.000000       0.000000       0.000000       0.000000   \n",
       "25%        18.000000       0.000000       0.000000       0.000000   \n",
       "50%        37.000000       0.000000       0.000000       0.000000   \n",
       "75%        55.000000       0.000000       0.000000       0.000000   \n",
       "max       115.000000       1.000000       1.000000       1.000000   \n",
       "\n",
       "          Alcoholism       Handicap   SMS_received  \n",
       "count  110524.000000  110524.000000  110524.000000  \n",
       "mean        0.030401       0.022249       0.321025  \n",
       "std         0.171688       0.161545       0.466873  \n",
       "min         0.000000       0.000000       0.000000  \n",
       "25%         0.000000       0.000000       0.000000  \n",
       "50%         0.000000       0.000000       0.000000  \n",
       "75%         0.000000       0.000000       1.000000  \n",
       "max         1.000000       4.000000       1.000000  "
      ]
     },
     "execution_count": 9,
     "metadata": {},
     "output_type": "execute_result"
    }
   ],
   "source": [
    "# Check the descriptive statistics\n",
    "data.describe()"
   ]
  },
  {
   "cell_type": "code",
   "execution_count": 10,
   "id": "de8aea6a",
   "metadata": {},
   "outputs": [
    {
     "name": "stdout",
     "output_type": "stream",
     "text": [
      "Gender\n",
      "F    71838\n",
      "M    38686\n",
      "Name: Gender, dtype: int64\n",
      "\n",
      "ScheduledDay\n",
      "2016-05-06T07:09:54Z    24\n",
      "2016-05-06T07:09:53Z    23\n",
      "2016-04-25T17:17:46Z    22\n",
      "2016-04-25T17:18:27Z    22\n",
      "2016-04-25T17:17:23Z    19\n",
      "                        ..\n",
      "2016-05-16T09:12:51Z     1\n",
      "2016-05-09T10:48:50Z     1\n",
      "2016-05-02T09:53:25Z     1\n",
      "2016-05-30T09:12:28Z     1\n",
      "2016-04-27T13:30:56Z     1\n",
      "Name: ScheduledDay, Length: 103546, dtype: int64\n",
      "\n",
      "AppointmentDay\n",
      "2016-06-06T00:00:00Z    4692\n",
      "2016-05-16T00:00:00Z    4613\n",
      "2016-05-09T00:00:00Z    4520\n",
      "2016-05-30T00:00:00Z    4514\n",
      "2016-06-08T00:00:00Z    4479\n",
      "2016-05-11T00:00:00Z    4474\n",
      "2016-06-01T00:00:00Z    4464\n",
      "2016-06-07T00:00:00Z    4416\n",
      "2016-05-12T00:00:00Z    4394\n",
      "2016-05-02T00:00:00Z    4376\n",
      "2016-05-18T00:00:00Z    4373\n",
      "2016-05-17T00:00:00Z    4372\n",
      "2016-06-02T00:00:00Z    4310\n",
      "2016-05-10T00:00:00Z    4308\n",
      "2016-05-31T00:00:00Z    4279\n",
      "2016-05-05T00:00:00Z    4273\n",
      "2016-05-19T00:00:00Z    4270\n",
      "2016-05-03T00:00:00Z    4256\n",
      "2016-05-04T00:00:00Z    4168\n",
      "2016-06-03T00:00:00Z    4090\n",
      "2016-05-24T00:00:00Z    4009\n",
      "2016-05-13T00:00:00Z    3987\n",
      "2016-05-25T00:00:00Z    3909\n",
      "2016-05-06T00:00:00Z    3879\n",
      "2016-05-20T00:00:00Z    3828\n",
      "2016-04-29T00:00:00Z    3232\n",
      "2016-05-14T00:00:00Z      39\n",
      "Name: AppointmentDay, dtype: int64\n",
      "\n",
      "Age\n",
      " 0.0      3539\n",
      " 1.0      2273\n",
      " 52.0     1746\n",
      " 49.0     1652\n",
      " 53.0     1651\n",
      "          ... \n",
      " 115.0       5\n",
      " 100.0       4\n",
      " 102.0       2\n",
      " 99.0        1\n",
      "-1.0         1\n",
      "Name: Age, Length: 104, dtype: int64\n",
      "\n",
      "Neighbourhood\n",
      "JARDIM CAMBURI                 7717\n",
      "MARIA ORTIZ                    5805\n",
      "RESISTÊNCIA                    4431\n",
      "JARDIM DA PENHA                3877\n",
      "ITARARÉ                        3514\n",
      "                               ... \n",
      "ILHA DO BOI                      35\n",
      "ILHA DO FRADE                    10\n",
      "AEROPORTO                         8\n",
      "ILHAS OCEÂNICAS DE TRINDADE       2\n",
      "PARQUE INDUSTRIAL                 1\n",
      "Name: Neighbourhood, Length: 81, dtype: int64\n",
      "\n",
      "Scholarship\n",
      "0    99663\n",
      "1    10861\n",
      "Name: Scholarship, dtype: int64\n",
      "\n",
      "Hypertension\n",
      "0    88723\n",
      "1    21801\n",
      "Name: Hypertension, dtype: int64\n",
      "\n",
      "Diabetes\n",
      "0    102581\n",
      "1      7943\n",
      "Name: Diabetes, dtype: int64\n",
      "\n",
      "Alcoholism\n",
      "0    107164\n",
      "1      3360\n",
      "Name: Alcoholism, dtype: int64\n",
      "\n",
      "Handicap\n",
      "0    108283\n",
      "1      2042\n",
      "2       183\n",
      "3        13\n",
      "4         3\n",
      "Name: Handicap, dtype: int64\n",
      "\n",
      "SMS_received\n",
      "0    75043\n",
      "1    35481\n",
      "Name: SMS_received, dtype: int64\n",
      "\n",
      "No-show\n",
      "No     88205\n",
      "Yes    22319\n",
      "Name: No-show, dtype: int64\n",
      "\n"
     ]
    }
   ],
   "source": [
    "# check the frequency of distinct values in each feature set\n",
    "for column in data.columns:\n",
    "    print(column)\n",
    "    print(data[column].value_counts())\n",
    "    print()"
   ]
  },
  {
   "cell_type": "code",
   "execution_count": 11,
   "id": "1836d158",
   "metadata": {},
   "outputs": [
    {
     "name": "stdout",
     "output_type": "stream",
     "text": [
      "Gender 2\n",
      "ScheduledDay 103546\n",
      "AppointmentDay 27\n",
      "Age 104\n",
      "Neighbourhood 81\n",
      "Scholarship 2\n",
      "Hypertension 2\n",
      "Diabetes 2\n",
      "Alcoholism 2\n",
      "Handicap 5\n",
      "SMS_received 2\n",
      "No-show 2\n"
     ]
    }
   ],
   "source": [
    "# show frequency of distinct values in each colunm\n",
    "for col in data.columns:\n",
    "    print(col, data[col].nunique())"
   ]
  },
  {
   "cell_type": "markdown",
   "id": "fb823a95",
   "metadata": {},
   "source": [
    "### 3. Initialize a function to plot relevant features within the dataset to visualize for outliers"
   ]
  },
  {
   "cell_type": "code",
   "execution_count": 12,
   "id": "dfc19e2c",
   "metadata": {},
   "outputs": [
    {
     "name": "stdout",
     "output_type": "stream",
     "text": [
      "<class 'pandas.core.frame.DataFrame'>\n",
      "Int64Index: 110524 entries, 0 to 110526\n",
      "Data columns (total 12 columns):\n",
      " #   Column          Non-Null Count   Dtype  \n",
      "---  ------          --------------   -----  \n",
      " 0   Gender          110524 non-null  object \n",
      " 1   ScheduledDay    110524 non-null  object \n",
      " 2   AppointmentDay  110524 non-null  object \n",
      " 3   Age             110524 non-null  float64\n",
      " 4   Neighbourhood   110524 non-null  object \n",
      " 5   Scholarship     110524 non-null  int64  \n",
      " 6   Hypertension    110524 non-null  int64  \n",
      " 7   Diabetes        110524 non-null  int64  \n",
      " 8   Alcoholism      110524 non-null  int64  \n",
      " 9   Handicap        110524 non-null  int64  \n",
      " 10  SMS_received    110524 non-null  int64  \n",
      " 11  No-show         110524 non-null  object \n",
      "dtypes: float64(1), int64(6), object(5)\n",
      "memory usage: 11.0+ MB\n"
     ]
    }
   ],
   "source": [
    "data.info()"
   ]
  },
  {
   "cell_type": "code",
   "execution_count": 13,
   "id": "76aad1bf",
   "metadata": {},
   "outputs": [
    {
     "name": "stderr",
     "output_type": "stream",
     "text": [
      "/Users/liuyichen/opt/anaconda3/lib/python3.9/site-packages/seaborn/_decorators.py:36: FutureWarning: Pass the following variable as a keyword arg: x. From version 0.12, the only valid positional argument will be `data`, and passing other arguments without an explicit keyword will result in an error or misinterpretation.\n",
      "  warnings.warn(\n"
     ]
    },
    {
     "data": {
      "text/plain": [
       "<AxesSubplot:xlabel='Gender', ylabel='count'>"
      ]
     },
     "execution_count": 13,
     "metadata": {},
     "output_type": "execute_result"
    },
    {
     "data": {
      "image/png": "[encoded data removed]",
      "text/plain": [
       "<Figure size 640x480 with 1 Axes>"
      ]
     },
     "metadata": {},
     "output_type": "display_data"
    }
   ],
   "source": [
    "import matplotlib.pyplot as plt #to plot charts\n",
    "import seaborn as sns #used for data visualization\n",
    "sns.countplot('Gender',data=data)"
   ]
  },
  {
   "cell_type": "code",
   "execution_count": 14,
   "id": "1e04a141",
   "metadata": {},
   "outputs": [],
   "source": [
    "import numpy as np\n",
    "data['No-show'].replace('No', 0,inplace=True)\n",
    "data['No-show'].replace('Yes', 1,inplace=True)\n",
    "data['No-show'] = data['No-show'].apply(np.int64)"
   ]
  },
  {
   "cell_type": "code",
   "execution_count": 15,
   "id": "609c3075",
   "metadata": {},
   "outputs": [
    {
     "data": {
      "image/png": "[encoded data removed]",
      "text/plain": [
       "<Figure size 1000x1000 with 9 Axes>"
      ]
     },
     "metadata": {},
     "output_type": "display_data"
    }
   ],
   "source": [
    "#histogram for each  feature\n",
    "data.hist(bins=10,figsize=(10,10))\n",
    "plt.show() "
   ]
  },
  {
   "cell_type": "markdown",
   "id": "91a7154f",
   "metadata": {},
   "source": [
    "Outliers can only be checked for numerical values, so we see the data type where age is numerical type. From 5 scholarship to 10 SMS_received, except for 9 Handicap, these data types are all int64, but in question 2, we see that their distribution is only 2, which means they are binary, so none of them have outliers. For 9 Handicap, it has too few other values, so it won't have outliers either. \n",
    "\n",
    "We only need to focus on the outliers of age."
   ]
  },
  {
   "cell_type": "code",
   "execution_count": 16,
   "id": "ef24cff5",
   "metadata": {},
   "outputs": [
    {
     "data": {
      "text/plain": [
       "<AxesSubplot:xlabel='Age'>"
      ]
     },
     "execution_count": 16,
     "metadata": {},
     "output_type": "execute_result"
    },
    {
     "data": {
      "image/png": "[encoded data removed]",
      "text/plain": [
       "<Figure size 640x480 with 1 Axes>"
      ]
     },
     "metadata": {},
     "output_type": "display_data"
    }
   ],
   "source": [
    "sns.boxplot(x='Age',data=data)\n",
    "plt.subplot()"
   ]
  },
  {
   "cell_type": "markdown",
   "id": "447f03f9",
   "metadata": {},
   "source": [
    "From the graph, we see that there is one outlier in the age column."
   ]
  },
  {
   "cell_type": "markdown",
   "id": "c68b85b7",
   "metadata": {},
   "source": [
    "### 4.  Count the frequency of negative Age feature observations, and remove them"
   ]
  },
  {
   "cell_type": "code",
   "execution_count": 17,
   "id": "9166eef4",
   "metadata": {},
   "outputs": [
    {
     "name": "stdout",
     "output_type": "stream",
     "text": [
      "Negative Age values: 1\n"
     ]
    },
    {
     "data": {
      "text/html": [
       "<div>\n",
       "<style scoped>\n",
       "    .dataframe tbody tr th:only-of-type {\n",
       "        vertical-align: middle;\n",
       "    }\n",
       "\n",
       "    .dataframe tbody tr th {\n",
       "        vertical-align: top;\n",
       "    }\n",
       "\n",
       "    .dataframe thead th {\n",
       "        text-align: right;\n",
       "    }\n",
       "</style>\n",
       "<table border=\"1\" class=\"dataframe\">\n",
       "  <thead>\n",
       "    <tr style=\"text-align: right;\">\n",
       "      <th></th>\n",
       "      <th>Gender</th>\n",
       "      <th>ScheduledDay</th>\n",
       "      <th>AppointmentDay</th>\n",
       "      <th>Age</th>\n",
       "      <th>Neighbourhood</th>\n",
       "      <th>Scholarship</th>\n",
       "      <th>Hypertension</th>\n",
       "      <th>Diabetes</th>\n",
       "      <th>Alcoholism</th>\n",
       "      <th>Handicap</th>\n",
       "      <th>SMS_received</th>\n",
       "      <th>No-show</th>\n",
       "    </tr>\n",
       "  </thead>\n",
       "  <tbody>\n",
       "    <tr>\n",
       "      <th>99832</th>\n",
       "      <td>F</td>\n",
       "      <td>2016-06-06T08:58:13Z</td>\n",
       "      <td>2016-06-06T00:00:00Z</td>\n",
       "      <td>-1.0</td>\n",
       "      <td>ROMÃO</td>\n",
       "      <td>0</td>\n",
       "      <td>0</td>\n",
       "      <td>0</td>\n",
       "      <td>0</td>\n",
       "      <td>0</td>\n",
       "      <td>0</td>\n",
       "      <td>0</td>\n",
       "    </tr>\n",
       "  </tbody>\n",
       "</table>\n",
       "</div>"
      ],
      "text/plain": [
       "      Gender          ScheduledDay        AppointmentDay  Age Neighbourhood  \\\n",
       "99832      F  2016-06-06T08:58:13Z  2016-06-06T00:00:00Z -1.0         ROMÃO   \n",
       "\n",
       "       Scholarship  Hypertension  Diabetes  Alcoholism  Handicap  \\\n",
       "99832            0             0         0           0         0   \n",
       "\n",
       "       SMS_received  No-show  \n",
       "99832             0        0  "
      ]
     },
     "execution_count": 17,
     "metadata": {},
     "output_type": "execute_result"
    }
   ],
   "source": [
    "# count the frequency of nagative age feature observation\n",
    "print(\"Negative Age values:\", (data[\"Age\"] < 0).sum())\n",
    "# Filter age who under zero and show it. \n",
    "data[(data.Age <0)]"
   ]
  },
  {
   "cell_type": "code",
   "execution_count": 18,
   "id": "f91b32d1",
   "metadata": {},
   "outputs": [
    {
     "data": {
      "text/plain": [
       " 0.0      3539\n",
       " 1.0      2273\n",
       " 52.0     1746\n",
       " 49.0     1652\n",
       " 53.0     1651\n",
       "          ... \n",
       " 115.0       5\n",
       " 100.0       4\n",
       " 102.0       2\n",
       " 99.0        1\n",
       "-1.0         1\n",
       "Name: Age, Length: 104, dtype: int64"
      ]
     },
     "execution_count": 18,
     "metadata": {},
     "output_type": "execute_result"
    }
   ],
   "source": [
    "data.Age.value_counts()"
   ]
  },
  {
   "cell_type": "code",
   "execution_count": 19,
   "id": "c58e5b7a",
   "metadata": {},
   "outputs": [],
   "source": [
    "# remove negative age \n",
    "data = data[data[\"Age\"] >= 0]"
   ]
  },
  {
   "cell_type": "code",
   "execution_count": 20,
   "id": "4a16bbee",
   "metadata": {},
   "outputs": [
    {
     "data": {
      "text/plain": [
       "0.0      3539\n",
       "1.0      2273\n",
       "52.0     1746\n",
       "49.0     1652\n",
       "53.0     1651\n",
       "         ... \n",
       "98.0        6\n",
       "115.0       5\n",
       "100.0       4\n",
       "102.0       2\n",
       "99.0        1\n",
       "Name: Age, Length: 103, dtype: int64"
      ]
     },
     "execution_count": 20,
     "metadata": {},
     "output_type": "execute_result"
    }
   ],
   "source": [
    "data.Age.value_counts()"
   ]
  },
  {
   "cell_type": "markdown",
   "id": "3771da51",
   "metadata": {},
   "source": [
    "### 5.The values within AwaitingTime are negative, transform them into positive values"
   ]
  },
  {
   "cell_type": "code",
   "execution_count": 21,
   "id": "377ad0f3",
   "metadata": {},
   "outputs": [
    {
     "data": {
      "text/html": [
       "<div>\n",
       "<style scoped>\n",
       "    .dataframe tbody tr th:only-of-type {\n",
       "        vertical-align: middle;\n",
       "    }\n",
       "\n",
       "    .dataframe tbody tr th {\n",
       "        vertical-align: top;\n",
       "    }\n",
       "\n",
       "    .dataframe thead th {\n",
       "        text-align: right;\n",
       "    }\n",
       "</style>\n",
       "<table border=\"1\" class=\"dataframe\">\n",
       "  <thead>\n",
       "    <tr style=\"text-align: right;\">\n",
       "      <th></th>\n",
       "      <th>Gender</th>\n",
       "      <th>ScheduledDay</th>\n",
       "      <th>AppointmentDay</th>\n",
       "      <th>Age</th>\n",
       "      <th>Neighbourhood</th>\n",
       "      <th>Scholarship</th>\n",
       "      <th>Hypertension</th>\n",
       "      <th>Diabetes</th>\n",
       "      <th>Alcoholism</th>\n",
       "      <th>Handicap</th>\n",
       "      <th>SMS_received</th>\n",
       "      <th>No-show</th>\n",
       "      <th>AwaitingTime</th>\n",
       "    </tr>\n",
       "  </thead>\n",
       "  <tbody>\n",
       "    <tr>\n",
       "      <th>0</th>\n",
       "      <td>F</td>\n",
       "      <td>2016-04-29 18:38:08+00:00</td>\n",
       "      <td>2016-04-29 00:00:00+00:00</td>\n",
       "      <td>62.0</td>\n",
       "      <td>JARDIM DA PENHA</td>\n",
       "      <td>0</td>\n",
       "      <td>1</td>\n",
       "      <td>0</td>\n",
       "      <td>0</td>\n",
       "      <td>0</td>\n",
       "      <td>0</td>\n",
       "      <td>0</td>\n",
       "      <td>0</td>\n",
       "    </tr>\n",
       "    <tr>\n",
       "      <th>1</th>\n",
       "      <td>M</td>\n",
       "      <td>2016-04-29 16:08:27+00:00</td>\n",
       "      <td>2016-04-29 00:00:00+00:00</td>\n",
       "      <td>56.0</td>\n",
       "      <td>JARDIM DA PENHA</td>\n",
       "      <td>0</td>\n",
       "      <td>0</td>\n",
       "      <td>0</td>\n",
       "      <td>0</td>\n",
       "      <td>0</td>\n",
       "      <td>0</td>\n",
       "      <td>0</td>\n",
       "      <td>0</td>\n",
       "    </tr>\n",
       "    <tr>\n",
       "      <th>2</th>\n",
       "      <td>F</td>\n",
       "      <td>2016-04-29 16:19:04+00:00</td>\n",
       "      <td>2016-04-29 00:00:00+00:00</td>\n",
       "      <td>62.0</td>\n",
       "      <td>MATA DA PRAIA</td>\n",
       "      <td>0</td>\n",
       "      <td>0</td>\n",
       "      <td>0</td>\n",
       "      <td>0</td>\n",
       "      <td>0</td>\n",
       "      <td>0</td>\n",
       "      <td>0</td>\n",
       "      <td>0</td>\n",
       "    </tr>\n",
       "    <tr>\n",
       "      <th>3</th>\n",
       "      <td>F</td>\n",
       "      <td>2016-04-29 17:29:31+00:00</td>\n",
       "      <td>2016-04-29 00:00:00+00:00</td>\n",
       "      <td>8.0</td>\n",
       "      <td>PONTAL DE CAMBURI</td>\n",
       "      <td>0</td>\n",
       "      <td>0</td>\n",
       "      <td>0</td>\n",
       "      <td>0</td>\n",
       "      <td>0</td>\n",
       "      <td>0</td>\n",
       "      <td>0</td>\n",
       "      <td>0</td>\n",
       "    </tr>\n",
       "    <tr>\n",
       "      <th>4</th>\n",
       "      <td>F</td>\n",
       "      <td>2016-04-29 16:07:23+00:00</td>\n",
       "      <td>2016-04-29 00:00:00+00:00</td>\n",
       "      <td>56.0</td>\n",
       "      <td>JARDIM DA PENHA</td>\n",
       "      <td>0</td>\n",
       "      <td>1</td>\n",
       "      <td>1</td>\n",
       "      <td>0</td>\n",
       "      <td>0</td>\n",
       "      <td>0</td>\n",
       "      <td>0</td>\n",
       "      <td>0</td>\n",
       "    </tr>\n",
       "  </tbody>\n",
       "</table>\n",
       "</div>"
      ],
      "text/plain": [
       "  Gender              ScheduledDay            AppointmentDay   Age  \\\n",
       "0      F 2016-04-29 18:38:08+00:00 2016-04-29 00:00:00+00:00  62.0   \n",
       "1      M 2016-04-29 16:08:27+00:00 2016-04-29 00:00:00+00:00  56.0   \n",
       "2      F 2016-04-29 16:19:04+00:00 2016-04-29 00:00:00+00:00  62.0   \n",
       "3      F 2016-04-29 17:29:31+00:00 2016-04-29 00:00:00+00:00   8.0   \n",
       "4      F 2016-04-29 16:07:23+00:00 2016-04-29 00:00:00+00:00  56.0   \n",
       "\n",
       "       Neighbourhood  Scholarship  Hypertension  Diabetes  Alcoholism  \\\n",
       "0    JARDIM DA PENHA            0             1         0           0   \n",
       "1    JARDIM DA PENHA            0             0         0           0   \n",
       "2      MATA DA PRAIA            0             0         0           0   \n",
       "3  PONTAL DE CAMBURI            0             0         0           0   \n",
       "4    JARDIM DA PENHA            0             1         1           0   \n",
       "\n",
       "   Handicap  SMS_received  No-show  AwaitingTime  \n",
       "0         0             0        0             0  \n",
       "1         0             0        0             0  \n",
       "2         0             0        0             0  \n",
       "3         0             0        0             0  \n",
       "4         0             0        0             0  "
      ]
     },
     "execution_count": 21,
     "metadata": {},
     "output_type": "execute_result"
    }
   ],
   "source": [
    "# Convert the ScheduledDay and AppointmentDay columns to datetime\n",
    "data['ScheduledDay'] = pd.to_datetime(data['ScheduledDay'])\n",
    "data['AppointmentDay'] = pd.to_datetime(data['AppointmentDay'])\n",
    "\n",
    "# Calculate the waiting time and convert it to days\n",
    "data['AwaitingTime'] = (data['ScheduledDay'] - data['AppointmentDay']).dt.days\n",
    "\n",
    "# transform them into positive values\n",
    "data[\"AwaitingTime\"] = abs(data[\"AwaitingTime\"])\n",
    "\n",
    "data.head()"
   ]
  },
  {
   "cell_type": "code",
   "execution_count": 22,
   "id": "efcc4860",
   "metadata": {},
   "outputs": [
    {
     "data": {
      "text/plain": [
       "Gender                         object\n",
       "ScheduledDay      datetime64[ns, UTC]\n",
       "AppointmentDay    datetime64[ns, UTC]\n",
       "Age                           float64\n",
       "Neighbourhood                  object\n",
       "Scholarship                     int64\n",
       "Hypertension                    int64\n",
       "Diabetes                        int64\n",
       "Alcoholism                      int64\n",
       "Handicap                        int64\n",
       "SMS_received                    int64\n",
       "No-show                         int64\n",
       "AwaitingTime                    int64\n",
       "dtype: object"
      ]
     },
     "execution_count": 22,
     "metadata": {},
     "output_type": "execute_result"
    }
   ],
   "source": [
    "data.dtypes"
   ]
  },
  {
   "cell_type": "markdown",
   "id": "db342d59",
   "metadata": {},
   "source": [
    "### 6. ML algorithm requires the variables to be coded into its equivalent integer codes. Encode the string categorical values into an integer code"
   ]
  },
  {
   "cell_type": "code",
   "execution_count": 23,
   "id": "469c56b9",
   "metadata": {
    "scrolled": true
   },
   "outputs": [
    {
     "data": {
      "text/plain": [
       "Gender                         object\n",
       "ScheduledDay      datetime64[ns, UTC]\n",
       "AppointmentDay    datetime64[ns, UTC]\n",
       "Age                           float64\n",
       "Neighbourhood                  object\n",
       "Scholarship                     int64\n",
       "Hypertension                    int64\n",
       "Diabetes                        int64\n",
       "Alcoholism                      int64\n",
       "Handicap                        int64\n",
       "SMS_received                    int64\n",
       "No-show                         int64\n",
       "AwaitingTime                    int64\n",
       "dtype: object"
      ]
     },
     "execution_count": 23,
     "metadata": {},
     "output_type": "execute_result"
    }
   ],
   "source": [
    "data.dtypes"
   ]
  },
  {
   "cell_type": "code",
   "execution_count": 24,
   "id": "5ff65f7d",
   "metadata": {},
   "outputs": [
    {
     "name": "stdout",
     "output_type": "stream",
     "text": [
      "<class 'pandas.core.frame.DataFrame'>\n",
      "Int64Index: 110523 entries, 0 to 110526\n",
      "Data columns (total 13 columns):\n",
      " #   Column          Non-Null Count   Dtype              \n",
      "---  ------          --------------   -----              \n",
      " 0   Gender          110523 non-null  object             \n",
      " 1   ScheduledDay    110523 non-null  datetime64[ns, UTC]\n",
      " 2   AppointmentDay  110523 non-null  datetime64[ns, UTC]\n",
      " 3   Age             110523 non-null  float64            \n",
      " 4   Neighbourhood   110523 non-null  object             \n",
      " 5   Scholarship     110523 non-null  int64              \n",
      " 6   Hypertension    110523 non-null  int64              \n",
      " 7   Diabetes        110523 non-null  int64              \n",
      " 8   Alcoholism      110523 non-null  int64              \n",
      " 9   Handicap        110523 non-null  int64              \n",
      " 10  SMS_received    110523 non-null  int64              \n",
      " 11  No-show         110523 non-null  int64              \n",
      " 12  AwaitingTime    110523 non-null  int64              \n",
      "dtypes: datetime64[ns, UTC](2), float64(1), int64(8), object(2)\n",
      "memory usage: 11.8+ MB\n"
     ]
    }
   ],
   "source": [
    "# check the information of dataframe\n",
    "data.info()"
   ]
  },
  {
   "cell_type": "code",
   "execution_count": 25,
   "id": "28bcf17e",
   "metadata": {},
   "outputs": [
    {
     "name": "stdout",
     "output_type": "stream",
     "text": [
      "<class 'pandas.core.frame.DataFrame'>\n",
      "Int64Index: 110523 entries, 0 to 110526\n",
      "Data columns (total 13 columns):\n",
      " #   Column          Non-Null Count   Dtype              \n",
      "---  ------          --------------   -----              \n",
      " 0   Gender          110523 non-null  int64              \n",
      " 1   ScheduledDay    110523 non-null  datetime64[ns, UTC]\n",
      " 2   AppointmentDay  110523 non-null  datetime64[ns, UTC]\n",
      " 3   Age             110523 non-null  int64              \n",
      " 4   Neighbourhood   110523 non-null  int64              \n",
      " 5   Scholarship     110523 non-null  int64              \n",
      " 6   Hypertension    110523 non-null  int64              \n",
      " 7   Diabetes        110523 non-null  int64              \n",
      " 8   Alcoholism      110523 non-null  int64              \n",
      " 9   Handicap        110523 non-null  int64              \n",
      " 10  SMS_received    110523 non-null  int64              \n",
      " 11  No-show         110523 non-null  int64              \n",
      " 12  AwaitingTime    110523 non-null  int64              \n",
      "dtypes: datetime64[ns, UTC](2), int64(11)\n",
      "memory usage: 11.8 MB\n"
     ]
    }
   ],
   "source": [
    "from sklearn.preprocessing import LabelEncoder, MinMaxScaler\n",
    "# Define the columns to encode\n",
    "cols_to_encode = ['Gender', 'Age', 'Neighbourhood', 'No-show']\n",
    "\n",
    "# Initialize the LabelEncoder\n",
    "le = LabelEncoder()\n",
    "\n",
    "# Encode the categorical columns\n",
    "for col in cols_to_encode:\n",
    "    data[col] = le.fit_transform(data[col])\n",
    "\n",
    "# check all data type into an integer code\n",
    "data.info()"
   ]
  },
  {
   "cell_type": "markdown",
   "id": "b7e768af",
   "metadata": {},
   "source": [
    "### 7.Separate the date features into date components"
   ]
  },
  {
   "cell_type": "code",
   "execution_count": 26,
   "id": "6941d857",
   "metadata": {},
   "outputs": [],
   "source": [
    "import numpy as np\n",
    "data['Age'] = data['Age'].apply(np.int64)"
   ]
  },
  {
   "cell_type": "code",
   "execution_count": 27,
   "id": "bdf5ef04",
   "metadata": {},
   "outputs": [],
   "source": [
    "# date split to year, month, day, and hour\n",
    "data['ScheduledDay'] = pd.to_datetime(data['ScheduledDay'])\n",
    "data['AppointmentDay'] = pd.to_datetime(data['AppointmentDay'])\n",
    "data['ScheduledDay_year'] = data['ScheduledDay'].dt.year\n",
    "data['ScheduledDay_month'] = data['ScheduledDay'].dt.month\n",
    "data['ScheduledDay_day'] = data['ScheduledDay'].dt.day\n",
    "data['ScheduledDay_hour'] = data['ScheduledDay'].dt.hour\n",
    "data['AppointmentDay_year'] = data['AppointmentDay'].dt.year\n",
    "data['AppointmentDay_month'] = data['AppointmentDay'].dt.month\n",
    "data['AppointmentDay_day'] = data['AppointmentDay'].dt.day"
   ]
  },
  {
   "cell_type": "code",
   "execution_count": 28,
   "id": "860ed4eb",
   "metadata": {},
   "outputs": [
    {
     "data": {
      "text/plain": [
       "Gender                                int64\n",
       "ScheduledDay            datetime64[ns, UTC]\n",
       "AppointmentDay          datetime64[ns, UTC]\n",
       "Age                                   int64\n",
       "Neighbourhood                         int64\n",
       "Scholarship                           int64\n",
       "Hypertension                          int64\n",
       "Diabetes                              int64\n",
       "Alcoholism                            int64\n",
       "Handicap                              int64\n",
       "SMS_received                          int64\n",
       "No-show                               int64\n",
       "AwaitingTime                          int64\n",
       "ScheduledDay_year                     int64\n",
       "ScheduledDay_month                    int64\n",
       "ScheduledDay_day                      int64\n",
       "ScheduledDay_hour                     int64\n",
       "AppointmentDay_year                   int64\n",
       "AppointmentDay_month                  int64\n",
       "AppointmentDay_day                    int64\n",
       "dtype: object"
      ]
     },
     "execution_count": 28,
     "metadata": {},
     "output_type": "execute_result"
    }
   ],
   "source": [
    "data['No-show'].replace('No', 0,inplace=True)\n",
    "data['No-show'].replace('Yes', 1,inplace=True)\n",
    "data['No-show'] = data['No-show'].apply(np.int64)\n",
    "data.dtypes"
   ]
  },
  {
   "cell_type": "code",
   "execution_count": 29,
   "id": "0c294c19",
   "metadata": {},
   "outputs": [
    {
     "data": {
      "text/html": [
       "<div>\n",
       "<style scoped>\n",
       "    .dataframe tbody tr th:only-of-type {\n",
       "        vertical-align: middle;\n",
       "    }\n",
       "\n",
       "    .dataframe tbody tr th {\n",
       "        vertical-align: top;\n",
       "    }\n",
       "\n",
       "    .dataframe thead th {\n",
       "        text-align: right;\n",
       "    }\n",
       "</style>\n",
       "<table border=\"1\" class=\"dataframe\">\n",
       "  <thead>\n",
       "    <tr style=\"text-align: right;\">\n",
       "      <th></th>\n",
       "      <th>Gender</th>\n",
       "      <th>ScheduledDay</th>\n",
       "      <th>AppointmentDay</th>\n",
       "      <th>Age</th>\n",
       "      <th>Neighbourhood</th>\n",
       "      <th>Scholarship</th>\n",
       "      <th>Hypertension</th>\n",
       "      <th>Diabetes</th>\n",
       "      <th>Alcoholism</th>\n",
       "      <th>Handicap</th>\n",
       "      <th>SMS_received</th>\n",
       "      <th>No-show</th>\n",
       "      <th>AwaitingTime</th>\n",
       "      <th>ScheduledDay_year</th>\n",
       "      <th>ScheduledDay_month</th>\n",
       "      <th>ScheduledDay_day</th>\n",
       "      <th>ScheduledDay_hour</th>\n",
       "      <th>AppointmentDay_year</th>\n",
       "      <th>AppointmentDay_month</th>\n",
       "      <th>AppointmentDay_day</th>\n",
       "    </tr>\n",
       "  </thead>\n",
       "  <tbody>\n",
       "    <tr>\n",
       "      <th>0</th>\n",
       "      <td>0</td>\n",
       "      <td>2016-04-29 18:38:08+00:00</td>\n",
       "      <td>2016-04-29 00:00:00+00:00</td>\n",
       "      <td>62</td>\n",
       "      <td>39</td>\n",
       "      <td>0</td>\n",
       "      <td>1</td>\n",
       "      <td>0</td>\n",
       "      <td>0</td>\n",
       "      <td>0</td>\n",
       "      <td>0</td>\n",
       "      <td>0</td>\n",
       "      <td>0</td>\n",
       "      <td>2016</td>\n",
       "      <td>4</td>\n",
       "      <td>29</td>\n",
       "      <td>18</td>\n",
       "      <td>2016</td>\n",
       "      <td>4</td>\n",
       "      <td>29</td>\n",
       "    </tr>\n",
       "    <tr>\n",
       "      <th>1</th>\n",
       "      <td>1</td>\n",
       "      <td>2016-04-29 16:08:27+00:00</td>\n",
       "      <td>2016-04-29 00:00:00+00:00</td>\n",
       "      <td>56</td>\n",
       "      <td>39</td>\n",
       "      <td>0</td>\n",
       "      <td>0</td>\n",
       "      <td>0</td>\n",
       "      <td>0</td>\n",
       "      <td>0</td>\n",
       "      <td>0</td>\n",
       "      <td>0</td>\n",
       "      <td>0</td>\n",
       "      <td>2016</td>\n",
       "      <td>4</td>\n",
       "      <td>29</td>\n",
       "      <td>16</td>\n",
       "      <td>2016</td>\n",
       "      <td>4</td>\n",
       "      <td>29</td>\n",
       "    </tr>\n",
       "    <tr>\n",
       "      <th>2</th>\n",
       "      <td>0</td>\n",
       "      <td>2016-04-29 16:19:04+00:00</td>\n",
       "      <td>2016-04-29 00:00:00+00:00</td>\n",
       "      <td>62</td>\n",
       "      <td>45</td>\n",
       "      <td>0</td>\n",
       "      <td>0</td>\n",
       "      <td>0</td>\n",
       "      <td>0</td>\n",
       "      <td>0</td>\n",
       "      <td>0</td>\n",
       "      <td>0</td>\n",
       "      <td>0</td>\n",
       "      <td>2016</td>\n",
       "      <td>4</td>\n",
       "      <td>29</td>\n",
       "      <td>16</td>\n",
       "      <td>2016</td>\n",
       "      <td>4</td>\n",
       "      <td>29</td>\n",
       "    </tr>\n",
       "    <tr>\n",
       "      <th>3</th>\n",
       "      <td>0</td>\n",
       "      <td>2016-04-29 17:29:31+00:00</td>\n",
       "      <td>2016-04-29 00:00:00+00:00</td>\n",
       "      <td>8</td>\n",
       "      <td>54</td>\n",
       "      <td>0</td>\n",
       "      <td>0</td>\n",
       "      <td>0</td>\n",
       "      <td>0</td>\n",
       "      <td>0</td>\n",
       "      <td>0</td>\n",
       "      <td>0</td>\n",
       "      <td>0</td>\n",
       "      <td>2016</td>\n",
       "      <td>4</td>\n",
       "      <td>29</td>\n",
       "      <td>17</td>\n",
       "      <td>2016</td>\n",
       "      <td>4</td>\n",
       "      <td>29</td>\n",
       "    </tr>\n",
       "    <tr>\n",
       "      <th>4</th>\n",
       "      <td>0</td>\n",
       "      <td>2016-04-29 16:07:23+00:00</td>\n",
       "      <td>2016-04-29 00:00:00+00:00</td>\n",
       "      <td>56</td>\n",
       "      <td>39</td>\n",
       "      <td>0</td>\n",
       "      <td>1</td>\n",
       "      <td>1</td>\n",
       "      <td>0</td>\n",
       "      <td>0</td>\n",
       "      <td>0</td>\n",
       "      <td>0</td>\n",
       "      <td>0</td>\n",
       "      <td>2016</td>\n",
       "      <td>4</td>\n",
       "      <td>29</td>\n",
       "      <td>16</td>\n",
       "      <td>2016</td>\n",
       "      <td>4</td>\n",
       "      <td>29</td>\n",
       "    </tr>\n",
       "  </tbody>\n",
       "</table>\n",
       "</div>"
      ],
      "text/plain": [
       "   Gender              ScheduledDay            AppointmentDay  Age  \\\n",
       "0       0 2016-04-29 18:38:08+00:00 2016-04-29 00:00:00+00:00   62   \n",
       "1       1 2016-04-29 16:08:27+00:00 2016-04-29 00:00:00+00:00   56   \n",
       "2       0 2016-04-29 16:19:04+00:00 2016-04-29 00:00:00+00:00   62   \n",
       "3       0 2016-04-29 17:29:31+00:00 2016-04-29 00:00:00+00:00    8   \n",
       "4       0 2016-04-29 16:07:23+00:00 2016-04-29 00:00:00+00:00   56   \n",
       "\n",
       "   Neighbourhood  Scholarship  Hypertension  Diabetes  Alcoholism  Handicap  \\\n",
       "0             39            0             1         0           0         0   \n",
       "1             39            0             0         0           0         0   \n",
       "2             45            0             0         0           0         0   \n",
       "3             54            0             0         0           0         0   \n",
       "4             39            0             1         1           0         0   \n",
       "\n",
       "   SMS_received  No-show  AwaitingTime  ScheduledDay_year  ScheduledDay_month  \\\n",
       "0             0        0             0               2016                   4   \n",
       "1             0        0             0               2016                   4   \n",
       "2             0        0             0               2016                   4   \n",
       "3             0        0             0               2016                   4   \n",
       "4             0        0             0               2016                   4   \n",
       "\n",
       "   ScheduledDay_day  ScheduledDay_hour  AppointmentDay_year  \\\n",
       "0                29                 18                 2016   \n",
       "1                29                 16                 2016   \n",
       "2                29                 16                 2016   \n",
       "3                29                 17                 2016   \n",
       "4                29                 16                 2016   \n",
       "\n",
       "   AppointmentDay_month  AppointmentDay_day  \n",
       "0                     4                  29  \n",
       "1                     4                  29  \n",
       "2                     4                  29  \n",
       "3                     4                  29  \n",
       "4                     4                  29  "
      ]
     },
     "execution_count": 29,
     "metadata": {},
     "output_type": "execute_result"
    }
   ],
   "source": [
    "# check the date split\n",
    "data.head()"
   ]
  },
  {
   "cell_type": "markdown",
   "id": "2a5dd4e7",
   "metadata": {},
   "source": [
    "### 8.ML algorithms work best when the input data are scaled to a narrow range around zero. Rescale the age feature with a normalizing (e.g., min_max normalization) or standardization (e.g., z_score standardization) function."
   ]
  },
  {
   "cell_type": "markdown",
   "id": "7f9aa6bb",
   "metadata": {},
   "source": [
    "### (1)normalization ( min_max normalization)"
   ]
  },
  {
   "cell_type": "code",
   "execution_count": 30,
   "id": "1a3da87e",
   "metadata": {},
   "outputs": [],
   "source": [
    "data.Age=(data.Age-data.Age.min())/(data.Age.max()-data.Age.min())"
   ]
  },
  {
   "cell_type": "markdown",
   "id": "6c88c970",
   "metadata": {},
   "source": [
    "### (2)standardization (e.g., z_score standardization)"
   ]
  },
  {
   "cell_type": "code",
   "execution_count": 31,
   "id": "feb839ee",
   "metadata": {},
   "outputs": [
    {
     "data": {
      "text/plain": [
       "0         1.078048\n",
       "1         0.818400\n",
       "2         1.078048\n",
       "3        -1.258782\n",
       "4         0.818400\n",
       "            ...   \n",
       "110522    0.818400\n",
       "110523    0.602027\n",
       "110524   -0.696212\n",
       "110525    0.039457\n",
       "110526    0.731851\n",
       "Name: Age, Length: 110523, dtype: float64"
      ]
     },
     "execution_count": 31,
     "metadata": {},
     "output_type": "execute_result"
    }
   ],
   "source": [
    "# Z-Score using pandas\n",
    "(data.Age - data.Age.mean()) / data.Age.std()"
   ]
  },
  {
   "cell_type": "code",
   "execution_count": 32,
   "id": "c2236de8",
   "metadata": {},
   "outputs": [],
   "source": [
    "# Initialize the scaler\n",
    "scaler = MinMaxScaler()\n",
    "\n",
    "# Scale the Age feature\n",
    "data['Age'] = scaler.fit_transform(data[['Age']])"
   ]
  },
  {
   "cell_type": "code",
   "execution_count": 33,
   "id": "850c100e",
   "metadata": {},
   "outputs": [
    {
     "data": {
      "text/html": [
       "<div>\n",
       "<style scoped>\n",
       "    .dataframe tbody tr th:only-of-type {\n",
       "        vertical-align: middle;\n",
       "    }\n",
       "\n",
       "    .dataframe tbody tr th {\n",
       "        vertical-align: top;\n",
       "    }\n",
       "\n",
       "    .dataframe thead th {\n",
       "        text-align: right;\n",
       "    }\n",
       "</style>\n",
       "<table border=\"1\" class=\"dataframe\">\n",
       "  <thead>\n",
       "    <tr style=\"text-align: right;\">\n",
       "      <th></th>\n",
       "      <th>Gender</th>\n",
       "      <th>Age</th>\n",
       "      <th>Neighbourhood</th>\n",
       "      <th>Scholarship</th>\n",
       "      <th>Hypertension</th>\n",
       "      <th>Diabetes</th>\n",
       "      <th>Alcoholism</th>\n",
       "      <th>Handicap</th>\n",
       "      <th>SMS_received</th>\n",
       "      <th>No-show</th>\n",
       "      <th>AwaitingTime</th>\n",
       "      <th>ScheduledDay_year</th>\n",
       "      <th>ScheduledDay_month</th>\n",
       "      <th>ScheduledDay_day</th>\n",
       "      <th>ScheduledDay_hour</th>\n",
       "      <th>AppointmentDay_year</th>\n",
       "      <th>AppointmentDay_month</th>\n",
       "      <th>AppointmentDay_day</th>\n",
       "    </tr>\n",
       "  </thead>\n",
       "  <tbody>\n",
       "    <tr>\n",
       "      <th>count</th>\n",
       "      <td>110523.000000</td>\n",
       "      <td>110523.000000</td>\n",
       "      <td>110523.000000</td>\n",
       "      <td>110523.000000</td>\n",
       "      <td>110523.000000</td>\n",
       "      <td>110523.000000</td>\n",
       "      <td>110523.000000</td>\n",
       "      <td>110523.000000</td>\n",
       "      <td>110523.000000</td>\n",
       "      <td>110523.000000</td>\n",
       "      <td>110523.000000</td>\n",
       "      <td>110523.000000</td>\n",
       "      <td>110523.000000</td>\n",
       "      <td>110523.000000</td>\n",
       "      <td>110523.000000</td>\n",
       "      <td>110523.0</td>\n",
       "      <td>110523.000000</td>\n",
       "      <td>110523.000000</td>\n",
       "    </tr>\n",
       "    <tr>\n",
       "      <th>mean</th>\n",
       "      <td>0.350027</td>\n",
       "      <td>0.363610</td>\n",
       "      <td>41.736869</td>\n",
       "      <td>0.098269</td>\n",
       "      <td>0.197253</td>\n",
       "      <td>0.071867</td>\n",
       "      <td>0.030401</td>\n",
       "      <td>0.022249</td>\n",
       "      <td>0.321028</td>\n",
       "      <td>0.201940</td>\n",
       "      <td>10.184143</td>\n",
       "      <td>2015.999439</td>\n",
       "      <td>4.823883</td>\n",
       "      <td>14.252011</td>\n",
       "      <td>10.774445</td>\n",
       "      <td>2016.0</td>\n",
       "      <td>5.210074</td>\n",
       "      <td>12.499009</td>\n",
       "    </tr>\n",
       "    <tr>\n",
       "      <th>std</th>\n",
       "      <td>0.476980</td>\n",
       "      <td>0.226551</td>\n",
       "      <td>22.361834</td>\n",
       "      <td>0.297680</td>\n",
       "      <td>0.397927</td>\n",
       "      <td>0.258269</td>\n",
       "      <td>0.171689</td>\n",
       "      <td>0.161546</td>\n",
       "      <td>0.466874</td>\n",
       "      <td>0.401449</td>\n",
       "      <td>15.255065</td>\n",
       "      <td>0.023678</td>\n",
       "      <td>0.715792</td>\n",
       "      <td>9.345561</td>\n",
       "      <td>3.216137</td>\n",
       "      <td>0.0</td>\n",
       "      <td>0.473741</td>\n",
       "      <td>9.056217</td>\n",
       "    </tr>\n",
       "    <tr>\n",
       "      <th>min</th>\n",
       "      <td>0.000000</td>\n",
       "      <td>0.000000</td>\n",
       "      <td>0.000000</td>\n",
       "      <td>0.000000</td>\n",
       "      <td>0.000000</td>\n",
       "      <td>0.000000</td>\n",
       "      <td>0.000000</td>\n",
       "      <td>0.000000</td>\n",
       "      <td>0.000000</td>\n",
       "      <td>0.000000</td>\n",
       "      <td>0.000000</td>\n",
       "      <td>2015.000000</td>\n",
       "      <td>1.000000</td>\n",
       "      <td>1.000000</td>\n",
       "      <td>6.000000</td>\n",
       "      <td>2016.0</td>\n",
       "      <td>4.000000</td>\n",
       "      <td>1.000000</td>\n",
       "    </tr>\n",
       "    <tr>\n",
       "      <th>25%</th>\n",
       "      <td>0.000000</td>\n",
       "      <td>0.176471</td>\n",
       "      <td>26.000000</td>\n",
       "      <td>0.000000</td>\n",
       "      <td>0.000000</td>\n",
       "      <td>0.000000</td>\n",
       "      <td>0.000000</td>\n",
       "      <td>0.000000</td>\n",
       "      <td>0.000000</td>\n",
       "      <td>0.000000</td>\n",
       "      <td>0.000000</td>\n",
       "      <td>2016.000000</td>\n",
       "      <td>4.000000</td>\n",
       "      <td>6.000000</td>\n",
       "      <td>8.000000</td>\n",
       "      <td>2016.0</td>\n",
       "      <td>5.000000</td>\n",
       "      <td>5.000000</td>\n",
       "    </tr>\n",
       "    <tr>\n",
       "      <th>50%</th>\n",
       "      <td>0.000000</td>\n",
       "      <td>0.362745</td>\n",
       "      <td>40.000000</td>\n",
       "      <td>0.000000</td>\n",
       "      <td>0.000000</td>\n",
       "      <td>0.000000</td>\n",
       "      <td>0.000000</td>\n",
       "      <td>0.000000</td>\n",
       "      <td>0.000000</td>\n",
       "      <td>0.000000</td>\n",
       "      <td>4.000000</td>\n",
       "      <td>2016.000000</td>\n",
       "      <td>5.000000</td>\n",
       "      <td>13.000000</td>\n",
       "      <td>10.000000</td>\n",
       "      <td>2016.0</td>\n",
       "      <td>5.000000</td>\n",
       "      <td>10.000000</td>\n",
       "    </tr>\n",
       "    <tr>\n",
       "      <th>75%</th>\n",
       "      <td>1.000000</td>\n",
       "      <td>0.539216</td>\n",
       "      <td>60.000000</td>\n",
       "      <td>0.000000</td>\n",
       "      <td>0.000000</td>\n",
       "      <td>0.000000</td>\n",
       "      <td>0.000000</td>\n",
       "      <td>0.000000</td>\n",
       "      <td>1.000000</td>\n",
       "      <td>0.000000</td>\n",
       "      <td>15.000000</td>\n",
       "      <td>2016.000000</td>\n",
       "      <td>5.000000</td>\n",
       "      <td>22.000000</td>\n",
       "      <td>13.000000</td>\n",
       "      <td>2016.0</td>\n",
       "      <td>5.000000</td>\n",
       "      <td>19.000000</td>\n",
       "    </tr>\n",
       "    <tr>\n",
       "      <th>max</th>\n",
       "      <td>1.000000</td>\n",
       "      <td>1.000000</td>\n",
       "      <td>80.000000</td>\n",
       "      <td>1.000000</td>\n",
       "      <td>1.000000</td>\n",
       "      <td>1.000000</td>\n",
       "      <td>1.000000</td>\n",
       "      <td>4.000000</td>\n",
       "      <td>1.000000</td>\n",
       "      <td>1.000000</td>\n",
       "      <td>179.000000</td>\n",
       "      <td>2016.000000</td>\n",
       "      <td>12.000000</td>\n",
       "      <td>31.000000</td>\n",
       "      <td>21.000000</td>\n",
       "      <td>2016.0</td>\n",
       "      <td>6.000000</td>\n",
       "      <td>31.000000</td>\n",
       "    </tr>\n",
       "  </tbody>\n",
       "</table>\n",
       "</div>"
      ],
      "text/plain": [
       "              Gender            Age  Neighbourhood    Scholarship  \\\n",
       "count  110523.000000  110523.000000  110523.000000  110523.000000   \n",
       "mean        0.350027       0.363610      41.736869       0.098269   \n",
       "std         0.476980       0.226551      22.361834       0.297680   \n",
       "min         0.000000       0.000000       0.000000       0.000000   \n",
       "25%         0.000000       0.176471      26.000000       0.000000   \n",
       "50%         0.000000       0.362745      40.000000       0.000000   \n",
       "75%         1.000000       0.539216      60.000000       0.000000   \n",
       "max         1.000000       1.000000      80.000000       1.000000   \n",
       "\n",
       "        Hypertension       Diabetes     Alcoholism       Handicap  \\\n",
       "count  110523.000000  110523.000000  110523.000000  110523.000000   \n",
       "mean        0.197253       0.071867       0.030401       0.022249   \n",
       "std         0.397927       0.258269       0.171689       0.161546   \n",
       "min         0.000000       0.000000       0.000000       0.000000   \n",
       "25%         0.000000       0.000000       0.000000       0.000000   \n",
       "50%         0.000000       0.000000       0.000000       0.000000   \n",
       "75%         0.000000       0.000000       0.000000       0.000000   \n",
       "max         1.000000       1.000000       1.000000       4.000000   \n",
       "\n",
       "        SMS_received        No-show   AwaitingTime  ScheduledDay_year  \\\n",
       "count  110523.000000  110523.000000  110523.000000      110523.000000   \n",
       "mean        0.321028       0.201940      10.184143        2015.999439   \n",
       "std         0.466874       0.401449      15.255065           0.023678   \n",
       "min         0.000000       0.000000       0.000000        2015.000000   \n",
       "25%         0.000000       0.000000       0.000000        2016.000000   \n",
       "50%         0.000000       0.000000       4.000000        2016.000000   \n",
       "75%         1.000000       0.000000      15.000000        2016.000000   \n",
       "max         1.000000       1.000000     179.000000        2016.000000   \n",
       "\n",
       "       ScheduledDay_month  ScheduledDay_day  ScheduledDay_hour  \\\n",
       "count       110523.000000     110523.000000      110523.000000   \n",
       "mean             4.823883         14.252011          10.774445   \n",
       "std              0.715792          9.345561           3.216137   \n",
       "min              1.000000          1.000000           6.000000   \n",
       "25%              4.000000          6.000000           8.000000   \n",
       "50%              5.000000         13.000000          10.000000   \n",
       "75%              5.000000         22.000000          13.000000   \n",
       "max             12.000000         31.000000          21.000000   \n",
       "\n",
       "       AppointmentDay_year  AppointmentDay_month  AppointmentDay_day  \n",
       "count             110523.0         110523.000000       110523.000000  \n",
       "mean                2016.0              5.210074           12.499009  \n",
       "std                    0.0              0.473741            9.056217  \n",
       "min                 2016.0              4.000000            1.000000  \n",
       "25%                 2016.0              5.000000            5.000000  \n",
       "50%                 2016.0              5.000000           10.000000  \n",
       "75%                 2016.0              5.000000           19.000000  \n",
       "max                 2016.0              6.000000           31.000000  "
      ]
     },
     "execution_count": 33,
     "metadata": {},
     "output_type": "execute_result"
    }
   ],
   "source": [
    "data.describe()"
   ]
  },
  {
   "cell_type": "markdown",
   "id": "f9d06e11",
   "metadata": {},
   "source": [
    "### 9 Conduct variability comparison between features using a correlation matrix & drop correlated features"
   ]
  },
  {
   "cell_type": "code",
   "execution_count": 34,
   "id": "929c7d42",
   "metadata": {},
   "outputs": [
    {
     "data": {
      "text/html": [
       "<div>\n",
       "<style scoped>\n",
       "    .dataframe tbody tr th:only-of-type {\n",
       "        vertical-align: middle;\n",
       "    }\n",
       "\n",
       "    .dataframe tbody tr th {\n",
       "        vertical-align: top;\n",
       "    }\n",
       "\n",
       "    .dataframe thead th {\n",
       "        text-align: right;\n",
       "    }\n",
       "</style>\n",
       "<table border=\"1\" class=\"dataframe\">\n",
       "  <thead>\n",
       "    <tr style=\"text-align: right;\">\n",
       "      <th></th>\n",
       "      <th>Gender</th>\n",
       "      <th>Age</th>\n",
       "      <th>Neighbourhood</th>\n",
       "      <th>Scholarship</th>\n",
       "      <th>Hypertension</th>\n",
       "      <th>Diabetes</th>\n",
       "      <th>Alcoholism</th>\n",
       "      <th>Handicap</th>\n",
       "      <th>SMS_received</th>\n",
       "      <th>No-show</th>\n",
       "      <th>AwaitingTime</th>\n",
       "    </tr>\n",
       "  </thead>\n",
       "  <tbody>\n",
       "    <tr>\n",
       "      <th>Gender</th>\n",
       "      <td>1.000000</td>\n",
       "      <td>-0.106457</td>\n",
       "      <td>-0.008041</td>\n",
       "      <td>-0.114298</td>\n",
       "      <td>-0.055723</td>\n",
       "      <td>-0.032557</td>\n",
       "      <td>0.106168</td>\n",
       "      <td>0.022814</td>\n",
       "      <td>-0.046331</td>\n",
       "      <td>-0.004123</td>\n",
       "      <td>-0.028424</td>\n",
       "    </tr>\n",
       "    <tr>\n",
       "      <th>Age</th>\n",
       "      <td>-0.106457</td>\n",
       "      <td>1.000000</td>\n",
       "      <td>-0.016316</td>\n",
       "      <td>-0.092458</td>\n",
       "      <td>0.504642</td>\n",
       "      <td>0.292430</td>\n",
       "      <td>0.095826</td>\n",
       "      <td>0.077919</td>\n",
       "      <td>0.012627</td>\n",
       "      <td>-0.060349</td>\n",
       "      <td>0.034825</td>\n",
       "    </tr>\n",
       "    <tr>\n",
       "      <th>Neighbourhood</th>\n",
       "      <td>-0.008041</td>\n",
       "      <td>-0.016316</td>\n",
       "      <td>1.000000</td>\n",
       "      <td>0.006872</td>\n",
       "      <td>0.004332</td>\n",
       "      <td>0.011352</td>\n",
       "      <td>-0.000007</td>\n",
       "      <td>0.010993</td>\n",
       "      <td>0.018286</td>\n",
       "      <td>-0.008952</td>\n",
       "      <td>-0.002032</td>\n",
       "    </tr>\n",
       "    <tr>\n",
       "      <th>Scholarship</th>\n",
       "      <td>-0.114298</td>\n",
       "      <td>-0.092458</td>\n",
       "      <td>0.006872</td>\n",
       "      <td>1.000000</td>\n",
       "      <td>-0.019735</td>\n",
       "      <td>-0.024897</td>\n",
       "      <td>0.035020</td>\n",
       "      <td>-0.008588</td>\n",
       "      <td>0.001192</td>\n",
       "      <td>0.029129</td>\n",
       "      <td>-0.030431</td>\n",
       "    </tr>\n",
       "    <tr>\n",
       "      <th>Hypertension</th>\n",
       "      <td>-0.055723</td>\n",
       "      <td>0.504642</td>\n",
       "      <td>0.004332</td>\n",
       "      <td>-0.019735</td>\n",
       "      <td>1.000000</td>\n",
       "      <td>0.433083</td>\n",
       "      <td>0.087968</td>\n",
       "      <td>0.080081</td>\n",
       "      <td>-0.006270</td>\n",
       "      <td>-0.035711</td>\n",
       "      <td>-0.017230</td>\n",
       "    </tr>\n",
       "    <tr>\n",
       "      <th>Diabetes</th>\n",
       "      <td>-0.032557</td>\n",
       "      <td>0.292430</td>\n",
       "      <td>0.011352</td>\n",
       "      <td>-0.024897</td>\n",
       "      <td>0.433083</td>\n",
       "      <td>1.000000</td>\n",
       "      <td>0.018472</td>\n",
       "      <td>0.057529</td>\n",
       "      <td>-0.014552</td>\n",
       "      <td>-0.015185</td>\n",
       "      <td>-0.027196</td>\n",
       "    </tr>\n",
       "    <tr>\n",
       "      <th>Alcoholism</th>\n",
       "      <td>0.106168</td>\n",
       "      <td>0.095826</td>\n",
       "      <td>-0.000007</td>\n",
       "      <td>0.035020</td>\n",
       "      <td>0.087968</td>\n",
       "      <td>0.018472</td>\n",
       "      <td>1.000000</td>\n",
       "      <td>0.004647</td>\n",
       "      <td>-0.026149</td>\n",
       "      <td>-0.000199</td>\n",
       "      <td>-0.038525</td>\n",
       "    </tr>\n",
       "    <tr>\n",
       "      <th>Handicap</th>\n",
       "      <td>0.022814</td>\n",
       "      <td>0.077919</td>\n",
       "      <td>0.010993</td>\n",
       "      <td>-0.008588</td>\n",
       "      <td>0.080081</td>\n",
       "      <td>0.057529</td>\n",
       "      <td>0.004647</td>\n",
       "      <td>1.000000</td>\n",
       "      <td>-0.024162</td>\n",
       "      <td>-0.006079</td>\n",
       "      <td>-0.019833</td>\n",
       "    </tr>\n",
       "    <tr>\n",
       "      <th>SMS_received</th>\n",
       "      <td>-0.046331</td>\n",
       "      <td>0.012627</td>\n",
       "      <td>0.018286</td>\n",
       "      <td>0.001192</td>\n",
       "      <td>-0.006270</td>\n",
       "      <td>-0.014552</td>\n",
       "      <td>-0.026149</td>\n",
       "      <td>-0.024162</td>\n",
       "      <td>1.000000</td>\n",
       "      <td>0.126430</td>\n",
       "      <td>0.398136</td>\n",
       "    </tr>\n",
       "    <tr>\n",
       "      <th>No-show</th>\n",
       "      <td>-0.004123</td>\n",
       "      <td>-0.060349</td>\n",
       "      <td>-0.008952</td>\n",
       "      <td>0.029129</td>\n",
       "      <td>-0.035711</td>\n",
       "      <td>-0.015185</td>\n",
       "      <td>-0.000199</td>\n",
       "      <td>-0.006079</td>\n",
       "      <td>0.126430</td>\n",
       "      <td>1.000000</td>\n",
       "      <td>0.186249</td>\n",
       "    </tr>\n",
       "    <tr>\n",
       "      <th>AwaitingTime</th>\n",
       "      <td>-0.028424</td>\n",
       "      <td>0.034825</td>\n",
       "      <td>-0.002032</td>\n",
       "      <td>-0.030431</td>\n",
       "      <td>-0.017230</td>\n",
       "      <td>-0.027196</td>\n",
       "      <td>-0.038525</td>\n",
       "      <td>-0.019833</td>\n",
       "      <td>0.398136</td>\n",
       "      <td>0.186249</td>\n",
       "      <td>1.000000</td>\n",
       "    </tr>\n",
       "  </tbody>\n",
       "</table>\n",
       "</div>"
      ],
      "text/plain": [
       "                 Gender       Age  Neighbourhood  Scholarship  Hypertension  \\\n",
       "Gender         1.000000 -0.106457      -0.008041    -0.114298     -0.055723   \n",
       "Age           -0.106457  1.000000      -0.016316    -0.092458      0.504642   \n",
       "Neighbourhood -0.008041 -0.016316       1.000000     0.006872      0.004332   \n",
       "Scholarship   -0.114298 -0.092458       0.006872     1.000000     -0.019735   \n",
       "Hypertension  -0.055723  0.504642       0.004332    -0.019735      1.000000   \n",
       "Diabetes      -0.032557  0.292430       0.011352    -0.024897      0.433083   \n",
       "Alcoholism     0.106168  0.095826      -0.000007     0.035020      0.087968   \n",
       "Handicap       0.022814  0.077919       0.010993    -0.008588      0.080081   \n",
       "SMS_received  -0.046331  0.012627       0.018286     0.001192     -0.006270   \n",
       "No-show       -0.004123 -0.060349      -0.008952     0.029129     -0.035711   \n",
       "AwaitingTime  -0.028424  0.034825      -0.002032    -0.030431     -0.017230   \n",
       "\n",
       "               Diabetes  Alcoholism  Handicap  SMS_received   No-show  \\\n",
       "Gender        -0.032557    0.106168  0.022814     -0.046331 -0.004123   \n",
       "Age            0.292430    0.095826  0.077919      0.012627 -0.060349   \n",
       "Neighbourhood  0.011352   -0.000007  0.010993      0.018286 -0.008952   \n",
       "Scholarship   -0.024897    0.035020 -0.008588      0.001192  0.029129   \n",
       "Hypertension   0.433083    0.087968  0.080081     -0.006270 -0.035711   \n",
       "Diabetes       1.000000    0.018472  0.057529     -0.014552 -0.015185   \n",
       "Alcoholism     0.018472    1.000000  0.004647     -0.026149 -0.000199   \n",
       "Handicap       0.057529    0.004647  1.000000     -0.024162 -0.006079   \n",
       "SMS_received  -0.014552   -0.026149 -0.024162      1.000000  0.126430   \n",
       "No-show       -0.015185   -0.000199 -0.006079      0.126430  1.000000   \n",
       "AwaitingTime  -0.027196   -0.038525 -0.019833      0.398136  0.186249   \n",
       "\n",
       "               AwaitingTime  \n",
       "Gender            -0.028424  \n",
       "Age                0.034825  \n",
       "Neighbourhood     -0.002032  \n",
       "Scholarship       -0.030431  \n",
       "Hypertension      -0.017230  \n",
       "Diabetes          -0.027196  \n",
       "Alcoholism        -0.038525  \n",
       "Handicap          -0.019833  \n",
       "SMS_received       0.398136  \n",
       "No-show            0.186249  \n",
       "AwaitingTime       1.000000  "
      ]
     },
     "execution_count": 34,
     "metadata": {},
     "output_type": "execute_result"
    }
   ],
   "source": [
    "# Calculate the correlation matrix\n",
    "data_selected = data.drop(['ScheduledDay_year', 'ScheduledDay_month', 'ScheduledDay_day', 'ScheduledDay_hour', \n",
    "                           'AppointmentDay_year', 'AppointmentDay_month', 'AppointmentDay_day'], axis = 'columns')\n",
    "corr_matrix = data_selected.corr()\n",
    "corr_matrix"
   ]
  },
  {
   "cell_type": "code",
   "execution_count": 35,
   "id": "8d90743d",
   "metadata": {},
   "outputs": [
    {
     "data": {
      "text/plain": [
       "<AxesSubplot:>"
      ]
     },
     "execution_count": 35,
     "metadata": {},
     "output_type": "execute_result"
    },
    {
     "data": {
      "image/png": "[encoded data removed]",
      "text/plain": [
       "<Figure size 640x480 with 2 Axes>"
      ]
     },
     "metadata": {},
     "output_type": "display_data"
    }
   ],
   "source": [
    "sns.heatmap(corr_matrix, annot=True)"
   ]
  },
  {
   "cell_type": "code",
   "execution_count": 36,
   "id": "6bf0454e",
   "metadata": {},
   "outputs": [],
   "source": [
    "# Identify highly correlated features\n",
    "highly_correlated = set()\n",
    "for i in range(len(corr_matrix.columns)):\n",
    "    for j in range(i):\n",
    "        if abs(corr_matrix.iloc[i, j]) > 0.8:\n",
    "            colname = corr_matrix.columns[i]\n",
    "            highly_correlated.add(colname)\n"
   ]
  },
  {
   "cell_type": "code",
   "execution_count": 37,
   "id": "0c478462",
   "metadata": {},
   "outputs": [],
   "source": [
    "# Drop highly correlated features\n",
    "data = data.drop(columns=highly_correlated)"
   ]
  },
  {
   "cell_type": "code",
   "execution_count": 38,
   "id": "a402bff3",
   "metadata": {},
   "outputs": [
    {
     "name": "stdout",
     "output_type": "stream",
     "text": [
      "               Gender       Age  Neighbourhood  Scholarship  Hypertension  \\\n",
      "Gender            NaN -0.106457      -0.008041    -0.114298     -0.055723   \n",
      "Age               NaN       NaN      -0.016316    -0.092458      0.504642   \n",
      "Neighbourhood     NaN       NaN            NaN     0.006872      0.004332   \n",
      "Scholarship       NaN       NaN            NaN          NaN     -0.019735   \n",
      "Hypertension      NaN       NaN            NaN          NaN           NaN   \n",
      "Diabetes          NaN       NaN            NaN          NaN           NaN   \n",
      "Alcoholism        NaN       NaN            NaN          NaN           NaN   \n",
      "Handicap          NaN       NaN            NaN          NaN           NaN   \n",
      "SMS_received      NaN       NaN            NaN          NaN           NaN   \n",
      "No-show           NaN       NaN            NaN          NaN           NaN   \n",
      "AwaitingTime      NaN       NaN            NaN          NaN           NaN   \n",
      "\n",
      "               Diabetes  Alcoholism  Handicap  SMS_received   No-show  \\\n",
      "Gender        -0.032557    0.106168  0.022814     -0.046331 -0.004123   \n",
      "Age            0.292430    0.095826  0.077919      0.012627 -0.060349   \n",
      "Neighbourhood  0.011352   -0.000007  0.010993      0.018286 -0.008952   \n",
      "Scholarship   -0.024897    0.035020 -0.008588      0.001192  0.029129   \n",
      "Hypertension   0.433083    0.087968  0.080081     -0.006270 -0.035711   \n",
      "Diabetes            NaN    0.018472  0.057529     -0.014552 -0.015185   \n",
      "Alcoholism          NaN         NaN  0.004647     -0.026149 -0.000199   \n",
      "Handicap            NaN         NaN       NaN     -0.024162 -0.006079   \n",
      "SMS_received        NaN         NaN       NaN           NaN  0.126430   \n",
      "No-show             NaN         NaN       NaN           NaN       NaN   \n",
      "AwaitingTime        NaN         NaN       NaN           NaN       NaN   \n",
      "\n",
      "               AwaitingTime  \n",
      "Gender            -0.028424  \n",
      "Age                0.034825  \n",
      "Neighbourhood     -0.002032  \n",
      "Scholarship       -0.030431  \n",
      "Hypertension      -0.017230  \n",
      "Diabetes          -0.027196  \n",
      "Alcoholism        -0.038525  \n",
      "Handicap          -0.019833  \n",
      "SMS_received       0.398136  \n",
      "No-show            0.186249  \n",
      "AwaitingTime            NaN  \n"
     ]
    },
    {
     "name": "stderr",
     "output_type": "stream",
     "text": [
      "/var/folders/wq/j8j9g2xx69q1kwd3qwz1qdn40000gn/T/ipykernel_2415/3505688167.py:1: DeprecationWarning: `np.bool` is a deprecated alias for the builtin `bool`. To silence this warning, use `bool` by itself. Doing this will not modify any behavior and is safe. If you specifically wanted the numpy scalar type, use `np.bool_` here.\n",
      "Deprecated in NumPy 1.20; for more details and guidance: https://numpy.org/devdocs/release/1.20.0-notes.html#deprecations\n",
      "  upper_tri = corr_matrix.where(np.triu(np.ones(corr_matrix.shape), k =1).astype(np.bool))\n"
     ]
    }
   ],
   "source": [
    "upper_tri = corr_matrix.where(np.triu(np.ones(corr_matrix.shape), k =1).astype(np.bool))\n",
    "print(upper_tri)"
   ]
  },
  {
   "cell_type": "code",
   "execution_count": 39,
   "id": "f727cd05",
   "metadata": {},
   "outputs": [
    {
     "name": "stdout",
     "output_type": "stream",
     "text": [
      "[]\n"
     ]
    }
   ],
   "source": [
    "to_drop = [column for column in upper_tri.columns if any(upper_tri[column] > 0.8)]\n",
    "print(to_drop)"
   ]
  },
  {
   "cell_type": "markdown",
   "id": "10b28266",
   "metadata": {},
   "source": [
    "# B. Model Development : Naïve Bayes classifier"
   ]
  },
  {
   "cell_type": "code",
   "execution_count": 53,
   "id": "dde65e75",
   "metadata": {},
   "outputs": [],
   "source": [
    "#Splitting the dataset into training and testing variables\n",
    "from sklearn.naive_bayes import GaussianNB\n",
    "from sklearn.model_selection import GridSearchCV\n",
    "from sklearn.model_selection import train_test_split\n",
    "from sklearn.metrics import classification_report"
   ]
  },
  {
   "cell_type": "code",
   "execution_count": 71,
   "id": "cf6f727c",
   "metadata": {},
   "outputs": [],
   "source": [
    "##tread the 'No-show' as target, and 'Age','Scholarship','Diabetes','Alcoholism','Handicap','Hypertension'as data.\n",
    "X=data[['Gender','Age','Scholarship','Diabetes','Alcoholism','Handicap','Hypertension','SMS_received']]\n",
    "y=data['No-show']"
   ]
  },
  {
   "cell_type": "code",
   "execution_count": 72,
   "id": "15ba15c4",
   "metadata": {},
   "outputs": [
    {
     "data": {
      "text/plain": [
       "((77366, 8), (77366,))"
      ]
     },
     "execution_count": 72,
     "metadata": {},
     "output_type": "execute_result"
    }
   ],
   "source": [
    "#create the train and test sets. keeping 70% as training data and 30% as testing data.\n",
    "X_train, X_test, y_train, y_test = train_test_split(X, y, test_size=0.3,random_state=20)\n",
    "X_train.shape,y_train.shape"
   ]
  },
  {
   "cell_type": "code",
   "execution_count": 116,
   "id": "6f41c933",
   "metadata": {},
   "outputs": [
    {
     "data": {
      "text/plain": [
       "((33157, 8), (33157,))"
      ]
     },
     "execution_count": 116,
     "metadata": {},
     "output_type": "execute_result"
    }
   ],
   "source": [
    "X_test.shape,y_test.shape"
   ]
  },
  {
   "cell_type": "code",
   "execution_count": 117,
   "id": "e19cad60",
   "metadata": {},
   "outputs": [],
   "source": [
    "#train the modrl,Initialize the classifier\n",
    "naive_bayes = GaussianNB()\n",
    "\n",
    "#Fitting the data to the classifier\n",
    "naive_bayes.fit(X_train , y_train)\n",
    " \n",
    "#Predict on test data\n",
    "y_predicted = naive_bayes.predict(X_test)"
   ]
  },
  {
   "cell_type": "code",
   "execution_count": 139,
   "id": "498e32c8",
   "metadata": {
    "scrolled": true
   },
   "outputs": [
    {
     "name": "stdout",
     "output_type": "stream",
     "text": [
      "Accuracy: 0.7939499954760684\n",
      "Classification Report is:\n",
      "               precision    recall  f1-score   support\n",
      "\n",
      "           0       0.81      0.98      0.88     26561\n",
      "           1       0.36      0.05      0.08      6596\n",
      "\n",
      "    accuracy                           0.79     33157\n",
      "   macro avg       0.58      0.51      0.48     33157\n",
      "weighted avg       0.72      0.79      0.72     33157\n",
      "\n",
      "\n",
      " F1:\n",
      " 0.08221386351423966\n",
      "\n",
      " Precision score is:\n",
      " 0.3608490566037736\n",
      "\n",
      " Recall score is:\n",
      " 0.04639175257731959\n",
      "\n",
      " Confusion Matrix:\n",
      "\n"
     ]
    },
    {
     "data": {
      "text/plain": [
       "<AxesSubplot:>"
      ]
     },
     "execution_count": 139,
     "metadata": {},
     "output_type": "execute_result"
    },
    {
     "data": {
      "image/png": "[encoded data removed]",
      "text/plain": [
       "<Figure size 640x480 with 2 Axes>"
      ]
     },
     "metadata": {},
     "output_type": "display_data"
    }
   ],
   "source": [
    "# Evaluate the accuracy of the classifier\n",
    "import seaborn as sns\n",
    "accuracy = accuracy_score(y_test, y_predicted)\n",
    "print(\"Accuracy:\", accuracy)\n",
    "print(\"Classification Report is:\\n\",classification_report(y_test, y_predicted))\n",
    "print(\"\\n F1:\\n\",f1_score(y_test, y_predicted))\n",
    "print(\"\\n Precision score is:\\n\",precision_score(y_test, y_predicted))\n",
    "print(\"\\n Recall score is:\\n\",recall_score(y_test, y_predicted))\n",
    "print(\"\\n Confusion Matrix:\\n\")\n",
    "\n",
    "sns.heatmap(confusion_matrix(y_test, y_predicted),  annot=True, fmt='.6g', cmap='Blues')"
   ]
  },
  {
   "cell_type": "markdown",
   "id": "1ed458da",
   "metadata": {},
   "source": [
    "# C. Model Evaluation & Comparison"
   ]
  },
  {
   "cell_type": "markdown",
   "id": "3d643aed",
   "metadata": {},
   "source": [
    "### 1.Write a Function to detect the model’s Accuracy by applying the trained model on a testing datasetto find the predicted labels of Status. Was there overfitting?"
   ]
  },
  {
   "cell_type": "code",
   "execution_count": 73,
   "id": "27663e52",
   "metadata": {},
   "outputs": [],
   "source": [
    "def evaluate_model(model, X_train, y_train, X_test, y_test):\n",
    "    # Train the model\n",
    "    model.fit(X_train, y_train)\n",
    "\n",
    "    # Predict the test set labels\n",
    "    y_pred = model.predict(X_test)\n",
    "\n",
    "    # Calculate accuracy\n",
    "    accuracy = accuracy_score(y_test, y_pred)\n",
    "\n",
    "    # Predict the training set labels\n",
    "    y_train_pred = model.predict(X_train)\n",
    "\n",
    "    # Calculate training set accuracy\n",
    "    train_accuracy = accuracy_score(y_train, y_train_pred)\n",
    "\n",
    "    # Check for overfitting\n",
    "    overfitting = train_accuracy - accuracy\n",
    "\n",
    "    # Print the results\n",
    "    print(\"Accuracy on test set:\", accuracy)\n",
    "    print(\"Accuracy on training set:\", train_accuracy)\n",
    "    print(\"Overfitting:\", overfitting)"
   ]
  },
  {
   "cell_type": "code",
   "execution_count": 74,
   "id": "b37d4b00",
   "metadata": {},
   "outputs": [
    {
     "name": "stdout",
     "output_type": "stream",
     "text": [
      "Accuracy on test set: 0.7939499954760684\n",
      "Accuracy on training set: 0.7888090375617196\n",
      "Overfitting: -0.005140957914348765\n"
     ]
    }
   ],
   "source": [
    "evaluate_model(naive_bayes, X_train, y_train, X_test, y_test)"
   ]
  },
  {
   "cell_type": "markdown",
   "id": "7e86c9be",
   "metadata": {},
   "source": [
    "The training accuracy is very close to the testing accuracy. Althougt the Accuracy is 0.79 both in training and testing, it is not too high, the predition is good fit."
   ]
  },
  {
   "cell_type": "markdown",
   "id": "4a1b0e6a",
   "metadata": {},
   "source": [
    "### 2.Tune the model using GridSearchCV\n"
   ]
  },
  {
   "cell_type": "markdown",
   "id": "cf0fc39e",
   "metadata": {},
   "source": [
    "#### Hyperparameters: Meta parameters associated with any ML algorithm, usually set before model training & building process.The GridSearchCV() function can perform the typical function of a classifier such as FIT, Score and predit."
   ]
  },
  {
   "cell_type": "code",
   "execution_count": 75,
   "id": "ae55ce42",
   "metadata": {},
   "outputs": [],
   "source": [
    "from sklearn.model_selection import GridSearchCV\n",
    "#Return evenly spaced values within a given interval.\n",
    "max_features_range =np.arange(1,6,1)\n",
    "n_estimator_range=np.arange(10,210,10)\n",
    "seed = 2017"
   ]
  },
  {
   "cell_type": "code",
   "execution_count": 76,
   "id": "50d07c68",
   "metadata": {},
   "outputs": [],
   "source": [
    "#Normalize\n",
    "from sklearn.preprocessing import StandardScaler\n",
    "seed = 2017\n",
    "X = StandardScaler().fit_transform(X)"
   ]
  },
  {
   "cell_type": "code",
   "execution_count": 77,
   "id": "4c4872a8",
   "metadata": {},
   "outputs": [],
   "source": [
    "# K fold cross validation, CV=10\n",
    "#evaluate the model by splitting into train and test sets\n",
    "from sklearn.model_selection import cross_val_score\n",
    "param_grid_nb = {\n",
    "    'var_smoothing': np.logspace(0,-2, num=100)\n",
    "}\n",
    "kfold = GridSearchCV(estimator=GaussianNB(), param_grid=param_grid_nb, verbose=1, cv=5, n_jobs=-1)"
   ]
  },
  {
   "cell_type": "code",
   "execution_count": 78,
   "id": "853fe46d",
   "metadata": {},
   "outputs": [
    {
     "name": "stdout",
     "output_type": "stream",
     "text": [
      "Fitting 5 folds for each of 100 candidates, totalling 500 fits\n"
     ]
    },
    {
     "data": {
      "text/plain": [
       "GridSearchCV(cv=5, estimator=GaussianNB(), n_jobs=-1,\n",
       "             param_grid={'var_smoothing': array([1.        , 0.95454846, 0.91116276, 0.869749  , 0.83021757,\n",
       "       0.7924829 , 0.75646333, 0.7220809 , 0.68926121, 0.65793322,\n",
       "       0.62802914, 0.59948425, 0.57223677, 0.54622772, 0.52140083,\n",
       "       0.49770236, 0.47508102, 0.45348785, 0.43287613, 0.41320124,\n",
       "       0.39442061, 0.37649358, 0.35938137, 0.34304693, 0.32745492,\n",
       "       0...\n",
       "       0.04862602, 0.04641589, 0.04430621, 0.04229243, 0.04037017,\n",
       "       0.03853529, 0.0367838 , 0.03511192, 0.03351603, 0.03199267,\n",
       "       0.03053856, 0.02915053, 0.02782559, 0.02656088, 0.02535364,\n",
       "       0.02420128, 0.0231013 , 0.02205131, 0.02104904, 0.02009233,\n",
       "       0.0191791 , 0.01830738, 0.01747528, 0.01668101, 0.01592283,\n",
       "       0.01519911, 0.01450829, 0.01384886, 0.01321941, 0.01261857,\n",
       "       0.01204504, 0.01149757, 0.01097499, 0.01047616, 0.01      ])},\n",
       "             verbose=1)"
      ]
     },
     "execution_count": 78,
     "metadata": {},
     "output_type": "execute_result"
    }
   ],
   "source": [
    "kfold.fit(X_train, y_train)"
   ]
  },
  {
   "cell_type": "code",
   "execution_count": 79,
   "id": "a01c19b0",
   "metadata": {},
   "outputs": [
    {
     "name": "stdout",
     "output_type": "stream",
     "text": [
      "Best Parameters: {'var_smoothing': 1.0}\n"
     ]
    }
   ],
   "source": [
    "# Get the best hyperparameters\n",
    "best_params = kfold.best_params_\n",
    "print('Best Parameters:', best_params)\n",
    "\n",
    "# Get the best model\n",
    "best_gnb = kfold.best_estimator_"
   ]
  },
  {
   "cell_type": "markdown",
   "id": "6006e8ab",
   "metadata": {},
   "source": [
    "### 3.Using the same data set partitioning method, evaluate the performance of a SVM and Decision tree classifier on the dataset. Compare the results of the Naïve Bayes classifier with SVM and Decision tree model according to the following criteria: Accuracy, Sensitivity, Specificity & F1 score. Identify the model that performed best and worst according to each criterion"
   ]
  },
  {
   "cell_type": "markdown",
   "id": "5a685115",
   "metadata": {},
   "source": [
    "# Naive bayes"
   ]
  },
  {
   "cell_type": "code",
   "execution_count": 151,
   "id": "3cba14d8",
   "metadata": {},
   "outputs": [],
   "source": [
    "\n",
    "X_train, X_test, y_train, y_test = train_test_split(X, y, test_size=0.3,random_state=20)\n"
   ]
  },
  {
   "cell_type": "code",
   "execution_count": 152,
   "id": "561089d2",
   "metadata": {},
   "outputs": [],
   "source": [
    "naive_bayes = GaussianNB()\n",
    "\n",
    "#Fitting the data to the classifier\n",
    "naive_bayes.fit(X_train , y_train)\n",
    " \n",
    "#Predict on test data\n",
    "y_predicted = naive_bayes.predict(X_test)"
   ]
  },
  {
   "cell_type": "code",
   "execution_count": 153,
   "id": "95a6d7dd",
   "metadata": {},
   "outputs": [
    {
     "name": "stdout",
     "output_type": "stream",
     "text": [
      "naive bayes Confusion matrix :\n",
      " [[86348  1856]\n",
      " [21315  1004]]\n",
      "naive bayes classification report :\n",
      "               precision    recall  f1-score   support\n",
      "\n",
      "           0       0.80      0.98      0.88     88204\n",
      "           1       0.35      0.04      0.08     22319\n",
      "\n",
      "    accuracy                           0.79    110523\n",
      "   macro avg       0.58      0.51      0.48    110523\n",
      "weighted avg       0.71      0.79      0.72    110523\n",
      "\n"
     ]
    }
   ],
   "source": [
    "nb_conf_matrix=metrics.confusion_matrix(y, naive_bayes.predict(X))\n",
    "print(\"naive bayes Confusion matrix :\\n\",nb_conf_matrix)\n",
    "print(\"naive bayes classification report :\\n\", metrics.classification_report(y, naive_bayes.predict(X)))"
   ]
  },
  {
   "cell_type": "code",
   "execution_count": 154,
   "id": "7c01caf6",
   "metadata": {},
   "outputs": [],
   "source": [
    "nb_TP = nb_conf_matrix[0][0]\n",
    "nb_TN = nb_conf_matrix[1][1]\n",
    "nb_FP = nb_conf_matrix[0][1]\n",
    "nb_FN = nb_conf_matrix[1][0]\n",
    "nb_recall = recall_score(y, naive_bayes.predict(X))\n",
    "nb_f1_score = f1_score(y, naive_bayes.predict(X))"
   ]
  },
  {
   "cell_type": "code",
   "execution_count": 155,
   "id": "68474645",
   "metadata": {},
   "outputs": [
    {
     "name": "stdout",
     "output_type": "stream",
     "text": [
      "Accuracy - naive bayes: 0.7903513295875066\n",
      "Sensitivity/Recall - naive bayes: 0.044984094269456515\n",
      "Specificity - naive bayes: 0.35104895104895106\n",
      "F1 Score - Naive Bayes: 0.07974899718018985\n"
     ]
    }
   ],
   "source": [
    "print(\"Accuracy - naive bayes:\", metrics.accuracy_score(y, naive_bayes.predict(X)))\n",
    "print(\"Sensitivity/Recall - naive bayes:\", nb_recall)\n",
    "print(\"Specificity - naive bayes:\", float(nb_TN / float(nb_TN + nb_FP)))\n",
    "print(\"F1 Score - Naive Bayes:\",nb_f1_score )"
   ]
  },
  {
   "cell_type": "markdown",
   "id": "148cabfb",
   "metadata": {},
   "source": [
    "# SVM"
   ]
  },
  {
   "cell_type": "code",
   "execution_count": 159,
   "id": "8a6a604e",
   "metadata": {},
   "outputs": [],
   "source": [
    "from sklearn.svm import SVC\n",
    "from sklearn import metrics\n",
    "\n",
    "svm = SVC(random_state=0, probability=True)\n",
    "svm.fit(X_train, y_train)\n",
    "svm_pred = svm.predict(X_test)\n",
    "svm_report = classification_report(y_test, svm_pred)"
   ]
  },
  {
   "cell_type": "code",
   "execution_count": 160,
   "id": "98fd9eb5",
   "metadata": {},
   "outputs": [
    {
     "name": "stdout",
     "output_type": "stream",
     "text": [
      "SVM Confusion matrix :\n",
      " [[88162    42]\n",
      " [22255    64]]\n",
      "SVM classification report :\n",
      "               precision    recall  f1-score   support\n",
      "\n",
      "           0       0.80      1.00      0.89     88204\n",
      "           1       0.60      0.00      0.01     22319\n",
      "\n",
      "    accuracy                           0.80    110523\n",
      "   macro avg       0.70      0.50      0.45    110523\n",
      "weighted avg       0.76      0.80      0.71    110523\n",
      "\n"
     ]
    }
   ],
   "source": [
    "svm_conf_matrix=metrics.confusion_matrix(y, svm.predict(X))\n",
    "print(\"SVM Confusion matrix :\\n\",svm_conf_matrix)\n",
    "print(\"SVM classification report :\\n\", metrics.classification_report(y, svm.predict(X)))"
   ]
  },
  {
   "cell_type": "code",
   "execution_count": 161,
   "id": "ac9e7fde",
   "metadata": {},
   "outputs": [],
   "source": [
    "svm_TP = nb_conf_matrix[0][0]\n",
    "svm_TN = nb_conf_matrix[1][1]\n",
    "svm_FP = nb_conf_matrix[0][1]\n",
    "svm_FN = nb_conf_matrix[1][0]\n",
    "svm_recall = recall_score(y, svm.predict(X))\n",
    "svm_f1_score = f1_score(y, svm.predict(X))"
   ]
  },
  {
   "cell_type": "code",
   "execution_count": 162,
   "id": "73d4af47",
   "metadata": {},
   "outputs": [
    {
     "name": "stdout",
     "output_type": "stream",
     "text": [
      "Accuracy - SVM: 0.7982591858708142\n",
      "Sensitivity/Recall - SVM: 0.0028675119853040013\n",
      "Specificity - SVM: 0.35104895104895106\n",
      "F1 Score - SVM: 0.005707915273132665\n"
     ]
    }
   ],
   "source": [
    "print(\"Accuracy - SVM:\", metrics.accuracy_score(y, svm.predict(X)))\n",
    "print(\"Sensitivity/Recall - SVM:\", svm_recall)\n",
    "print(\"Specificity - SVM:\", (svm_TN / float(svm_TN + svm_FP)))\n",
    "print(\"F1 Score - SVM:\",svm_f1_score )"
   ]
  },
  {
   "cell_type": "markdown",
   "id": "7abb59cf",
   "metadata": {},
   "source": [
    "# Decision tree"
   ]
  },
  {
   "cell_type": "code",
   "execution_count": 163,
   "id": "3aa701ce",
   "metadata": {},
   "outputs": [],
   "source": [
    "from sklearn.tree import DecisionTreeClassifier\n",
    "dt = DecisionTreeClassifier(random_state=42)\n",
    "dt.fit(X_train, y_train)\n",
    "dt_pred = dt.predict(X_test)\n",
    "dt_report = classification_report(y_test, dt_pred)"
   ]
  },
  {
   "cell_type": "code",
   "execution_count": 164,
   "id": "78fe1644",
   "metadata": {},
   "outputs": [
    {
     "name": "stdout",
     "output_type": "stream",
     "text": [
      "Decision tree Confusion matrix :\n",
      " [[87829   375]\n",
      " [21677   642]]\n",
      "Decision tree classification report :\n",
      "               precision    recall  f1-score   support\n",
      "\n",
      "           0       0.80      1.00      0.89     88204\n",
      "           1       0.63      0.03      0.06     22319\n",
      "\n",
      "    accuracy                           0.80    110523\n",
      "   macro avg       0.72      0.51      0.47    110523\n",
      "weighted avg       0.77      0.80      0.72    110523\n",
      "\n"
     ]
    }
   ],
   "source": [
    "dt_conf_matrix=metrics.confusion_matrix(y, dt.predict(X))\n",
    "print(\"Decision tree Confusion matrix :\\n\",metrics.confusion_matrix(y, dt.predict(X)))\n",
    "print(\"Decision tree classification report :\\n\", metrics.classification_report(y, dt.predict(X)))"
   ]
  },
  {
   "cell_type": "code",
   "execution_count": 165,
   "id": "66e34f50",
   "metadata": {},
   "outputs": [],
   "source": [
    "dt_TP = dt_conf_matrix[0][0]\n",
    "dt_TN = dt_conf_matrix[1][1]\n",
    "dt_FP = dt_conf_matrix[0][1]\n",
    "dt_FN = dt_conf_matrix[1][0]\n",
    "dt_recall = recall_score(y, dt.predict(X))\n",
    "dt_f1_score = f1_score(y, dt.predict(X))"
   ]
  },
  {
   "cell_type": "code",
   "execution_count": 167,
   "id": "9025f7f9",
   "metadata": {},
   "outputs": [
    {
     "name": "stdout",
     "output_type": "stream",
     "text": [
      "Accuracy - Decision Tree: 0.8004759190394759\n",
      "Sensitivity/Recall - Decision Tree: 0.028764729602580762\n",
      "Specificity - Decision Tree: 0.6312684365781711\n",
      "F1 Score - SVM: 0.055022283167637985\n"
     ]
    }
   ],
   "source": [
    "print(\"Accuracy - Decision Tree:\", metrics.accuracy_score(y, dt.predict(X)))\n",
    "print(\"Sensitivity/Recall - Decision Tree:\", dt_recall)\n",
    "print(\"Specificity - Decision Tree:\", (dt_TN / float(dt_TN + dt_FP)))\n",
    "print(\"F1 Score - SVM:\",dt_f1_score )"
   ]
  },
  {
   "cell_type": "markdown",
   "id": "302765f9",
   "metadata": {},
   "source": [
    "For the accuracy, all the three method are very close, and the decision is better.\n",
    "For the Sensitivity, all the three mothod is low, which means hard to predit the True Negative. Naive bayes is better.\n",
    "For the specificity, Decision tree's true positive rate is higher than the others, which which is better to tell us the proportion of no-show patients were correctly classified.\n",
    "The F1 score means the harmonic mean of presion and recall, the naive Bays works better. "
   ]
  },
  {
   "cell_type": "markdown",
   "id": "1934eb50",
   "metadata": {},
   "source": [
    "### 4.Carry out a ROC analysis to compare the performance of the Naïve Bayes, SVM model with the Decision Tree model. Plot the ROC graph of the models. "
   ]
  },
  {
   "cell_type": "code",
   "execution_count": 171,
   "id": "ae442d88",
   "metadata": {},
   "outputs": [
    {
     "name": "stderr",
     "output_type": "stream",
     "text": [
      "/Users/liuyichen/opt/anaconda3/lib/python3.9/site-packages/sklearn/base.py:450: UserWarning: X does not have valid feature names, but GaussianNB was fitted with feature names\n",
      "  warnings.warn(\n"
     ]
    },
    {
     "data": {
      "image/png": "[encoded data removed]",
      "text/plain": [
       "<Figure size 640x480 with 1 Axes>"
      ]
     },
     "metadata": {},
     "output_type": "display_data"
    }
   ],
   "source": [
    "from sklearn.metrics import roc_curve, roc_auc_score, plot_roc_curve\n",
    "# Compute ROC and AUC for Naive Bayes\n",
    "nb_pred_prob = best_gnb.predict_proba(X_test)[:, 1]\n",
    "nb_fpr, nb_tpr, nb_thresholds = roc_curve(y_test, nb_pred_prob)\n",
    "nb_auc = roc_auc_score(y_test, nb_pred_prob)\n",
    "\n",
    "# Compute ROC and AUC for SVM\n",
    "svm_pred_prob = svm.decision_function(X_test)\n",
    "svm_fpr, svm_tpr, svm_thresholds = roc_curve(y_test, svm_pred_prob)\n",
    "svm_auc = roc_auc_score(y_test, svm_pred_prob)\n",
    "\n",
    "# Compute ROC and AUC for Decision Tree\n",
    "dt_pred_prob = dt.predict_proba(X_test)[:, 1]\n",
    "dt_fpr, dt_tpr, dt_thresholds = roc_curve(y_test, dt_pred_prob)\n",
    "dt_auc = roc_auc_score(y_test, dt_pred_prob)\n",
    "\n",
    "# Plot ROC curves for all classifiers\n",
    "plt.plot(nb_fpr, nb_tpr, label='Naive Bayes (AUC = %0.2f)' % nb_auc)\n",
    "plt.plot(svm_fpr, svm_tpr, label='SVM (AUC = %0.2f)' % svm_auc)\n",
    "plt.plot(dt_fpr, dt_tpr, label='Decision Tree (AUC = %0.2f)' % dt_auc)\n",
    "plt.plot([0, 1], [0, 1], 'k--')\n",
    "plt.xlim([0.0, 1.0])\n",
    "plt.ylim([0.0, 1.05])\n",
    "plt.xlabel('False Positive Rate')\n",
    "plt.ylabel('True Positive Rate')\n",
    "plt.title('ROC Curves for Naive Bayes, SVM and Decision Tree')\n",
    "plt.legend(loc=\"lower right\")\n",
    "plt.show()\n"
   ]
  },
  {
   "cell_type": "markdown",
   "id": "bb518e58",
   "metadata": {},
   "source": [
    "In the ROC curves summarizes all of the confusion matrices that each threshold produced. For all of the naive bayes, SVM and Decision tree in the model, the sensitivity is low. But the decision tree is better than the other. The area under the cruve (the Auc) decision tree is larger. "
   ]
  },
  {
   "cell_type": "markdown",
   "id": "17ea1308",
   "metadata": {},
   "source": [
    "From all the three model, we can conclude that, all the precision close to 0.8 with a low recall/sensitivity. \n",
    "A low recall score (<0.5) means the classifier has a high number of False negatives which can be an outcome of imbalanced class or untuned model hyperparameters. Obviously, in the orginal dataset, There are 80%'no-show' is false, and 20% is true. The data is imbalanced.\n",
    "In an imbalanced class problem, you have to prepare your data beforehand with Over/Under-Sampling or Focal Loss in order to curb FP/FN."
   ]
  },
  {
   "cell_type": "code",
   "execution_count": 40,
   "id": "426ae862",
   "metadata": {},
   "outputs": [
    {
     "data": {
      "text/plain": [
       "(110523,)"
      ]
     },
     "execution_count": 40,
     "metadata": {},
     "output_type": "execute_result"
    }
   ],
   "source": [
    "import numpy as np\n",
    "import random\n",
    "data['No-show'].shape"
   ]
  },
  {
   "cell_type": "code",
   "execution_count": 41,
   "id": "e7bdcacf",
   "metadata": {},
   "outputs": [],
   "source": [
    "import numpy as np\n",
    "\n",
    "data_select_show = data[data[\"No-show\"] == 0]\n",
    "data_select_show = data_select_show.sample(frac=0.25)\n"
   ]
  },
  {
   "cell_type": "code",
   "execution_count": 42,
   "id": "54882730",
   "metadata": {},
   "outputs": [],
   "source": [
    "data_select_no = data[data[\"No-show\"] == 1]\n"
   ]
  },
  {
   "cell_type": "code",
   "execution_count": 43,
   "id": "97a40a9d",
   "metadata": {},
   "outputs": [
    {
     "data": {
      "text/plain": [
       "(22319, 20)"
      ]
     },
     "execution_count": 43,
     "metadata": {},
     "output_type": "execute_result"
    }
   ],
   "source": [
    "data_select_no.shape"
   ]
  },
  {
   "cell_type": "code",
   "execution_count": 44,
   "id": "aa362c8a",
   "metadata": {},
   "outputs": [
    {
     "data": {
      "text/plain": [
       "(22051, 20)"
      ]
     },
     "execution_count": 44,
     "metadata": {},
     "output_type": "execute_result"
    }
   ],
   "source": [
    "data_select_show.shape"
   ]
  },
  {
   "cell_type": "code",
   "execution_count": 45,
   "id": "adbaa339",
   "metadata": {},
   "outputs": [],
   "source": [
    "data_select = pd.concat([data_select_show, data_select_no], axis=0, join='outer')"
   ]
  },
  {
   "cell_type": "code",
   "execution_count": 46,
   "id": "11a4ed67",
   "metadata": {},
   "outputs": [
    {
     "data": {
      "text/plain": [
       "(44370, 20)"
      ]
     },
     "execution_count": 46,
     "metadata": {},
     "output_type": "execute_result"
    }
   ],
   "source": [
    "data_select.shape"
   ]
  },
  {
   "cell_type": "code",
   "execution_count": 47,
   "id": "be91606a",
   "metadata": {},
   "outputs": [
    {
     "data": {
      "text/html": [
       "<div>\n",
       "<style scoped>\n",
       "    .dataframe tbody tr th:only-of-type {\n",
       "        vertical-align: middle;\n",
       "    }\n",
       "\n",
       "    .dataframe tbody tr th {\n",
       "        vertical-align: top;\n",
       "    }\n",
       "\n",
       "    .dataframe thead th {\n",
       "        text-align: right;\n",
       "    }\n",
       "</style>\n",
       "<table border=\"1\" class=\"dataframe\">\n",
       "  <thead>\n",
       "    <tr style=\"text-align: right;\">\n",
       "      <th></th>\n",
       "      <th>Gender</th>\n",
       "      <th>Age</th>\n",
       "      <th>Neighbourhood</th>\n",
       "      <th>Scholarship</th>\n",
       "      <th>Hypertension</th>\n",
       "      <th>Diabetes</th>\n",
       "      <th>Alcoholism</th>\n",
       "      <th>Handicap</th>\n",
       "      <th>SMS_received</th>\n",
       "      <th>No-show</th>\n",
       "      <th>AwaitingTime</th>\n",
       "      <th>ScheduledDay_year</th>\n",
       "      <th>ScheduledDay_month</th>\n",
       "      <th>ScheduledDay_day</th>\n",
       "      <th>ScheduledDay_hour</th>\n",
       "      <th>AppointmentDay_year</th>\n",
       "      <th>AppointmentDay_month</th>\n",
       "      <th>AppointmentDay_day</th>\n",
       "    </tr>\n",
       "  </thead>\n",
       "  <tbody>\n",
       "    <tr>\n",
       "      <th>count</th>\n",
       "      <td>44370.000000</td>\n",
       "      <td>44370.000000</td>\n",
       "      <td>44370.000000</td>\n",
       "      <td>44370.000000</td>\n",
       "      <td>44370.000000</td>\n",
       "      <td>44370.000000</td>\n",
       "      <td>44370.000000</td>\n",
       "      <td>44370.000000</td>\n",
       "      <td>44370.000000</td>\n",
       "      <td>44370.000000</td>\n",
       "      <td>44370.000000</td>\n",
       "      <td>44370.000000</td>\n",
       "      <td>44370.000000</td>\n",
       "      <td>44370.000000</td>\n",
       "      <td>44370.000000</td>\n",
       "      <td>44370.0</td>\n",
       "      <td>44370.000000</td>\n",
       "      <td>44370.000000</td>\n",
       "    </tr>\n",
       "    <tr>\n",
       "      <th>mean</th>\n",
       "      <td>0.349966</td>\n",
       "      <td>0.353415</td>\n",
       "      <td>41.620915</td>\n",
       "      <td>0.104305</td>\n",
       "      <td>0.188235</td>\n",
       "      <td>0.069168</td>\n",
       "      <td>0.030268</td>\n",
       "      <td>0.021794</td>\n",
       "      <td>0.364661</td>\n",
       "      <td>0.503020</td>\n",
       "      <td>12.313973</td>\n",
       "      <td>2015.999324</td>\n",
       "      <td>4.739892</td>\n",
       "      <td>14.571152</td>\n",
       "      <td>10.925670</td>\n",
       "      <td>2016.0</td>\n",
       "      <td>5.204665</td>\n",
       "      <td>12.525378</td>\n",
       "    </tr>\n",
       "    <tr>\n",
       "      <th>std</th>\n",
       "      <td>0.476964</td>\n",
       "      <td>0.223230</td>\n",
       "      <td>22.333457</td>\n",
       "      <td>0.305659</td>\n",
       "      <td>0.390904</td>\n",
       "      <td>0.253743</td>\n",
       "      <td>0.171326</td>\n",
       "      <td>0.161966</td>\n",
       "      <td>0.481340</td>\n",
       "      <td>0.499997</td>\n",
       "      <td>16.057393</td>\n",
       "      <td>0.025994</td>\n",
       "      <td>0.734261</td>\n",
       "      <td>9.311143</td>\n",
       "      <td>3.221327</td>\n",
       "      <td>0.0</td>\n",
       "      <td>0.467194</td>\n",
       "      <td>8.991112</td>\n",
       "    </tr>\n",
       "    <tr>\n",
       "      <th>min</th>\n",
       "      <td>0.000000</td>\n",
       "      <td>0.000000</td>\n",
       "      <td>0.000000</td>\n",
       "      <td>0.000000</td>\n",
       "      <td>0.000000</td>\n",
       "      <td>0.000000</td>\n",
       "      <td>0.000000</td>\n",
       "      <td>0.000000</td>\n",
       "      <td>0.000000</td>\n",
       "      <td>0.000000</td>\n",
       "      <td>0.000000</td>\n",
       "      <td>2015.000000</td>\n",
       "      <td>1.000000</td>\n",
       "      <td>1.000000</td>\n",
       "      <td>6.000000</td>\n",
       "      <td>2016.0</td>\n",
       "      <td>4.000000</td>\n",
       "      <td>1.000000</td>\n",
       "    </tr>\n",
       "    <tr>\n",
       "      <th>25%</th>\n",
       "      <td>0.000000</td>\n",
       "      <td>0.166667</td>\n",
       "      <td>26.000000</td>\n",
       "      <td>0.000000</td>\n",
       "      <td>0.000000</td>\n",
       "      <td>0.000000</td>\n",
       "      <td>0.000000</td>\n",
       "      <td>0.000000</td>\n",
       "      <td>0.000000</td>\n",
       "      <td>0.000000</td>\n",
       "      <td>1.000000</td>\n",
       "      <td>2016.000000</td>\n",
       "      <td>4.000000</td>\n",
       "      <td>6.000000</td>\n",
       "      <td>8.000000</td>\n",
       "      <td>2016.0</td>\n",
       "      <td>5.000000</td>\n",
       "      <td>5.000000</td>\n",
       "    </tr>\n",
       "    <tr>\n",
       "      <th>50%</th>\n",
       "      <td>0.000000</td>\n",
       "      <td>0.343137</td>\n",
       "      <td>40.000000</td>\n",
       "      <td>0.000000</td>\n",
       "      <td>0.000000</td>\n",
       "      <td>0.000000</td>\n",
       "      <td>0.000000</td>\n",
       "      <td>0.000000</td>\n",
       "      <td>0.000000</td>\n",
       "      <td>1.000000</td>\n",
       "      <td>6.000000</td>\n",
       "      <td>2016.000000</td>\n",
       "      <td>5.000000</td>\n",
       "      <td>13.000000</td>\n",
       "      <td>10.000000</td>\n",
       "      <td>2016.0</td>\n",
       "      <td>5.000000</td>\n",
       "      <td>10.000000</td>\n",
       "    </tr>\n",
       "    <tr>\n",
       "      <th>75%</th>\n",
       "      <td>1.000000</td>\n",
       "      <td>0.529412</td>\n",
       "      <td>60.000000</td>\n",
       "      <td>0.000000</td>\n",
       "      <td>0.000000</td>\n",
       "      <td>0.000000</td>\n",
       "      <td>0.000000</td>\n",
       "      <td>0.000000</td>\n",
       "      <td>1.000000</td>\n",
       "      <td>1.000000</td>\n",
       "      <td>19.000000</td>\n",
       "      <td>2016.000000</td>\n",
       "      <td>5.000000</td>\n",
       "      <td>24.000000</td>\n",
       "      <td>14.000000</td>\n",
       "      <td>2016.0</td>\n",
       "      <td>5.000000</td>\n",
       "      <td>19.000000</td>\n",
       "    </tr>\n",
       "    <tr>\n",
       "      <th>max</th>\n",
       "      <td>1.000000</td>\n",
       "      <td>1.000000</td>\n",
       "      <td>80.000000</td>\n",
       "      <td>1.000000</td>\n",
       "      <td>1.000000</td>\n",
       "      <td>1.000000</td>\n",
       "      <td>1.000000</td>\n",
       "      <td>4.000000</td>\n",
       "      <td>1.000000</td>\n",
       "      <td>1.000000</td>\n",
       "      <td>179.000000</td>\n",
       "      <td>2016.000000</td>\n",
       "      <td>12.000000</td>\n",
       "      <td>31.000000</td>\n",
       "      <td>21.000000</td>\n",
       "      <td>2016.0</td>\n",
       "      <td>6.000000</td>\n",
       "      <td>31.000000</td>\n",
       "    </tr>\n",
       "  </tbody>\n",
       "</table>\n",
       "</div>"
      ],
      "text/plain": [
       "             Gender           Age  Neighbourhood   Scholarship  Hypertension  \\\n",
       "count  44370.000000  44370.000000   44370.000000  44370.000000  44370.000000   \n",
       "mean       0.349966      0.353415      41.620915      0.104305      0.188235   \n",
       "std        0.476964      0.223230      22.333457      0.305659      0.390904   \n",
       "min        0.000000      0.000000       0.000000      0.000000      0.000000   \n",
       "25%        0.000000      0.166667      26.000000      0.000000      0.000000   \n",
       "50%        0.000000      0.343137      40.000000      0.000000      0.000000   \n",
       "75%        1.000000      0.529412      60.000000      0.000000      0.000000   \n",
       "max        1.000000      1.000000      80.000000      1.000000      1.000000   \n",
       "\n",
       "           Diabetes    Alcoholism      Handicap  SMS_received       No-show  \\\n",
       "count  44370.000000  44370.000000  44370.000000  44370.000000  44370.000000   \n",
       "mean       0.069168      0.030268      0.021794      0.364661      0.503020   \n",
       "std        0.253743      0.171326      0.161966      0.481340      0.499997   \n",
       "min        0.000000      0.000000      0.000000      0.000000      0.000000   \n",
       "25%        0.000000      0.000000      0.000000      0.000000      0.000000   \n",
       "50%        0.000000      0.000000      0.000000      0.000000      1.000000   \n",
       "75%        0.000000      0.000000      0.000000      1.000000      1.000000   \n",
       "max        1.000000      1.000000      4.000000      1.000000      1.000000   \n",
       "\n",
       "       AwaitingTime  ScheduledDay_year  ScheduledDay_month  ScheduledDay_day  \\\n",
       "count  44370.000000       44370.000000        44370.000000      44370.000000   \n",
       "mean      12.313973        2015.999324            4.739892         14.571152   \n",
       "std       16.057393           0.025994            0.734261          9.311143   \n",
       "min        0.000000        2015.000000            1.000000          1.000000   \n",
       "25%        1.000000        2016.000000            4.000000          6.000000   \n",
       "50%        6.000000        2016.000000            5.000000         13.000000   \n",
       "75%       19.000000        2016.000000            5.000000         24.000000   \n",
       "max      179.000000        2016.000000           12.000000         31.000000   \n",
       "\n",
       "       ScheduledDay_hour  AppointmentDay_year  AppointmentDay_month  \\\n",
       "count       44370.000000              44370.0          44370.000000   \n",
       "mean           10.925670               2016.0              5.204665   \n",
       "std             3.221327                  0.0              0.467194   \n",
       "min             6.000000               2016.0              4.000000   \n",
       "25%             8.000000               2016.0              5.000000   \n",
       "50%            10.000000               2016.0              5.000000   \n",
       "75%            14.000000               2016.0              5.000000   \n",
       "max            21.000000               2016.0              6.000000   \n",
       "\n",
       "       AppointmentDay_day  \n",
       "count        44370.000000  \n",
       "mean            12.525378  \n",
       "std              8.991112  \n",
       "min              1.000000  \n",
       "25%              5.000000  \n",
       "50%             10.000000  \n",
       "75%             19.000000  \n",
       "max             31.000000  "
      ]
     },
     "execution_count": 47,
     "metadata": {},
     "output_type": "execute_result"
    }
   ],
   "source": [
    "data_select.describe()"
   ]
  },
  {
   "cell_type": "code",
   "execution_count": 54,
   "id": "4c01ecbb",
   "metadata": {},
   "outputs": [
    {
     "name": "stderr",
     "output_type": "stream",
     "text": [
      "/Users/liuyichen/opt/anaconda3/lib/python3.9/site-packages/seaborn/_decorators.py:36: FutureWarning: Pass the following variable as a keyword arg: x. From version 0.12, the only valid positional argument will be `data`, and passing other arguments without an explicit keyword will result in an error or misinterpretation.\n",
      "  warnings.warn(\n"
     ]
    },
    {
     "data": {
      "text/plain": [
       "<AxesSubplot:xlabel='No-show', ylabel='count'>"
      ]
     },
     "execution_count": 54,
     "metadata": {},
     "output_type": "execute_result"
    },
    {
     "data": {
      "image/png": "[encoded data removed]",
      "text/plain": [
       "<Figure size 640x480 with 1 Axes>"
      ]
     },
     "metadata": {},
     "output_type": "display_data"
    }
   ],
   "source": [
    "sns.countplot('No-show',data=data_select)"
   ]
  },
  {
   "cell_type": "code",
   "execution_count": 55,
   "id": "02475143",
   "metadata": {},
   "outputs": [
    {
     "data": {
      "text/plain": [
       "((31059, 8), (31059,))"
      ]
     },
     "execution_count": 55,
     "metadata": {},
     "output_type": "execute_result"
    }
   ],
   "source": [
    "#create the train and test sets. keeping 70% as training data and 30% as testing data.\n",
    "X_select=data_select[['Gender','Age','Scholarship','Diabetes','Alcoholism','Handicap','Hypertension','SMS_received']]\n",
    "y_select=data_select['No-show']\n",
    "X_select_train, X_select_test, y_select_train, y_select_test = train_test_split(X_select, y_select, test_size=0.3,random_state=20)\n",
    "X_select_train.shape,y_select_train.shape"
   ]
  },
  {
   "cell_type": "markdown",
   "id": "431758b9",
   "metadata": {},
   "source": [
    "# Naive_bayes"
   ]
  },
  {
   "cell_type": "code",
   "execution_count": 56,
   "id": "c4d9c3b8",
   "metadata": {},
   "outputs": [],
   "source": [
    "naive_bayes = GaussianNB()\n",
    "\n",
    "#Fitting the data to the classifier\n",
    "naive_bayes.fit(X_select_train , y_select_train)\n",
    " \n",
    "#Predict on test data\n",
    "y_predicted = naive_bayes.predict(X_select_test)"
   ]
  },
  {
   "cell_type": "code",
   "execution_count": 57,
   "id": "2a253d7f",
   "metadata": {},
   "outputs": [
    {
     "name": "stdout",
     "output_type": "stream",
     "text": [
      "naive bayes Confusion matrix :\n",
      " [[ 8241 13810]\n",
      " [ 6208 16111]]\n",
      "naive bayes classification report :\n",
      "               precision    recall  f1-score   support\n",
      "\n",
      "           0       0.57      0.37      0.45     22051\n",
      "           1       0.54      0.72      0.62     22319\n",
      "\n",
      "    accuracy                           0.55     44370\n",
      "   macro avg       0.55      0.55      0.53     44370\n",
      "weighted avg       0.55      0.55      0.53     44370\n",
      "\n"
     ]
    }
   ],
   "source": [
    "nb_conf_matrix=metrics.confusion_matrix(y_select, naive_bayes.predict(X_select))\n",
    "print(\"naive bayes Confusion matrix :\\n\",nb_conf_matrix)\n",
    "print(\"naive bayes classification report :\\n\", metrics.classification_report(y_select, naive_bayes.predict(X_select)))"
   ]
  },
  {
   "cell_type": "markdown",
   "id": "56197fab",
   "metadata": {},
   "source": [
    "# SVM"
   ]
  },
  {
   "cell_type": "code",
   "execution_count": 58,
   "id": "39eb360d",
   "metadata": {},
   "outputs": [],
   "source": [
    "from sklearn.svm import SVC\n",
    "from sklearn import metrics\n",
    "\n",
    "svm = SVC(random_state=0, probability=True)\n",
    "svm.fit(X_select_train, y_select_train)\n",
    "svm_pred = svm.predict(X_select_test)\n",
    "svm_report = classification_report(y_select_test, svm_pred)"
   ]
  },
  {
   "cell_type": "code",
   "execution_count": 60,
   "id": "67f7fc4c",
   "metadata": {},
   "outputs": [
    {
     "name": "stdout",
     "output_type": "stream",
     "text": [
      "SVM Confusion matrix :\n",
      " [[15373  6678]\n",
      " [12120 10199]]\n",
      "SVM classification report :\n",
      "               precision    recall  f1-score   support\n",
      "\n",
      "           0       0.56      0.70      0.62     22051\n",
      "           1       0.60      0.46      0.52     22319\n",
      "\n",
      "    accuracy                           0.58     44370\n",
      "   macro avg       0.58      0.58      0.57     44370\n",
      "weighted avg       0.58      0.58      0.57     44370\n",
      "\n"
     ]
    }
   ],
   "source": [
    "svm_conf_matrix=metrics.confusion_matrix(y_select, svm.predict(X_select))\n",
    "print(\"SVM Confusion matrix :\\n\",svm_conf_matrix)\n",
    "print(\"SVM classification report :\\n\", metrics.classification_report(y_select, svm.predict(X_select)))"
   ]
  },
  {
   "cell_type": "markdown",
   "id": "a4eb0280",
   "metadata": {},
   "source": [
    "# Decision Tree"
   ]
  },
  {
   "cell_type": "code",
   "execution_count": 61,
   "id": "4d086a95",
   "metadata": {},
   "outputs": [],
   "source": [
    "from sklearn.tree import DecisionTreeClassifier\n",
    "dt = DecisionTreeClassifier(random_state=42)\n",
    "dt.fit(X_select_train, y_select_train)\n",
    "dt_pred = dt.predict(X_select_test)\n",
    "dt_report = classification_report(y_select_test, dt_pred)"
   ]
  },
  {
   "cell_type": "code",
   "execution_count": 63,
   "id": "afef35b9",
   "metadata": {},
   "outputs": [
    {
     "name": "stdout",
     "output_type": "stream",
     "text": [
      "Decision tree Confusion matrix :\n",
      " [[14667  7384]\n",
      " [ 9984 12335]]\n",
      "Decision tree classification report :\n",
      "               precision    recall  f1-score   support\n",
      "\n",
      "           0       0.59      0.67      0.63     22051\n",
      "           1       0.63      0.55      0.59     22319\n",
      "\n",
      "    accuracy                           0.61     44370\n",
      "   macro avg       0.61      0.61      0.61     44370\n",
      "weighted avg       0.61      0.61      0.61     44370\n",
      "\n"
     ]
    }
   ],
   "source": [
    "dt_conf_matrix=metrics.confusion_matrix(y_select, dt.predict(X_select))\n",
    "print(\"Decision tree Confusion matrix :\\n\",metrics.confusion_matrix(y_select, dt.predict(X_select)))\n",
    "print(\"Decision tree classification report :\\n\", metrics.classification_report(y_select, dt.predict(X_select)))"
   ]
  },
  {
   "cell_type": "markdown",
   "id": "923a3fd4",
   "metadata": {},
   "source": [
    "# ROC & AUC in balance dataset"
   ]
  },
  {
   "cell_type": "code",
   "execution_count": 80,
   "id": "20219065",
   "metadata": {},
   "outputs": [
    {
     "data": {
      "image/png": "[encoded data removed]",
      "text/plain": [
       "<Figure size 640x480 with 1 Axes>"
      ]
     },
     "metadata": {},
     "output_type": "display_data"
    }
   ],
   "source": [
    "from sklearn.metrics import roc_curve, roc_auc_score, plot_roc_curve\n",
    "# Compute ROC and AUC for Naive Bayes\n",
    "nb_pred_prob = best_gnb.predict_proba(X_select_test)[:, 1]\n",
    "nb_fpr, nb_tpr, nb_thresholds = roc_curve(y_select_test, nb_pred_prob)\n",
    "nb_auc = roc_auc_score(y_select_test, nb_pred_prob)\n",
    "\n",
    "# Compute ROC and AUC for SVM\n",
    "svm_pred_prob = svm.decision_function(X_select_test)\n",
    "svm_fpr, svm_tpr, svm_thresholds = roc_curve(y_select_test, svm_pred_prob)\n",
    "svm_auc = roc_auc_score(y_select_test, svm_pred_prob)\n",
    "\n",
    "# Compute ROC and AUC for Decision Tree\n",
    "dt_pred_prob = dt.predict_proba(X_select_test)[:, 1]\n",
    "dt_fpr, dt_tpr, dt_thresholds = roc_curve(y_select_test, dt_pred_prob)\n",
    "dt_auc = roc_auc_score(y_select_test, dt_pred_prob)\n",
    "\n",
    "# Plot ROC curves for all classifiers\n",
    "plt.plot(nb_fpr, nb_tpr, label='Naive Bayes (AUC = %0.2f)' % nb_auc)\n",
    "plt.plot(svm_fpr, svm_tpr, label='SVM (AUC = %0.2f)' % svm_auc)\n",
    "plt.plot(dt_fpr, dt_tpr, label='Decision Tree (AUC = %0.2f)' % dt_auc)\n",
    "plt.plot([0, 1], [0, 1], 'k--')\n",
    "plt.xlim([0.0, 1.0])\n",
    "plt.ylim([0.0, 1.05])\n",
    "plt.xlabel('False Positive Rate')\n",
    "plt.ylabel('True Positive Rate')\n",
    "plt.title('ROC Curves for Naive Bayes, SVM and Decision Tree')\n",
    "plt.legend(loc=\"lower right\")\n",
    "plt.show()\n"
   ]
  },
  {
   "cell_type": "markdown",
   "id": "f79d8561",
   "metadata": {},
   "source": [
    "After balance the dataset, For the accuracy, the decision is better. For the ROC Curves, the Naive is better. \n",
    "For a hospital to cut costs, predict if a patient will not show up on the appointment day is more significant. So the ability to predit True Negative is more important between the three models. We consider the Naive Bayes work better, with highest recall and highest AUC."
   ]
  },
  {
   "cell_type": "code",
   "execution_count": null,
   "id": "7eeddb1f",
   "metadata": {},
   "outputs": [],
   "source": []
  }
 ],
 "metadata": {
  "kernelspec": {
   "display_name": "Python 3 (ipykernel)",
   "language": "python",
   "name": "python3"
  },
  "language_info": {
   "codemirror_mode": {
    "name": "ipython",
    "version": 3
   },
   "file_extension": ".py",
   "mimetype": "text/x-python",
   "name": "python",
   "nbconvert_exporter": "python",
   "pygments_lexer": "ipython3",
   "version": "3.9.13"
  }
 },
 "nbformat": 4,
 "nbformat_minor": 5
}
