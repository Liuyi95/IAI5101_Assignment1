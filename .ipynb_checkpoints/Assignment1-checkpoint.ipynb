{
 "cells": [
  {
   "cell_type": "code",
   "execution_count": 82,
   "id": "0b7939ec",
   "metadata": {},
   "outputs": [
    {
     "data": {
      "text/plain": [
       "(110527, 14)"
      ]
     },
     "execution_count": 82,
     "metadata": {},
     "output_type": "execute_result"
    }
   ],
   "source": [
    "# Drop missing value rows using dropna() function\n",
    "import pandas as pd\n",
    "data = pd.read_csv('MedicalCentre.csv')\n",
    "data.shape"
   ]
  },
  {
   "cell_type": "code",
   "execution_count": 83,
   "id": "4ac85cc3",
   "metadata": {},
   "outputs": [],
   "source": [
    "import sklearn.metrics as metrics\n",
    "from sklearn.metrics import confusion_matrix, f1_score\n",
    "from sklearn.metrics import classification_report,confusion_matrix\n",
    "from sklearn import model_selection\n",
    "from sklearn.model_selection import StratifiedKFold\n",
    "from sklearn.model_selection import cross_val_score\n",
    "from sklearn.metrics import confusion_matrix, f1_score\n",
    "from sklearn.metrics import f1_score, precision_score, recall_score, accuracy_score"
   ]
  },
  {
   "cell_type": "code",
   "execution_count": 84,
   "id": "cfa59d42",
   "metadata": {},
   "outputs": [
    {
     "data": {
      "text/html": [
       "<div>\n",
       "<style scoped>\n",
       "    .dataframe tbody tr th:only-of-type {\n",
       "        vertical-align: middle;\n",
       "    }\n",
       "\n",
       "    .dataframe tbody tr th {\n",
       "        vertical-align: top;\n",
       "    }\n",
       "\n",
       "    .dataframe thead th {\n",
       "        text-align: right;\n",
       "    }\n",
       "</style>\n",
       "<table border=\"1\" class=\"dataframe\">\n",
       "  <thead>\n",
       "    <tr style=\"text-align: right;\">\n",
       "      <th></th>\n",
       "      <th>PatientID</th>\n",
       "      <th>AppointmentID</th>\n",
       "      <th>Gender</th>\n",
       "      <th>ScheduledDay</th>\n",
       "      <th>AppointmentDay</th>\n",
       "      <th>Age</th>\n",
       "      <th>Neighbourhood</th>\n",
       "      <th>Scholarship</th>\n",
       "      <th>Hypertension</th>\n",
       "      <th>Diabetes</th>\n",
       "      <th>Alcoholism</th>\n",
       "      <th>Handicap</th>\n",
       "      <th>SMS_received</th>\n",
       "      <th>No-show</th>\n",
       "    </tr>\n",
       "  </thead>\n",
       "  <tbody>\n",
       "    <tr>\n",
       "      <th>0</th>\n",
       "      <td>2.990000e+13</td>\n",
       "      <td>5642903</td>\n",
       "      <td>F</td>\n",
       "      <td>2016-04-29T18:38:08Z</td>\n",
       "      <td>2016-04-29T00:00:00Z</td>\n",
       "      <td>62.0</td>\n",
       "      <td>JARDIM DA PENHA</td>\n",
       "      <td>0</td>\n",
       "      <td>1</td>\n",
       "      <td>0</td>\n",
       "      <td>0</td>\n",
       "      <td>0</td>\n",
       "      <td>0</td>\n",
       "      <td>No</td>\n",
       "    </tr>\n",
       "    <tr>\n",
       "      <th>1</th>\n",
       "      <td>5.590000e+14</td>\n",
       "      <td>5642503</td>\n",
       "      <td>M</td>\n",
       "      <td>2016-04-29T16:08:27Z</td>\n",
       "      <td>2016-04-29T00:00:00Z</td>\n",
       "      <td>56.0</td>\n",
       "      <td>JARDIM DA PENHA</td>\n",
       "      <td>0</td>\n",
       "      <td>0</td>\n",
       "      <td>0</td>\n",
       "      <td>0</td>\n",
       "      <td>0</td>\n",
       "      <td>0</td>\n",
       "      <td>No</td>\n",
       "    </tr>\n",
       "    <tr>\n",
       "      <th>2</th>\n",
       "      <td>4.260000e+12</td>\n",
       "      <td>5642549</td>\n",
       "      <td>F</td>\n",
       "      <td>2016-04-29T16:19:04Z</td>\n",
       "      <td>2016-04-29T00:00:00Z</td>\n",
       "      <td>62.0</td>\n",
       "      <td>MATA DA PRAIA</td>\n",
       "      <td>0</td>\n",
       "      <td>0</td>\n",
       "      <td>0</td>\n",
       "      <td>0</td>\n",
       "      <td>0</td>\n",
       "      <td>0</td>\n",
       "      <td>No</td>\n",
       "    </tr>\n",
       "    <tr>\n",
       "      <th>3</th>\n",
       "      <td>8.680000e+11</td>\n",
       "      <td>5642828</td>\n",
       "      <td>F</td>\n",
       "      <td>2016-04-29T17:29:31Z</td>\n",
       "      <td>2016-04-29T00:00:00Z</td>\n",
       "      <td>8.0</td>\n",
       "      <td>PONTAL DE CAMBURI</td>\n",
       "      <td>0</td>\n",
       "      <td>0</td>\n",
       "      <td>0</td>\n",
       "      <td>0</td>\n",
       "      <td>0</td>\n",
       "      <td>0</td>\n",
       "      <td>No</td>\n",
       "    </tr>\n",
       "    <tr>\n",
       "      <th>4</th>\n",
       "      <td>8.840000e+12</td>\n",
       "      <td>5642494</td>\n",
       "      <td>F</td>\n",
       "      <td>2016-04-29T16:07:23Z</td>\n",
       "      <td>2016-04-29T00:00:00Z</td>\n",
       "      <td>56.0</td>\n",
       "      <td>JARDIM DA PENHA</td>\n",
       "      <td>0</td>\n",
       "      <td>1</td>\n",
       "      <td>1</td>\n",
       "      <td>0</td>\n",
       "      <td>0</td>\n",
       "      <td>0</td>\n",
       "      <td>No</td>\n",
       "    </tr>\n",
       "  </tbody>\n",
       "</table>\n",
       "</div>"
      ],
      "text/plain": [
       "      PatientID  AppointmentID Gender          ScheduledDay  \\\n",
       "0  2.990000e+13        5642903      F  2016-04-29T18:38:08Z   \n",
       "1  5.590000e+14        5642503      M  2016-04-29T16:08:27Z   \n",
       "2  4.260000e+12        5642549      F  2016-04-29T16:19:04Z   \n",
       "3  8.680000e+11        5642828      F  2016-04-29T17:29:31Z   \n",
       "4  8.840000e+12        5642494      F  2016-04-29T16:07:23Z   \n",
       "\n",
       "         AppointmentDay   Age      Neighbourhood  Scholarship  Hypertension  \\\n",
       "0  2016-04-29T00:00:00Z  62.0    JARDIM DA PENHA            0             1   \n",
       "1  2016-04-29T00:00:00Z  56.0    JARDIM DA PENHA            0             0   \n",
       "2  2016-04-29T00:00:00Z  62.0      MATA DA PRAIA            0             0   \n",
       "3  2016-04-29T00:00:00Z   8.0  PONTAL DE CAMBURI            0             0   \n",
       "4  2016-04-29T00:00:00Z  56.0    JARDIM DA PENHA            0             1   \n",
       "\n",
       "   Diabetes  Alcoholism  Handicap  SMS_received No-show  \n",
       "0         0           0         0             0      No  \n",
       "1         0           0         0             0      No  \n",
       "2         0           0         0             0      No  \n",
       "3         0           0         0             0      No  \n",
       "4         1           0         0             0      No  "
      ]
     },
     "execution_count": 84,
     "metadata": {},
     "output_type": "execute_result"
    }
   ],
   "source": [
    "data.head()"
   ]
  },
  {
   "cell_type": "code",
   "execution_count": 85,
   "id": "c401d6a9",
   "metadata": {},
   "outputs": [
    {
     "name": "stdout",
     "output_type": "stream",
     "text": [
      "<class 'pandas.core.frame.DataFrame'>\n",
      "RangeIndex: 110527 entries, 0 to 110526\n",
      "Data columns (total 14 columns):\n",
      " #   Column          Non-Null Count   Dtype  \n",
      "---  ------          --------------   -----  \n",
      " 0   PatientID       110527 non-null  float64\n",
      " 1   AppointmentID   110527 non-null  int64  \n",
      " 2   Gender          110527 non-null  object \n",
      " 3   ScheduledDay    110527 non-null  object \n",
      " 4   AppointmentDay  110527 non-null  object \n",
      " 5   Age             110524 non-null  float64\n",
      " 6   Neighbourhood   110527 non-null  object \n",
      " 7   Scholarship     110527 non-null  int64  \n",
      " 8   Hypertension    110527 non-null  int64  \n",
      " 9   Diabetes        110527 non-null  int64  \n",
      " 10  Alcoholism      110527 non-null  int64  \n",
      " 11  Handicap        110527 non-null  int64  \n",
      " 12  SMS_received    110527 non-null  int64  \n",
      " 13  No-show         110527 non-null  object \n",
      "dtypes: float64(2), int64(7), object(5)\n",
      "memory usage: 11.8+ MB\n"
     ]
    }
   ],
   "source": [
    "data.info()"
   ]
  },
  {
   "cell_type": "markdown",
   "id": "78d2a881",
   "metadata": {},
   "source": [
    "### 1. Prepare the data for downstream processes, e.g., deal with missing values, duplicates \t"
   ]
  },
  {
   "cell_type": "markdown",
   "id": "f2dadd79",
   "metadata": {},
   "source": [
    "### Missing values, duplicates \t"
   ]
  },
  {
   "cell_type": "code",
   "execution_count": 86,
   "id": "83bfc8bb",
   "metadata": {},
   "outputs": [
    {
     "data": {
      "text/plain": [
       "PatientID         0\n",
       "AppointmentID     0\n",
       "Gender            0\n",
       "ScheduledDay      0\n",
       "AppointmentDay    0\n",
       "Age               3\n",
       "Neighbourhood     0\n",
       "Scholarship       0\n",
       "Hypertension      0\n",
       "Diabetes          0\n",
       "Alcoholism        0\n",
       "Handicap          0\n",
       "SMS_received      0\n",
       "No-show           0\n",
       "dtype: int64"
      ]
     },
     "execution_count": 86,
     "metadata": {},
     "output_type": "execute_result"
    }
   ],
   "source": [
    "data.isnull().sum()"
   ]
  },
  {
   "cell_type": "code",
   "execution_count": 87,
   "id": "3b779a48",
   "metadata": {},
   "outputs": [
    {
     "data": {
      "text/plain": [
       "(110524, 14)"
      ]
     },
     "execution_count": 87,
     "metadata": {},
     "output_type": "execute_result"
    }
   ],
   "source": [
    "# deal with missing values\n",
    "data=data.dropna()\n",
    "data.shape"
   ]
  },
  {
   "cell_type": "markdown",
   "id": "d246d2ed",
   "metadata": {},
   "source": [
    "## Duplicates \t"
   ]
  },
  {
   "cell_type": "code",
   "execution_count": 88,
   "id": "a8a68259",
   "metadata": {},
   "outputs": [
    {
     "data": {
      "text/plain": [
       "(110524, 14)"
      ]
     },
     "execution_count": 88,
     "metadata": {},
     "output_type": "execute_result"
    }
   ],
   "source": [
    "##delete the duplicate rows with same appointmentID. \n",
    "data=data.drop_duplicates(subset='AppointmentID', keep='first')\n",
    "data.shape"
   ]
  },
  {
   "cell_type": "code",
   "execution_count": 89,
   "id": "4c33b6d6",
   "metadata": {},
   "outputs": [
    {
     "data": {
      "text/plain": [
       "(110524, 12)"
      ]
     },
     "execution_count": 89,
     "metadata": {},
     "output_type": "execute_result"
    }
   ],
   "source": [
    "##drop the patientID and AppointmentID\n",
    "data=data.drop(['PatientID','AppointmentID'],axis=1,inplace=False)\n",
    "data.shape"
   ]
  },
  {
   "cell_type": "markdown",
   "id": "d65374de",
   "metadata": {},
   "source": [
    "### 2.Determine the frequency of distinct values in each feature set"
   ]
  },
  {
   "cell_type": "code",
   "execution_count": 90,
   "id": "8843a93e",
   "metadata": {
    "scrolled": true
   },
   "outputs": [
    {
     "data": {
      "text/html": [
       "<div>\n",
       "<style scoped>\n",
       "    .dataframe tbody tr th:only-of-type {\n",
       "        vertical-align: middle;\n",
       "    }\n",
       "\n",
       "    .dataframe tbody tr th {\n",
       "        vertical-align: top;\n",
       "    }\n",
       "\n",
       "    .dataframe thead th {\n",
       "        text-align: right;\n",
       "    }\n",
       "</style>\n",
       "<table border=\"1\" class=\"dataframe\">\n",
       "  <thead>\n",
       "    <tr style=\"text-align: right;\">\n",
       "      <th></th>\n",
       "      <th>Age</th>\n",
       "      <th>Scholarship</th>\n",
       "      <th>Hypertension</th>\n",
       "      <th>Diabetes</th>\n",
       "      <th>Alcoholism</th>\n",
       "      <th>Handicap</th>\n",
       "      <th>SMS_received</th>\n",
       "    </tr>\n",
       "  </thead>\n",
       "  <tbody>\n",
       "    <tr>\n",
       "      <th>count</th>\n",
       "      <td>110524.000000</td>\n",
       "      <td>110524.000000</td>\n",
       "      <td>110524.000000</td>\n",
       "      <td>110524.000000</td>\n",
       "      <td>110524.000000</td>\n",
       "      <td>110524.000000</td>\n",
       "      <td>110524.000000</td>\n",
       "    </tr>\n",
       "    <tr>\n",
       "      <th>mean</th>\n",
       "      <td>37.088488</td>\n",
       "      <td>0.098268</td>\n",
       "      <td>0.197251</td>\n",
       "      <td>0.071867</td>\n",
       "      <td>0.030401</td>\n",
       "      <td>0.022249</td>\n",
       "      <td>0.321025</td>\n",
       "    </tr>\n",
       "    <tr>\n",
       "      <th>std</th>\n",
       "      <td>23.110271</td>\n",
       "      <td>0.297678</td>\n",
       "      <td>0.397925</td>\n",
       "      <td>0.258268</td>\n",
       "      <td>0.171688</td>\n",
       "      <td>0.161545</td>\n",
       "      <td>0.466873</td>\n",
       "    </tr>\n",
       "    <tr>\n",
       "      <th>min</th>\n",
       "      <td>-1.000000</td>\n",
       "      <td>0.000000</td>\n",
       "      <td>0.000000</td>\n",
       "      <td>0.000000</td>\n",
       "      <td>0.000000</td>\n",
       "      <td>0.000000</td>\n",
       "      <td>0.000000</td>\n",
       "    </tr>\n",
       "    <tr>\n",
       "      <th>25%</th>\n",
       "      <td>18.000000</td>\n",
       "      <td>0.000000</td>\n",
       "      <td>0.000000</td>\n",
       "      <td>0.000000</td>\n",
       "      <td>0.000000</td>\n",
       "      <td>0.000000</td>\n",
       "      <td>0.000000</td>\n",
       "    </tr>\n",
       "    <tr>\n",
       "      <th>50%</th>\n",
       "      <td>37.000000</td>\n",
       "      <td>0.000000</td>\n",
       "      <td>0.000000</td>\n",
       "      <td>0.000000</td>\n",
       "      <td>0.000000</td>\n",
       "      <td>0.000000</td>\n",
       "      <td>0.000000</td>\n",
       "    </tr>\n",
       "    <tr>\n",
       "      <th>75%</th>\n",
       "      <td>55.000000</td>\n",
       "      <td>0.000000</td>\n",
       "      <td>0.000000</td>\n",
       "      <td>0.000000</td>\n",
       "      <td>0.000000</td>\n",
       "      <td>0.000000</td>\n",
       "      <td>1.000000</td>\n",
       "    </tr>\n",
       "    <tr>\n",
       "      <th>max</th>\n",
       "      <td>115.000000</td>\n",
       "      <td>1.000000</td>\n",
       "      <td>1.000000</td>\n",
       "      <td>1.000000</td>\n",
       "      <td>1.000000</td>\n",
       "      <td>4.000000</td>\n",
       "      <td>1.000000</td>\n",
       "    </tr>\n",
       "  </tbody>\n",
       "</table>\n",
       "</div>"
      ],
      "text/plain": [
       "                 Age    Scholarship   Hypertension       Diabetes  \\\n",
       "count  110524.000000  110524.000000  110524.000000  110524.000000   \n",
       "mean       37.088488       0.098268       0.197251       0.071867   \n",
       "std        23.110271       0.297678       0.397925       0.258268   \n",
       "min        -1.000000       0.000000       0.000000       0.000000   \n",
       "25%        18.000000       0.000000       0.000000       0.000000   \n",
       "50%        37.000000       0.000000       0.000000       0.000000   \n",
       "75%        55.000000       0.000000       0.000000       0.000000   \n",
       "max       115.000000       1.000000       1.000000       1.000000   \n",
       "\n",
       "          Alcoholism       Handicap   SMS_received  \n",
       "count  110524.000000  110524.000000  110524.000000  \n",
       "mean        0.030401       0.022249       0.321025  \n",
       "std         0.171688       0.161545       0.466873  \n",
       "min         0.000000       0.000000       0.000000  \n",
       "25%         0.000000       0.000000       0.000000  \n",
       "50%         0.000000       0.000000       0.000000  \n",
       "75%         0.000000       0.000000       1.000000  \n",
       "max         1.000000       4.000000       1.000000  "
      ]
     },
     "execution_count": 90,
     "metadata": {},
     "output_type": "execute_result"
    }
   ],
   "source": [
    "data.describe()"
   ]
  },
  {
   "cell_type": "code",
   "execution_count": 91,
   "id": "de8aea6a",
   "metadata": {},
   "outputs": [
    {
     "name": "stdout",
     "output_type": "stream",
     "text": [
      "<class 'pandas.core.frame.DataFrame'>\n",
      "Int64Index: 110524 entries, 0 to 110526\n",
      "Data columns (total 12 columns):\n",
      " #   Column          Non-Null Count   Dtype  \n",
      "---  ------          --------------   -----  \n",
      " 0   Gender          110524 non-null  object \n",
      " 1   ScheduledDay    110524 non-null  object \n",
      " 2   AppointmentDay  110524 non-null  object \n",
      " 3   Age             110524 non-null  float64\n",
      " 4   Neighbourhood   110524 non-null  object \n",
      " 5   Scholarship     110524 non-null  int64  \n",
      " 6   Hypertension    110524 non-null  int64  \n",
      " 7   Diabetes        110524 non-null  int64  \n",
      " 8   Alcoholism      110524 non-null  int64  \n",
      " 9   Handicap        110524 non-null  int64  \n",
      " 10  SMS_received    110524 non-null  int64  \n",
      " 11  No-show         110524 non-null  object \n",
      "dtypes: float64(1), int64(6), object(5)\n",
      "memory usage: 11.0+ MB\n"
     ]
    }
   ],
   "source": [
    "data.info()"
   ]
  },
  {
   "cell_type": "markdown",
   "id": "fb823a95",
   "metadata": {},
   "source": [
    "### 3. Initialize a function to plot relevant features within the dataset to visualize for outliers"
   ]
  },
  {
   "cell_type": "code",
   "execution_count": 92,
   "id": "76aad1bf",
   "metadata": {},
   "outputs": [
    {
     "name": "stderr",
     "output_type": "stream",
     "text": [
      "/Users/liuyichen/opt/anaconda3/lib/python3.9/site-packages/seaborn/_decorators.py:36: FutureWarning: Pass the following variable as a keyword arg: x. From version 0.12, the only valid positional argument will be `data`, and passing other arguments without an explicit keyword will result in an error or misinterpretation.\n",
      "  warnings.warn(\n"
     ]
    },
    {
     "data": {
      "text/plain": [
       "<AxesSubplot:xlabel='Gender', ylabel='count'>"
      ]
     },
     "execution_count": 92,
     "metadata": {},
     "output_type": "execute_result"
    },
    {
     "data": {
      "image/png": "[encoded data removed]",
      "text/plain": [
       "<Figure size 640x480 with 1 Axes>"
      ]
     },
     "metadata": {},
     "output_type": "display_data"
    }
   ],
   "source": [
    "import matplotlib.pyplot as plt #to plot charts\n",
    "import seaborn as sns #used for data visualization\n",
    "sns.countplot('Gender',data=data)"
   ]
  },
  {
   "cell_type": "code",
   "execution_count": 93,
   "id": "e15df57e",
   "metadata": {},
   "outputs": [
    {
     "data": {
      "image/png": "[encoded data removed]",
      "text/plain": [
       "<Figure size 500x500 with 1 Axes>"
      ]
     },
     "metadata": {},
     "output_type": "display_data"
    }
   ],
   "source": [
    "#histogram for each  feature\n",
    "data.hist(column='Age',bins=10,figsize=(5,5))\n",
    "plt.show()"
   ]
  },
  {
   "cell_type": "code",
   "execution_count": 94,
   "id": "ef24cff5",
   "metadata": {},
   "outputs": [
    {
     "data": {
      "text/plain": [
       "<AxesSubplot:xlabel='Age'>"
      ]
     },
     "execution_count": 94,
     "metadata": {},
     "output_type": "execute_result"
    },
    {
     "data": {
      "image/png": "[encoded data removed]",
      "text/plain": [
       "<Figure size 640x480 with 1 Axes>"
      ]
     },
     "metadata": {},
     "output_type": "display_data"
    }
   ],
   "source": [
    "sns.boxplot(x='Age',data=data)\n",
    "plt.subplot()"
   ]
  },
  {
   "cell_type": "code",
   "execution_count": 95,
   "id": "609c3075",
   "metadata": {},
   "outputs": [
    {
     "data": {
      "image/png": "[encoded data removed]",
      "text/plain": [
       "<Figure size 1000x1000 with 9 Axes>"
      ]
     },
     "metadata": {},
     "output_type": "display_data"
    }
   ],
   "source": [
    "#histogram for each  feature\n",
    "data.hist(bins=10,figsize=(10,10))\n",
    "plt.show() "
   ]
  },
  {
   "cell_type": "markdown",
   "id": "c68b85b7",
   "metadata": {},
   "source": [
    "### 4.  Count the frequency of negative Age feature observations, and remove them"
   ]
  },
  {
   "cell_type": "code",
   "execution_count": 96,
   "id": "f91b32d1",
   "metadata": {},
   "outputs": [
    {
     "data": {
      "text/plain": [
       " 0.0      3539\n",
       " 1.0      2273\n",
       " 52.0     1746\n",
       " 49.0     1652\n",
       " 53.0     1651\n",
       "          ... \n",
       " 115.0       5\n",
       " 100.0       4\n",
       " 102.0       2\n",
       " 99.0        1\n",
       "-1.0         1\n",
       "Name: Age, Length: 104, dtype: int64"
      ]
     },
     "execution_count": 96,
     "metadata": {},
     "output_type": "execute_result"
    }
   ],
   "source": [
    "data.Age.value_counts()"
   ]
  },
  {
   "cell_type": "code",
   "execution_count": 97,
   "id": "78f07062",
   "metadata": {},
   "outputs": [
    {
     "data": {
      "text/html": [
       "<div>\n",
       "<style scoped>\n",
       "    .dataframe tbody tr th:only-of-type {\n",
       "        vertical-align: middle;\n",
       "    }\n",
       "\n",
       "    .dataframe tbody tr th {\n",
       "        vertical-align: top;\n",
       "    }\n",
       "\n",
       "    .dataframe thead th {\n",
       "        text-align: right;\n",
       "    }\n",
       "</style>\n",
       "<table border=\"1\" class=\"dataframe\">\n",
       "  <thead>\n",
       "    <tr style=\"text-align: right;\">\n",
       "      <th></th>\n",
       "      <th>Gender</th>\n",
       "      <th>ScheduledDay</th>\n",
       "      <th>AppointmentDay</th>\n",
       "      <th>Age</th>\n",
       "      <th>Neighbourhood</th>\n",
       "      <th>Scholarship</th>\n",
       "      <th>Hypertension</th>\n",
       "      <th>Diabetes</th>\n",
       "      <th>Alcoholism</th>\n",
       "      <th>Handicap</th>\n",
       "      <th>SMS_received</th>\n",
       "      <th>No-show</th>\n",
       "    </tr>\n",
       "  </thead>\n",
       "  <tbody>\n",
       "    <tr>\n",
       "      <th>99832</th>\n",
       "      <td>F</td>\n",
       "      <td>2016-06-06T08:58:13Z</td>\n",
       "      <td>2016-06-06T00:00:00Z</td>\n",
       "      <td>-1.0</td>\n",
       "      <td>ROMÃO</td>\n",
       "      <td>0</td>\n",
       "      <td>0</td>\n",
       "      <td>0</td>\n",
       "      <td>0</td>\n",
       "      <td>0</td>\n",
       "      <td>0</td>\n",
       "      <td>No</td>\n",
       "    </tr>\n",
       "  </tbody>\n",
       "</table>\n",
       "</div>"
      ],
      "text/plain": [
       "      Gender          ScheduledDay        AppointmentDay  Age Neighbourhood  \\\n",
       "99832      F  2016-06-06T08:58:13Z  2016-06-06T00:00:00Z -1.0         ROMÃO   \n",
       "\n",
       "       Scholarship  Hypertension  Diabetes  Alcoholism  Handicap  \\\n",
       "99832            0             0         0           0         0   \n",
       "\n",
       "       SMS_received No-show  \n",
       "99832             0      No  "
      ]
     },
     "execution_count": 97,
     "metadata": {},
     "output_type": "execute_result"
    }
   ],
   "source": [
    "## Filter age who under zero and delete. \n",
    "data[(data.Age <0)]"
   ]
  },
  {
   "cell_type": "code",
   "execution_count": 98,
   "id": "c58e5b7a",
   "metadata": {},
   "outputs": [],
   "source": [
    "data=data.drop([99832],axis=0,inplace=False)"
   ]
  },
  {
   "cell_type": "markdown",
   "id": "3771da51",
   "metadata": {},
   "source": [
    "### 5.The values within AwaitingTime are negative, transform them into positive values"
   ]
  },
  {
   "cell_type": "markdown",
   "id": "b7e768af",
   "metadata": {},
   "source": [
    "### 7.Separate the date features into date components"
   ]
  },
  {
   "cell_type": "code",
   "execution_count": 99,
   "id": "66e0e82a",
   "metadata": {},
   "outputs": [],
   "source": [
    "parse_dates=['ScheduledDay','AppointmentDay']"
   ]
  },
  {
   "cell_type": "code",
   "execution_count": 100,
   "id": "e9c949f1",
   "metadata": {},
   "outputs": [
    {
     "data": {
      "text/plain": [
       "'2016-04-29 18:38:08'"
      ]
     },
     "execution_count": 100,
     "metadata": {},
     "output_type": "execute_result"
    }
   ],
   "source": [
    "data.ScheduledDay=data.ScheduledDay.str.replace('T',' ')\n",
    "data.ScheduledDay=data.ScheduledDay.str.replace('Z','')\n",
    "data.ScheduledDay[0]"
   ]
  },
  {
   "cell_type": "code",
   "execution_count": 101,
   "id": "cd6c22bc",
   "metadata": {},
   "outputs": [
    {
     "data": {
      "text/plain": [
       "'2016-04-29 00:00:00'"
      ]
     },
     "execution_count": 101,
     "metadata": {},
     "output_type": "execute_result"
    }
   ],
   "source": [
    "data.AppointmentDay=data.AppointmentDay.str.replace('T',' ')\n",
    "data.AppointmentDay=data.AppointmentDay.str.replace('Z','')\n",
    "data.AppointmentDay[0]"
   ]
  },
  {
   "cell_type": "code",
   "execution_count": 102,
   "id": "bd743431",
   "metadata": {},
   "outputs": [
    {
     "data": {
      "text/plain": [
       "Timestamp('2016-04-29 18:38:08')"
      ]
     },
     "execution_count": 102,
     "metadata": {},
     "output_type": "execute_result"
    }
   ],
   "source": [
    "data.ScheduledDay=pd.to_datetime(data['ScheduledDay'], format='%Y-%m-%d %H:%M:%S')\n",
    "data.AppointmentDay=pd.to_datetime(data['AppointmentDay'], format='%Y-%m-%d %H:%M:%S')\n",
    "data.ScheduledDay[0]"
   ]
  },
  {
   "cell_type": "code",
   "execution_count": 103,
   "id": "b84b5472",
   "metadata": {},
   "outputs": [
    {
     "data": {
      "text/plain": [
       "Timedelta('-1 days +08:34:54')"
      ]
     },
     "execution_count": 103,
     "metadata": {},
     "output_type": "execute_result"
    }
   ],
   "source": [
    "data.ScheduledDay[42]-data.AppointmentDay[42]"
   ]
  },
  {
   "cell_type": "code",
   "execution_count": 104,
   "id": "efcc4860",
   "metadata": {},
   "outputs": [
    {
     "data": {
      "text/plain": [
       "Gender                    object\n",
       "ScheduledDay      datetime64[ns]\n",
       "AppointmentDay    datetime64[ns]\n",
       "Age                      float64\n",
       "Neighbourhood             object\n",
       "Scholarship                int64\n",
       "Hypertension               int64\n",
       "Diabetes                   int64\n",
       "Alcoholism                 int64\n",
       "Handicap                   int64\n",
       "SMS_received               int64\n",
       "No-show                   object\n",
       "dtype: object"
      ]
     },
     "execution_count": 104,
     "metadata": {},
     "output_type": "execute_result"
    }
   ],
   "source": [
    "data.dtypes"
   ]
  },
  {
   "cell_type": "code",
   "execution_count": 105,
   "id": "7840e9de",
   "metadata": {},
   "outputs": [],
   "source": [
    "data['AwaitingTime']=data['ScheduledDay']-data['AppointmentDay']"
   ]
  },
  {
   "cell_type": "code",
   "execution_count": 106,
   "id": "f922a086",
   "metadata": {},
   "outputs": [
    {
     "data": {
      "text/html": [
       "<div>\n",
       "<style scoped>\n",
       "    .dataframe tbody tr th:only-of-type {\n",
       "        vertical-align: middle;\n",
       "    }\n",
       "\n",
       "    .dataframe tbody tr th {\n",
       "        vertical-align: top;\n",
       "    }\n",
       "\n",
       "    .dataframe thead th {\n",
       "        text-align: right;\n",
       "    }\n",
       "</style>\n",
       "<table border=\"1\" class=\"dataframe\">\n",
       "  <thead>\n",
       "    <tr style=\"text-align: right;\">\n",
       "      <th></th>\n",
       "      <th>Age</th>\n",
       "      <th>Scholarship</th>\n",
       "      <th>Hypertension</th>\n",
       "      <th>Diabetes</th>\n",
       "      <th>Alcoholism</th>\n",
       "      <th>Handicap</th>\n",
       "      <th>SMS_received</th>\n",
       "      <th>AwaitingTime</th>\n",
       "    </tr>\n",
       "  </thead>\n",
       "  <tbody>\n",
       "    <tr>\n",
       "      <th>count</th>\n",
       "      <td>110523.000000</td>\n",
       "      <td>110523.000000</td>\n",
       "      <td>110523.000000</td>\n",
       "      <td>110523.000000</td>\n",
       "      <td>110523.000000</td>\n",
       "      <td>110523.000000</td>\n",
       "      <td>110523.000000</td>\n",
       "      <td>110523</td>\n",
       "    </tr>\n",
       "    <tr>\n",
       "      <th>mean</th>\n",
       "      <td>37.088832</td>\n",
       "      <td>0.098269</td>\n",
       "      <td>0.197253</td>\n",
       "      <td>0.071867</td>\n",
       "      <td>0.030401</td>\n",
       "      <td>0.022249</td>\n",
       "      <td>0.321028</td>\n",
       "      <td>-10 days +06:51:03.135845028</td>\n",
       "    </tr>\n",
       "    <tr>\n",
       "      <th>std</th>\n",
       "      <td>23.110091</td>\n",
       "      <td>0.297680</td>\n",
       "      <td>0.397927</td>\n",
       "      <td>0.258269</td>\n",
       "      <td>0.171689</td>\n",
       "      <td>0.161546</td>\n",
       "      <td>0.466874</td>\n",
       "      <td>15 days 05:51:44.221428012</td>\n",
       "    </tr>\n",
       "    <tr>\n",
       "      <th>min</th>\n",
       "      <td>0.000000</td>\n",
       "      <td>0.000000</td>\n",
       "      <td>0.000000</td>\n",
       "      <td>0.000000</td>\n",
       "      <td>0.000000</td>\n",
       "      <td>0.000000</td>\n",
       "      <td>0.000000</td>\n",
       "      <td>-179 days +10:40:59</td>\n",
       "    </tr>\n",
       "    <tr>\n",
       "      <th>25%</th>\n",
       "      <td>18.000000</td>\n",
       "      <td>0.000000</td>\n",
       "      <td>0.000000</td>\n",
       "      <td>0.000000</td>\n",
       "      <td>0.000000</td>\n",
       "      <td>0.000000</td>\n",
       "      <td>0.000000</td>\n",
       "      <td>-15 days +16:18:17.500000</td>\n",
       "    </tr>\n",
       "    <tr>\n",
       "      <th>50%</th>\n",
       "      <td>37.000000</td>\n",
       "      <td>0.000000</td>\n",
       "      <td>0.000000</td>\n",
       "      <td>0.000000</td>\n",
       "      <td>0.000000</td>\n",
       "      <td>0.000000</td>\n",
       "      <td>0.000000</td>\n",
       "      <td>-4 days +12:37:12</td>\n",
       "    </tr>\n",
       "    <tr>\n",
       "      <th>75%</th>\n",
       "      <td>55.000000</td>\n",
       "      <td>0.000000</td>\n",
       "      <td>0.000000</td>\n",
       "      <td>0.000000</td>\n",
       "      <td>0.000000</td>\n",
       "      <td>0.000000</td>\n",
       "      <td>1.000000</td>\n",
       "      <td>0 days 08:18:28</td>\n",
       "    </tr>\n",
       "    <tr>\n",
       "      <th>max</th>\n",
       "      <td>115.000000</td>\n",
       "      <td>1.000000</td>\n",
       "      <td>1.000000</td>\n",
       "      <td>1.000000</td>\n",
       "      <td>1.000000</td>\n",
       "      <td>4.000000</td>\n",
       "      <td>1.000000</td>\n",
       "      <td>6 days 13:49:20</td>\n",
       "    </tr>\n",
       "  </tbody>\n",
       "</table>\n",
       "</div>"
      ],
      "text/plain": [
       "                 Age    Scholarship   Hypertension       Diabetes  \\\n",
       "count  110523.000000  110523.000000  110523.000000  110523.000000   \n",
       "mean       37.088832       0.098269       0.197253       0.071867   \n",
       "std        23.110091       0.297680       0.397927       0.258269   \n",
       "min         0.000000       0.000000       0.000000       0.000000   \n",
       "25%        18.000000       0.000000       0.000000       0.000000   \n",
       "50%        37.000000       0.000000       0.000000       0.000000   \n",
       "75%        55.000000       0.000000       0.000000       0.000000   \n",
       "max       115.000000       1.000000       1.000000       1.000000   \n",
       "\n",
       "          Alcoholism       Handicap   SMS_received  \\\n",
       "count  110523.000000  110523.000000  110523.000000   \n",
       "mean        0.030401       0.022249       0.321028   \n",
       "std         0.171689       0.161546       0.466874   \n",
       "min         0.000000       0.000000       0.000000   \n",
       "25%         0.000000       0.000000       0.000000   \n",
       "50%         0.000000       0.000000       0.000000   \n",
       "75%         0.000000       0.000000       1.000000   \n",
       "max         1.000000       4.000000       1.000000   \n",
       "\n",
       "                       AwaitingTime  \n",
       "count                        110523  \n",
       "mean   -10 days +06:51:03.135845028  \n",
       "std      15 days 05:51:44.221428012  \n",
       "min             -179 days +10:40:59  \n",
       "25%       -15 days +16:18:17.500000  \n",
       "50%               -4 days +12:37:12  \n",
       "75%                 0 days 08:18:28  \n",
       "max                 6 days 13:49:20  "
      ]
     },
     "execution_count": 106,
     "metadata": {},
     "output_type": "execute_result"
    }
   ],
   "source": [
    "data.describe()"
   ]
  },
  {
   "cell_type": "markdown",
   "id": "db342d59",
   "metadata": {},
   "source": [
    "### 6. ML algorithm requires the variables to be coded into its equivalent integer codes. Encode the string categorical values into an integer code"
   ]
  },
  {
   "cell_type": "code",
   "execution_count": 107,
   "id": "469c56b9",
   "metadata": {
    "scrolled": true
   },
   "outputs": [
    {
     "data": {
      "text/plain": [
       "Gender                     object\n",
       "ScheduledDay       datetime64[ns]\n",
       "AppointmentDay     datetime64[ns]\n",
       "Age                       float64\n",
       "Neighbourhood              object\n",
       "Scholarship                 int64\n",
       "Hypertension                int64\n",
       "Diabetes                    int64\n",
       "Alcoholism                  int64\n",
       "Handicap                    int64\n",
       "SMS_received                int64\n",
       "No-show                    object\n",
       "AwaitingTime      timedelta64[ns]\n",
       "dtype: object"
      ]
     },
     "execution_count": 107,
     "metadata": {},
     "output_type": "execute_result"
    }
   ],
   "source": [
    "data.dtypes"
   ]
  },
  {
   "cell_type": "code",
   "execution_count": 108,
   "id": "6941d857",
   "metadata": {},
   "outputs": [],
   "source": [
    "import numpy as np\n",
    "data['Age'] = data['Age'].apply(np.int64)"
   ]
  },
  {
   "cell_type": "code",
   "execution_count": 109,
   "id": "bdf5ef04",
   "metadata": {},
   "outputs": [
    {
     "data": {
      "text/plain": [
       "Gender                      int64\n",
       "ScheduledDay       datetime64[ns]\n",
       "AppointmentDay     datetime64[ns]\n",
       "Age                         int64\n",
       "Neighbourhood              object\n",
       "Scholarship                 int64\n",
       "Hypertension                int64\n",
       "Diabetes                    int64\n",
       "Alcoholism                  int64\n",
       "Handicap                    int64\n",
       "SMS_received                int64\n",
       "No-show                    object\n",
       "AwaitingTime      timedelta64[ns]\n",
       "dtype: object"
      ]
     },
     "execution_count": 109,
     "metadata": {},
     "output_type": "execute_result"
    }
   ],
   "source": [
    "data['Gender'].replace('F', 0,inplace=True)\n",
    "data['Gender'].replace('M', 1,inplace=True)\n",
    "data['Gender'] = data['Gender'].apply(np.int64)\n",
    "data.dtypes"
   ]
  },
  {
   "cell_type": "code",
   "execution_count": 110,
   "id": "860ed4eb",
   "metadata": {},
   "outputs": [
    {
     "data": {
      "text/plain": [
       "Gender                      int64\n",
       "ScheduledDay       datetime64[ns]\n",
       "AppointmentDay     datetime64[ns]\n",
       "Age                         int64\n",
       "Neighbourhood              object\n",
       "Scholarship                 int64\n",
       "Hypertension                int64\n",
       "Diabetes                    int64\n",
       "Alcoholism                  int64\n",
       "Handicap                    int64\n",
       "SMS_received                int64\n",
       "No-show                     int64\n",
       "AwaitingTime      timedelta64[ns]\n",
       "dtype: object"
      ]
     },
     "execution_count": 110,
     "metadata": {},
     "output_type": "execute_result"
    }
   ],
   "source": [
    "data['No-show'].replace('No', 0,inplace=True)\n",
    "data['No-show'].replace('Yes', 1,inplace=True)\n",
    "data['No-show'] = data['No-show'].apply(np.int64)\n",
    "data.dtypes"
   ]
  },
  {
   "cell_type": "code",
   "execution_count": 111,
   "id": "0c294c19",
   "metadata": {},
   "outputs": [
    {
     "data": {
      "text/plain": [
       "Gender                      int64\n",
       "ScheduledDay       datetime64[ns]\n",
       "AppointmentDay     datetime64[ns]\n",
       "Age                         int64\n",
       "Neighbourhood              object\n",
       "Scholarship                 int64\n",
       "Hypertension                int64\n",
       "Diabetes                    int64\n",
       "Alcoholism                  int64\n",
       "Handicap                    int64\n",
       "SMS_received                int64\n",
       "No-show                     int64\n",
       "AwaitingTime      timedelta64[ns]\n",
       "dtype: object"
      ]
     },
     "execution_count": 111,
     "metadata": {},
     "output_type": "execute_result"
    }
   ],
   "source": [
    "data.dtypes"
   ]
  },
  {
   "cell_type": "markdown",
   "id": "2a5dd4e7",
   "metadata": {},
   "source": [
    "### 8.ML algorithms work best when the input data are scaled to a narrow range around zero. Rescale the age feature with a normalizing (e.g., min_max normalization) or standardization (e.g., z_score standardization) function."
   ]
  },
  {
   "cell_type": "markdown",
   "id": "7f9aa6bb",
   "metadata": {},
   "source": [
    "### (1)normalization ( min_max normalization)"
   ]
  },
  {
   "cell_type": "code",
   "execution_count": 112,
   "id": "1a3da87e",
   "metadata": {},
   "outputs": [],
   "source": [
    "data.Age=(data.Age-data.Age.min())/(data.Age.max()-data.Age.min())"
   ]
  },
  {
   "cell_type": "markdown",
   "id": "6c88c970",
   "metadata": {},
   "source": [
    "### (2)standardization (e.g., z_score standardization)"
   ]
  },
  {
   "cell_type": "code",
   "execution_count": 113,
   "id": "feb839ee",
   "metadata": {},
   "outputs": [
    {
     "data": {
      "text/plain": [
       "0         1.077935\n",
       "1         0.818308\n",
       "2         1.077935\n",
       "3        -1.258707\n",
       "4         0.818308\n",
       "            ...   \n",
       "110522    0.818308\n",
       "110523    0.601952\n",
       "110524   -0.696182\n",
       "110525    0.039427\n",
       "110526    0.731766\n",
       "Name: Age, Length: 110523, dtype: float64"
      ]
     },
     "execution_count": 113,
     "metadata": {},
     "output_type": "execute_result"
    }
   ],
   "source": [
    "# Z-Score using pandas\n",
    "(data.Age - data.Age.mean()) / data.Age.std()"
   ]
  },
  {
   "cell_type": "code",
   "execution_count": 114,
   "id": "850c100e",
   "metadata": {},
   "outputs": [
    {
     "data": {
      "text/html": [
       "<div>\n",
       "<style scoped>\n",
       "    .dataframe tbody tr th:only-of-type {\n",
       "        vertical-align: middle;\n",
       "    }\n",
       "\n",
       "    .dataframe tbody tr th {\n",
       "        vertical-align: top;\n",
       "    }\n",
       "\n",
       "    .dataframe thead th {\n",
       "        text-align: right;\n",
       "    }\n",
       "</style>\n",
       "<table border=\"1\" class=\"dataframe\">\n",
       "  <thead>\n",
       "    <tr style=\"text-align: right;\">\n",
       "      <th></th>\n",
       "      <th>Gender</th>\n",
       "      <th>Age</th>\n",
       "      <th>Scholarship</th>\n",
       "      <th>Hypertension</th>\n",
       "      <th>Diabetes</th>\n",
       "      <th>Alcoholism</th>\n",
       "      <th>Handicap</th>\n",
       "      <th>SMS_received</th>\n",
       "      <th>No-show</th>\n",
       "      <th>AwaitingTime</th>\n",
       "    </tr>\n",
       "  </thead>\n",
       "  <tbody>\n",
       "    <tr>\n",
       "      <th>count</th>\n",
       "      <td>110523.000000</td>\n",
       "      <td>110523.000000</td>\n",
       "      <td>110523.000000</td>\n",
       "      <td>110523.000000</td>\n",
       "      <td>110523.000000</td>\n",
       "      <td>110523.000000</td>\n",
       "      <td>110523.000000</td>\n",
       "      <td>110523.000000</td>\n",
       "      <td>110523.000000</td>\n",
       "      <td>110523</td>\n",
       "    </tr>\n",
       "    <tr>\n",
       "      <th>mean</th>\n",
       "      <td>0.350027</td>\n",
       "      <td>0.322512</td>\n",
       "      <td>0.098269</td>\n",
       "      <td>0.197253</td>\n",
       "      <td>0.071867</td>\n",
       "      <td>0.030401</td>\n",
       "      <td>0.022249</td>\n",
       "      <td>0.321028</td>\n",
       "      <td>0.201940</td>\n",
       "      <td>-10 days +06:51:03.135845028</td>\n",
       "    </tr>\n",
       "    <tr>\n",
       "      <th>std</th>\n",
       "      <td>0.476980</td>\n",
       "      <td>0.200957</td>\n",
       "      <td>0.297680</td>\n",
       "      <td>0.397927</td>\n",
       "      <td>0.258269</td>\n",
       "      <td>0.171689</td>\n",
       "      <td>0.161546</td>\n",
       "      <td>0.466874</td>\n",
       "      <td>0.401449</td>\n",
       "      <td>15 days 05:51:44.221428012</td>\n",
       "    </tr>\n",
       "    <tr>\n",
       "      <th>min</th>\n",
       "      <td>0.000000</td>\n",
       "      <td>0.000000</td>\n",
       "      <td>0.000000</td>\n",
       "      <td>0.000000</td>\n",
       "      <td>0.000000</td>\n",
       "      <td>0.000000</td>\n",
       "      <td>0.000000</td>\n",
       "      <td>0.000000</td>\n",
       "      <td>0.000000</td>\n",
       "      <td>-179 days +10:40:59</td>\n",
       "    </tr>\n",
       "    <tr>\n",
       "      <th>25%</th>\n",
       "      <td>0.000000</td>\n",
       "      <td>0.156522</td>\n",
       "      <td>0.000000</td>\n",
       "      <td>0.000000</td>\n",
       "      <td>0.000000</td>\n",
       "      <td>0.000000</td>\n",
       "      <td>0.000000</td>\n",
       "      <td>0.000000</td>\n",
       "      <td>0.000000</td>\n",
       "      <td>-15 days +16:18:17.500000</td>\n",
       "    </tr>\n",
       "    <tr>\n",
       "      <th>50%</th>\n",
       "      <td>0.000000</td>\n",
       "      <td>0.321739</td>\n",
       "      <td>0.000000</td>\n",
       "      <td>0.000000</td>\n",
       "      <td>0.000000</td>\n",
       "      <td>0.000000</td>\n",
       "      <td>0.000000</td>\n",
       "      <td>0.000000</td>\n",
       "      <td>0.000000</td>\n",
       "      <td>-4 days +12:37:12</td>\n",
       "    </tr>\n",
       "    <tr>\n",
       "      <th>75%</th>\n",
       "      <td>1.000000</td>\n",
       "      <td>0.478261</td>\n",
       "      <td>0.000000</td>\n",
       "      <td>0.000000</td>\n",
       "      <td>0.000000</td>\n",
       "      <td>0.000000</td>\n",
       "      <td>0.000000</td>\n",
       "      <td>1.000000</td>\n",
       "      <td>0.000000</td>\n",
       "      <td>0 days 08:18:28</td>\n",
       "    </tr>\n",
       "    <tr>\n",
       "      <th>max</th>\n",
       "      <td>1.000000</td>\n",
       "      <td>1.000000</td>\n",
       "      <td>1.000000</td>\n",
       "      <td>1.000000</td>\n",
       "      <td>1.000000</td>\n",
       "      <td>1.000000</td>\n",
       "      <td>4.000000</td>\n",
       "      <td>1.000000</td>\n",
       "      <td>1.000000</td>\n",
       "      <td>6 days 13:49:20</td>\n",
       "    </tr>\n",
       "  </tbody>\n",
       "</table>\n",
       "</div>"
      ],
      "text/plain": [
       "              Gender            Age    Scholarship   Hypertension  \\\n",
       "count  110523.000000  110523.000000  110523.000000  110523.000000   \n",
       "mean        0.350027       0.322512       0.098269       0.197253   \n",
       "std         0.476980       0.200957       0.297680       0.397927   \n",
       "min         0.000000       0.000000       0.000000       0.000000   \n",
       "25%         0.000000       0.156522       0.000000       0.000000   \n",
       "50%         0.000000       0.321739       0.000000       0.000000   \n",
       "75%         1.000000       0.478261       0.000000       0.000000   \n",
       "max         1.000000       1.000000       1.000000       1.000000   \n",
       "\n",
       "            Diabetes     Alcoholism       Handicap   SMS_received  \\\n",
       "count  110523.000000  110523.000000  110523.000000  110523.000000   \n",
       "mean        0.071867       0.030401       0.022249       0.321028   \n",
       "std         0.258269       0.171689       0.161546       0.466874   \n",
       "min         0.000000       0.000000       0.000000       0.000000   \n",
       "25%         0.000000       0.000000       0.000000       0.000000   \n",
       "50%         0.000000       0.000000       0.000000       0.000000   \n",
       "75%         0.000000       0.000000       0.000000       1.000000   \n",
       "max         1.000000       1.000000       4.000000       1.000000   \n",
       "\n",
       "             No-show                  AwaitingTime  \n",
       "count  110523.000000                        110523  \n",
       "mean        0.201940  -10 days +06:51:03.135845028  \n",
       "std         0.401449    15 days 05:51:44.221428012  \n",
       "min         0.000000           -179 days +10:40:59  \n",
       "25%         0.000000     -15 days +16:18:17.500000  \n",
       "50%         0.000000             -4 days +12:37:12  \n",
       "75%         0.000000               0 days 08:18:28  \n",
       "max         1.000000               6 days 13:49:20  "
      ]
     },
     "execution_count": 114,
     "metadata": {},
     "output_type": "execute_result"
    }
   ],
   "source": [
    "data.describe()"
   ]
  },
  {
   "cell_type": "markdown",
   "id": "f9d06e11",
   "metadata": {},
   "source": [
    "### 9 Conduct variability comparison between features using a correlation matrix & drop correlated features"
   ]
  },
  {
   "cell_type": "code",
   "execution_count": 115,
   "id": "929c7d42",
   "metadata": {},
   "outputs": [
    {
     "data": {
      "text/html": [
       "<div>\n",
       "<style scoped>\n",
       "    .dataframe tbody tr th:only-of-type {\n",
       "        vertical-align: middle;\n",
       "    }\n",
       "\n",
       "    .dataframe tbody tr th {\n",
       "        vertical-align: top;\n",
       "    }\n",
       "\n",
       "    .dataframe thead th {\n",
       "        text-align: right;\n",
       "    }\n",
       "</style>\n",
       "<table border=\"1\" class=\"dataframe\">\n",
       "  <thead>\n",
       "    <tr style=\"text-align: right;\">\n",
       "      <th></th>\n",
       "      <th>Gender</th>\n",
       "      <th>Age</th>\n",
       "      <th>Scholarship</th>\n",
       "      <th>Hypertension</th>\n",
       "      <th>Diabetes</th>\n",
       "      <th>Alcoholism</th>\n",
       "      <th>Handicap</th>\n",
       "      <th>SMS_received</th>\n",
       "      <th>No-show</th>\n",
       "    </tr>\n",
       "  </thead>\n",
       "  <tbody>\n",
       "    <tr>\n",
       "      <th>Gender</th>\n",
       "      <td>1.000000</td>\n",
       "      <td>-0.106468</td>\n",
       "      <td>-0.114298</td>\n",
       "      <td>-0.055723</td>\n",
       "      <td>-0.032557</td>\n",
       "      <td>0.106168</td>\n",
       "      <td>0.022814</td>\n",
       "      <td>-0.046331</td>\n",
       "      <td>-0.004123</td>\n",
       "    </tr>\n",
       "    <tr>\n",
       "      <th>Age</th>\n",
       "      <td>-0.106468</td>\n",
       "      <td>1.000000</td>\n",
       "      <td>-0.092459</td>\n",
       "      <td>0.504601</td>\n",
       "      <td>0.292399</td>\n",
       "      <td>0.095814</td>\n",
       "      <td>0.078035</td>\n",
       "      <td>0.012619</td>\n",
       "      <td>-0.060319</td>\n",
       "    </tr>\n",
       "    <tr>\n",
       "      <th>Scholarship</th>\n",
       "      <td>-0.114298</td>\n",
       "      <td>-0.092459</td>\n",
       "      <td>1.000000</td>\n",
       "      <td>-0.019735</td>\n",
       "      <td>-0.024897</td>\n",
       "      <td>0.035020</td>\n",
       "      <td>-0.008588</td>\n",
       "      <td>0.001192</td>\n",
       "      <td>0.029129</td>\n",
       "    </tr>\n",
       "    <tr>\n",
       "      <th>Hypertension</th>\n",
       "      <td>-0.055723</td>\n",
       "      <td>0.504601</td>\n",
       "      <td>-0.019735</td>\n",
       "      <td>1.000000</td>\n",
       "      <td>0.433083</td>\n",
       "      <td>0.087968</td>\n",
       "      <td>0.080081</td>\n",
       "      <td>-0.006270</td>\n",
       "      <td>-0.035711</td>\n",
       "    </tr>\n",
       "    <tr>\n",
       "      <th>Diabetes</th>\n",
       "      <td>-0.032557</td>\n",
       "      <td>0.292399</td>\n",
       "      <td>-0.024897</td>\n",
       "      <td>0.433083</td>\n",
       "      <td>1.000000</td>\n",
       "      <td>0.018472</td>\n",
       "      <td>0.057529</td>\n",
       "      <td>-0.014552</td>\n",
       "      <td>-0.015185</td>\n",
       "    </tr>\n",
       "    <tr>\n",
       "      <th>Alcoholism</th>\n",
       "      <td>0.106168</td>\n",
       "      <td>0.095814</td>\n",
       "      <td>0.035020</td>\n",
       "      <td>0.087968</td>\n",
       "      <td>0.018472</td>\n",
       "      <td>1.000000</td>\n",
       "      <td>0.004647</td>\n",
       "      <td>-0.026149</td>\n",
       "      <td>-0.000199</td>\n",
       "    </tr>\n",
       "    <tr>\n",
       "      <th>Handicap</th>\n",
       "      <td>0.022814</td>\n",
       "      <td>0.078035</td>\n",
       "      <td>-0.008588</td>\n",
       "      <td>0.080081</td>\n",
       "      <td>0.057529</td>\n",
       "      <td>0.004647</td>\n",
       "      <td>1.000000</td>\n",
       "      <td>-0.024162</td>\n",
       "      <td>-0.006079</td>\n",
       "    </tr>\n",
       "    <tr>\n",
       "      <th>SMS_received</th>\n",
       "      <td>-0.046331</td>\n",
       "      <td>0.012619</td>\n",
       "      <td>0.001192</td>\n",
       "      <td>-0.006270</td>\n",
       "      <td>-0.014552</td>\n",
       "      <td>-0.026149</td>\n",
       "      <td>-0.024162</td>\n",
       "      <td>1.000000</td>\n",
       "      <td>0.126430</td>\n",
       "    </tr>\n",
       "    <tr>\n",
       "      <th>No-show</th>\n",
       "      <td>-0.004123</td>\n",
       "      <td>-0.060319</td>\n",
       "      <td>0.029129</td>\n",
       "      <td>-0.035711</td>\n",
       "      <td>-0.015185</td>\n",
       "      <td>-0.000199</td>\n",
       "      <td>-0.006079</td>\n",
       "      <td>0.126430</td>\n",
       "      <td>1.000000</td>\n",
       "    </tr>\n",
       "  </tbody>\n",
       "</table>\n",
       "</div>"
      ],
      "text/plain": [
       "                Gender       Age  Scholarship  Hypertension  Diabetes  \\\n",
       "Gender        1.000000 -0.106468    -0.114298     -0.055723 -0.032557   \n",
       "Age          -0.106468  1.000000    -0.092459      0.504601  0.292399   \n",
       "Scholarship  -0.114298 -0.092459     1.000000     -0.019735 -0.024897   \n",
       "Hypertension -0.055723  0.504601    -0.019735      1.000000  0.433083   \n",
       "Diabetes     -0.032557  0.292399    -0.024897      0.433083  1.000000   \n",
       "Alcoholism    0.106168  0.095814     0.035020      0.087968  0.018472   \n",
       "Handicap      0.022814  0.078035    -0.008588      0.080081  0.057529   \n",
       "SMS_received -0.046331  0.012619     0.001192     -0.006270 -0.014552   \n",
       "No-show      -0.004123 -0.060319     0.029129     -0.035711 -0.015185   \n",
       "\n",
       "              Alcoholism  Handicap  SMS_received   No-show  \n",
       "Gender          0.106168  0.022814     -0.046331 -0.004123  \n",
       "Age             0.095814  0.078035      0.012619 -0.060319  \n",
       "Scholarship     0.035020 -0.008588      0.001192  0.029129  \n",
       "Hypertension    0.087968  0.080081     -0.006270 -0.035711  \n",
       "Diabetes        0.018472  0.057529     -0.014552 -0.015185  \n",
       "Alcoholism      1.000000  0.004647     -0.026149 -0.000199  \n",
       "Handicap        0.004647  1.000000     -0.024162 -0.006079  \n",
       "SMS_received   -0.026149 -0.024162      1.000000  0.126430  \n",
       "No-show        -0.000199 -0.006079      0.126430  1.000000  "
      ]
     },
     "execution_count": 115,
     "metadata": {},
     "output_type": "execute_result"
    }
   ],
   "source": [
    "corr_matrix = data.corr()\n",
    "corr_matrix"
   ]
  },
  {
   "cell_type": "code",
   "execution_count": 116,
   "id": "8d90743d",
   "metadata": {},
   "outputs": [
    {
     "data": {
      "text/plain": [
       "<AxesSubplot:>"
      ]
     },
     "execution_count": 116,
     "metadata": {},
     "output_type": "execute_result"
    },
    {
     "data": {
      "image/png": "[encoded data removed]",
      "text/plain": [
       "<Figure size 640x480 with 2 Axes>"
      ]
     },
     "metadata": {},
     "output_type": "display_data"
    }
   ],
   "source": [
    "sns.heatmap(corr_matrix, annot=True)"
   ]
  },
  {
   "cell_type": "code",
   "execution_count": 117,
   "id": "a402bff3",
   "metadata": {},
   "outputs": [
    {
     "name": "stdout",
     "output_type": "stream",
     "text": [
      "              Gender       Age  Scholarship  Hypertension  Diabetes  \\\n",
      "Gender           NaN -0.106468    -0.114298     -0.055723 -0.032557   \n",
      "Age              NaN       NaN    -0.092459      0.504601  0.292399   \n",
      "Scholarship      NaN       NaN          NaN     -0.019735 -0.024897   \n",
      "Hypertension     NaN       NaN          NaN           NaN  0.433083   \n",
      "Diabetes         NaN       NaN          NaN           NaN       NaN   \n",
      "Alcoholism       NaN       NaN          NaN           NaN       NaN   \n",
      "Handicap         NaN       NaN          NaN           NaN       NaN   \n",
      "SMS_received     NaN       NaN          NaN           NaN       NaN   \n",
      "No-show          NaN       NaN          NaN           NaN       NaN   \n",
      "\n",
      "              Alcoholism  Handicap  SMS_received   No-show  \n",
      "Gender          0.106168  0.022814     -0.046331 -0.004123  \n",
      "Age             0.095814  0.078035      0.012619 -0.060319  \n",
      "Scholarship     0.035020 -0.008588      0.001192  0.029129  \n",
      "Hypertension    0.087968  0.080081     -0.006270 -0.035711  \n",
      "Diabetes        0.018472  0.057529     -0.014552 -0.015185  \n",
      "Alcoholism           NaN  0.004647     -0.026149 -0.000199  \n",
      "Handicap             NaN       NaN     -0.024162 -0.006079  \n",
      "SMS_received         NaN       NaN           NaN  0.126430  \n",
      "No-show              NaN       NaN           NaN       NaN  \n"
     ]
    },
    {
     "name": "stderr",
     "output_type": "stream",
     "text": [
      "/var/folders/wq/j8j9g2xx69q1kwd3qwz1qdn40000gn/T/ipykernel_1404/3505688167.py:1: DeprecationWarning: `np.bool` is a deprecated alias for the builtin `bool`. To silence this warning, use `bool` by itself. Doing this will not modify any behavior and is safe. If you specifically wanted the numpy scalar type, use `np.bool_` here.\n",
      "Deprecated in NumPy 1.20; for more details and guidance: https://numpy.org/devdocs/release/1.20.0-notes.html#deprecations\n",
      "  upper_tri = corr_matrix.where(np.triu(np.ones(corr_matrix.shape), k =1).astype(np.bool))\n"
     ]
    }
   ],
   "source": [
    "upper_tri = corr_matrix.where(np.triu(np.ones(corr_matrix.shape), k =1).astype(np.bool))\n",
    "print(upper_tri)"
   ]
  },
  {
   "cell_type": "code",
   "execution_count": 118,
   "id": "f727cd05",
   "metadata": {},
   "outputs": [
    {
     "name": "stdout",
     "output_type": "stream",
     "text": [
      "[]\n"
     ]
    }
   ],
   "source": [
    "to_drop = [column for column in upper_tri.columns if any(upper_tri[column] > 0.9)]\n",
    "print(to_drop)"
   ]
  },
  {
   "cell_type": "markdown",
   "id": "10b28266",
   "metadata": {},
   "source": [
    "# B. Model Development : Naïve Bayes classifier"
   ]
  },
  {
   "cell_type": "code",
   "execution_count": 119,
   "id": "dde65e75",
   "metadata": {},
   "outputs": [],
   "source": [
    "#Splitting the dataset into training and testing variables\n",
    "from sklearn.naive_bayes import GaussianNB\n",
    "from sklearn.model_selection import GridSearchCV\n",
    "from sklearn.model_selection import train_test_split\n",
    "from sklearn.metrics import classification_report"
   ]
  },
  {
   "cell_type": "code",
   "execution_count": 120,
   "id": "cf6f727c",
   "metadata": {},
   "outputs": [],
   "source": [
    "##tread the Hypertension as target, and 'Age','Scholarship','Diabetes','Alcoholism','Handicap'as data."
   ]
  },
  {
   "cell_type": "code",
   "execution_count": 121,
   "id": "84ac7c26",
   "metadata": {},
   "outputs": [],
   "source": [
    "X=data[['Age','Scholarship','Diabetes','Alcoholism','Handicap']]\n",
    "y=data['Hypertension']"
   ]
  },
  {
   "cell_type": "code",
   "execution_count": 152,
   "id": "15ba15c4",
   "metadata": {},
   "outputs": [
    {
     "data": {
      "text/plain": [
       "((77366, 5), (77366,))"
      ]
     },
     "execution_count": 152,
     "metadata": {},
     "output_type": "execute_result"
    }
   ],
   "source": [
    "#create the train and test sets. keeping 70% as training data and 30% as testing data.\n",
    "X_train, X_test, y_train, y_test = train_test_split(X, y, test_size=0.3,random_state=20)\n",
    "X_train.shape,y_train.shape"
   ]
  },
  {
   "cell_type": "code",
   "execution_count": 123,
   "id": "6f41c933",
   "metadata": {},
   "outputs": [
    {
     "data": {
      "text/plain": [
       "((33157, 5), (33157,))"
      ]
     },
     "execution_count": 123,
     "metadata": {},
     "output_type": "execute_result"
    }
   ],
   "source": [
    "X_test.shape,y_test.shape"
   ]
  },
  {
   "cell_type": "code",
   "execution_count": 124,
   "id": "e19cad60",
   "metadata": {},
   "outputs": [],
   "source": [
    "#train the modrl\n",
    "naive_bayes = GaussianNB()\n",
    "\n",
    "#Fitting the data to the classifier\n",
    "naive_bayes.fit(X_train , y_train)\n",
    " \n",
    "#Predict on test data\n",
    "y_predicted = naive_bayes.predict(X_test)"
   ]
  },
  {
   "cell_type": "code",
   "execution_count": 125,
   "id": "498e32c8",
   "metadata": {},
   "outputs": [
    {
     "name": "stdout",
     "output_type": "stream",
     "text": [
      "              precision    recall  f1-score   support\n",
      "\n",
      "           0       0.86      0.95      0.90     26602\n",
      "           1       0.64      0.37      0.47      6555\n",
      "\n",
      "    accuracy                           0.83     33157\n",
      "   macro avg       0.75      0.66      0.69     33157\n",
      "weighted avg       0.82      0.83      0.82     33157\n",
      "\n"
     ]
    }
   ],
   "source": [
    "print(classification_report(y_test,y_predicted))"
   ]
  },
  {
   "cell_type": "markdown",
   "id": "1ed458da",
   "metadata": {},
   "source": [
    "# C. Model Evaluation & Comparison"
   ]
  },
  {
   "cell_type": "markdown",
   "id": "3d643aed",
   "metadata": {},
   "source": [
    "### 1.Write a Function to detect the model’s Accuracy by applying the trained model on a testing datasetto find the predicted labels of Status. Was there overfitting?"
   ]
  },
  {
   "cell_type": "markdown",
   "id": "793da119",
   "metadata": {},
   "source": [
    "#### Evaluating a Classification Model Performance\n",
    "Accuracy\n",
    "\n",
    "Precision-Recall\n",
    "\n",
    "F1-score\n",
    "\n",
    "ROC & Area under the curve (AUC)\n"
   ]
  },
  {
   "cell_type": "code",
   "execution_count": 126,
   "id": "0eb4c32d",
   "metadata": {},
   "outputs": [
    {
     "name": "stdout",
     "output_type": "stream",
     "text": [
      "Accuracy : 0.8346588492892882\n"
     ]
    }
   ],
   "source": [
    "from sklearn import metrics\n",
    "print(\"Accuracy :\", metrics.accuracy_score(y, naive_bayes.predict(X)))"
   ]
  },
  {
   "cell_type": "code",
   "execution_count": 127,
   "id": "9ff0466c",
   "metadata": {},
   "outputs": [
    {
     "name": "stdout",
     "output_type": "stream",
     "text": [
      "AUC : 0.8771988519667637\n"
     ]
    }
   ],
   "source": [
    "print(\"AUC :\", metrics.roc_auc_score(y, naive_bayes.predict_proba(X)[:,1]))"
   ]
  },
  {
   "cell_type": "markdown",
   "id": "08368f4b",
   "metadata": {},
   "source": [
    "#### Write a Function to  detect the model’s Accuracy by applying the trained model on a testing dataset to find the predicted labels of Status."
   ]
  },
  {
   "cell_type": "code",
   "execution_count": 128,
   "id": "6091d35f",
   "metadata": {},
   "outputs": [
    {
     "name": "stdout",
     "output_type": "stream",
     "text": [
      "Confusion matrix :\n",
      " [[84111  4611]\n",
      " [13663  8138]]\n",
      "classification report :\n",
      "               precision    recall  f1-score   support\n",
      "\n",
      "           0       0.86      0.95      0.90     88722\n",
      "           1       0.64      0.37      0.47     21801\n",
      "\n",
      "    accuracy                           0.83    110523\n",
      "   macro avg       0.75      0.66      0.69    110523\n",
      "weighted avg       0.82      0.83      0.82    110523\n",
      "\n"
     ]
    }
   ],
   "source": [
    "print(\"Confusion matrix :\\n\",metrics.confusion_matrix(y, naive_bayes.predict(X)))\n",
    "print(\"classification report :\\n\", metrics.classification_report(y, naive_bayes.predict(X)))"
   ]
  },
  {
   "cell_type": "code",
   "execution_count": 129,
   "id": "6779d5fb",
   "metadata": {},
   "outputs": [
    {
     "data": {
      "text/plain": [
       "0.8345267947160251"
      ]
     },
     "execution_count": 129,
     "metadata": {},
     "output_type": "execute_result"
    }
   ],
   "source": [
    "metrics.accuracy_score(naive_bayes.predict (X_train), y_train)"
   ]
  },
  {
   "cell_type": "code",
   "execution_count": 130,
   "id": "b56d98d4",
   "metadata": {},
   "outputs": [
    {
     "data": {
      "text/plain": [
       "0.8349669752993335"
      ]
     },
     "execution_count": 130,
     "metadata": {},
     "output_type": "execute_result"
    }
   ],
   "source": [
    "metrics.accuracy_score(naive_bayes.predict (X_test), y_test)"
   ]
  },
  {
   "cell_type": "markdown",
   "id": "1a26bfa9",
   "metadata": {},
   "source": [
    "### The training accuracy is very close to the testing accuracy. Althougt the Accuracy is 0.83 both in training and testing, it is not too high, the predition is good fit"
   ]
  },
  {
   "cell_type": "code",
   "execution_count": 131,
   "id": "18ca608b",
   "metadata": {},
   "outputs": [],
   "source": [
    "fpr, tpr, _ = metrics.roc_curve(y, naive_bayes.predict_proba(X)[:,1])"
   ]
  },
  {
   "cell_type": "code",
   "execution_count": 132,
   "id": "cf3a0b01",
   "metadata": {},
   "outputs": [
    {
     "name": "stdout",
     "output_type": "stream",
     "text": [
      "ROC AUC: 0.877\n"
     ]
    }
   ],
   "source": [
    "roc_auc = metrics.auc(fpr, tpr)\n",
    "print('ROC AUC: %0.3f' % roc_auc) "
   ]
  },
  {
   "cell_type": "code",
   "execution_count": 133,
   "id": "6de30c2a",
   "metadata": {},
   "outputs": [
    {
     "data": {
      "text/plain": [
       "[<matplotlib.lines.Line2D at 0x7f8d6cbe13a0>]"
      ]
     },
     "execution_count": 133,
     "metadata": {},
     "output_type": "execute_result"
    },
    {
     "data": {
      "image/png": "[encoded data removed]",
      "text/plain": [
       "<Figure size 640x480 with 1 Axes>"
      ]
     },
     "metadata": {},
     "output_type": "display_data"
    }
   ],
   "source": [
    "plt.figure()\n",
    "plt.plot(fpr, tpr, label='ROC curve (area = %0.2f)' % roc_auc)"
   ]
  },
  {
   "cell_type": "code",
   "execution_count": 134,
   "id": "5a5de0eb",
   "metadata": {},
   "outputs": [
    {
     "data": {
      "image/png": "[encoded data removed]",
      "text/plain": [
       "<Figure size 640x480 with 1 Axes>"
      ]
     },
     "metadata": {},
     "output_type": "display_data"
    }
   ],
   "source": [
    "plt.figure()\n",
    "plt.plot(fpr, tpr, label='ROC curve (area = %0.3f)' % roc_auc)\n",
    "plt.plot([0, 1], [0, 1], 'k--')\n",
    "plt.xlim([0.0, 1.0])\n",
    "plt.ylim([0.0, 1.05])\n",
    "plt.xlabel('False Positive Rate')\n",
    "plt.ylabel('True Positive Rate')\n",
    "plt.title('ROC Curve')\n",
    "plt.legend(loc=\"lower right\")\n",
    "plt.show()"
   ]
  },
  {
   "cell_type": "markdown",
   "id": "d8fabf1f",
   "metadata": {},
   "source": [
    "### The ROC graph summarizes all of the confusion matrices that each threshold produced. The AUC is 0.877. "
   ]
  },
  {
   "cell_type": "markdown",
   "id": "4a1b0e6a",
   "metadata": {},
   "source": [
    "### 2.Tune the model using GridSearchCV\n"
   ]
  },
  {
   "cell_type": "markdown",
   "id": "cf0fc39e",
   "metadata": {},
   "source": [
    "#### Hyperparameters: Meta parameters associated with any ML algorithm, usually set before model training & building process.The GridSearchCV() function can perform the typical function of a classifier such as FIT, Score and predit."
   ]
  },
  {
   "cell_type": "code",
   "execution_count": 144,
   "id": "ae55ce42",
   "metadata": {},
   "outputs": [],
   "source": [
    "from sklearn.model_selection import GridSearchCV\n",
    "#Return evenly spaced values within a given interval.\n",
    "max_features_range =np.arange(1,6,1)\n",
    "n_estimator_range=np.arange(10,210,10)\n",
    "seed = 2017"
   ]
  },
  {
   "cell_type": "code",
   "execution_count": 141,
   "id": "50d07c68",
   "metadata": {},
   "outputs": [],
   "source": [
    "#Normalize\n",
    "from sklearn.preprocessing import StandardScaler\n",
    "seed = 2017\n",
    "X = StandardScaler().fit_transform(X)"
   ]
  },
  {
   "cell_type": "code",
   "execution_count": 163,
   "id": "4c4872a8",
   "metadata": {},
   "outputs": [],
   "source": [
    "# K fold cross validation, CV=5\n",
    "#evaluate the model by splitting into train and test sets\n",
    "from sklearn.model_selection import cross_val_score\n",
    "param_grid_nb = {\n",
    "    'var_smoothing': np.logspace(0,-2, num=100)\n",
    "}\n",
    "kfold = GridSearchCV(estimator=GaussianNB(), param_grid=param_grid_nb, verbose=1, cv=5, n_jobs=-1)"
   ]
  },
  {
   "cell_type": "code",
   "execution_count": 170,
   "id": "853fe46d",
   "metadata": {},
   "outputs": [
    {
     "name": "stdout",
     "output_type": "stream",
     "text": [
      "Fitting 5 folds for each of 100 candidates, totalling 500 fits\n"
     ]
    },
    {
     "data": {
      "text/plain": [
       "GridSearchCV(cv=5, estimator=GaussianNB(), n_jobs=-1,\n",
       "             param_grid={'var_smoothing': array([1.        , 0.95454846, 0.91116276, 0.869749  , 0.83021757,\n",
       "       0.7924829 , 0.75646333, 0.7220809 , 0.68926121, 0.65793322,\n",
       "       0.62802914, 0.59948425, 0.57223677, 0.54622772, 0.52140083,\n",
       "       0.49770236, 0.47508102, 0.45348785, 0.43287613, 0.41320124,\n",
       "       0.39442061, 0.37649358, 0.35938137, 0.34304693, 0.32745492,\n",
       "       0...\n",
       "       0.04862602, 0.04641589, 0.04430621, 0.04229243, 0.04037017,\n",
       "       0.03853529, 0.0367838 , 0.03511192, 0.03351603, 0.03199267,\n",
       "       0.03053856, 0.02915053, 0.02782559, 0.02656088, 0.02535364,\n",
       "       0.02420128, 0.0231013 , 0.02205131, 0.02104904, 0.02009233,\n",
       "       0.0191791 , 0.01830738, 0.01747528, 0.01668101, 0.01592283,\n",
       "       0.01519911, 0.01450829, 0.01384886, 0.01321941, 0.01261857,\n",
       "       0.01204504, 0.01149757, 0.01097499, 0.01047616, 0.01      ])},\n",
       "             verbose=1)"
      ]
     },
     "execution_count": 170,
     "metadata": {},
     "output_type": "execute_result"
    }
   ],
   "source": [
    "kfold.fit(X_train, y_train)"
   ]
  },
  {
   "cell_type": "code",
   "execution_count": 169,
   "id": "a01c19b0",
   "metadata": {},
   "outputs": [
    {
     "name": "stdout",
     "output_type": "stream",
     "text": [
      "Best Parameters: {'var_smoothing': 1.0}\n"
     ]
    }
   ],
   "source": [
    "# Get the best hyperparameters\n",
    "best_params = kfold.best_params_\n",
    "print('Best Parameters:', best_params)\n",
    "\n",
    "# Get the best model\n",
    "best_gnb = kfold.best_estimator_"
   ]
  },
  {
   "cell_type": "markdown",
   "id": "6006e8ab",
   "metadata": {},
   "source": [
    "### 3.Using the same data set partitioning method, evaluate the performance of a SVM and Decision tree classifier on the dataset. Compare the results of the Naïve Bayes classifier with SVM and Decision tree model according to the following criteria: Accuracy, Sensitivity, Specificity & F1 score. Identify the model that performed best and worst according to each criterion"
   ]
  },
  {
   "cell_type": "code",
   "execution_count": null,
   "id": "8a6a604e",
   "metadata": {},
   "outputs": [],
   "source": [
    "from sklearn.svm import SVC\n",
    "from sklearn import metrics\n",
    "svm = SVC()\n",
    "svm.fit(X_train, y_train)\n",
    "svm_pred = svm.predict(X_test)\n",
    "svm_report = classification_report(y_test, svm_pred)\n"
   ]
  },
  {
   "cell_type": "code",
   "execution_count": null,
   "id": "b0375aae",
   "metadata": {},
   "outputs": [],
   "source": [
    "print(\"Accuracy :\", metrics.accuracy_score(y, svm.predict(X)))"
   ]
  },
  {
   "cell_type": "code",
   "execution_count": null,
   "id": "98fd9eb5",
   "metadata": {},
   "outputs": [],
   "source": []
  }
 ],
 "metadata": {
  "kernelspec": {
   "display_name": "Python 3 (ipykernel)",
   "language": "python",
   "name": "python3"
  },
  "language_info": {
   "codemirror_mode": {
    "name": "ipython",
    "version": 3
   },
   "file_extension": ".py",
   "mimetype": "text/x-python",
   "name": "python",
   "nbconvert_exporter": "python",
   "pygments_lexer": "ipython3",
   "version": "3.9.13"
  }
 },
 "nbformat": 4,
 "nbformat_minor": 5
}
